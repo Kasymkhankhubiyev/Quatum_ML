{
  "nbformat": 4,
  "nbformat_minor": 0,
  "metadata": {
    "colab": {
      "provenance": []
    },
    "kernelspec": {
      "name": "python3",
      "display_name": "Python 3"
    },
    "language_info": {
      "name": "python"
    }
  },
  "cells": [
    {
      "cell_type": "code",
      "execution_count": 1,
      "metadata": {
        "colab": {
          "base_uri": "https://localhost:8080/"
        },
        "id": "a9n87OtiYYeH",
        "outputId": "666bd0c2-419b-470a-d088-457e15404b4b"
      },
      "outputs": [
        {
          "output_type": "stream",
          "name": "stdout",
          "text": [
            "Looking in indexes: https://pypi.org/simple, https://us-python.pkg.dev/colab-wheels/public/simple/\n",
            "Collecting pennylane\n",
            "  Downloading PennyLane-0.29.1-py3-none-any.whl (1.3 MB)\n",
            "\u001b[2K     \u001b[90m━━━━━━━━━━━━━━━━━━━━━━━━━━━━━━━━━━━━━━━━\u001b[0m \u001b[32m1.3/1.3 MB\u001b[0m \u001b[31m15.5 MB/s\u001b[0m eta \u001b[36m0:00:00\u001b[0m\n",
            "\u001b[?25hRequirement already satisfied: numpy<1.24 in /usr/local/lib/python3.9/dist-packages (from pennylane) (1.22.4)\n",
            "Requirement already satisfied: appdirs in /usr/local/lib/python3.9/dist-packages (from pennylane) (1.4.4)\n",
            "Collecting semantic-version>=2.7\n",
            "  Downloading semantic_version-2.10.0-py2.py3-none-any.whl (15 kB)\n",
            "Requirement already satisfied: requests in /usr/local/lib/python3.9/dist-packages (from pennylane) (2.27.1)\n",
            "Requirement already satisfied: networkx in /usr/local/lib/python3.9/dist-packages (from pennylane) (3.1)\n",
            "Collecting retworkx\n",
            "  Downloading retworkx-0.12.1-py3-none-any.whl (10 kB)\n",
            "Requirement already satisfied: toml in /usr/local/lib/python3.9/dist-packages (from pennylane) (0.10.2)\n",
            "Requirement already satisfied: autograd in /usr/local/lib/python3.9/dist-packages (from pennylane) (1.5)\n",
            "Collecting autoray>=0.3.1\n",
            "  Downloading autoray-0.6.3-py3-none-any.whl (48 kB)\n",
            "\u001b[2K     \u001b[90m━━━━━━━━━━━━━━━━━━━━━━━━━━━━━━━━━━━━━━━━\u001b[0m \u001b[32m48.3/48.3 kB\u001b[0m \u001b[31m3.8 MB/s\u001b[0m eta \u001b[36m0:00:00\u001b[0m\n",
            "\u001b[?25hCollecting pennylane-lightning>=0.28\n",
            "  Downloading PennyLane_Lightning-0.29.0-cp39-cp39-manylinux_2_17_x86_64.manylinux2014_x86_64.whl (16.5 MB)\n",
            "\u001b[2K     \u001b[90m━━━━━━━━━━━━━━━━━━━━━━━━━━━━━━━━━━━━━━━━\u001b[0m \u001b[32m16.5/16.5 MB\u001b[0m \u001b[31m30.7 MB/s\u001b[0m eta \u001b[36m0:00:00\u001b[0m\n",
            "\u001b[?25hRequirement already satisfied: cachetools in /usr/local/lib/python3.9/dist-packages (from pennylane) (5.3.0)\n",
            "Requirement already satisfied: scipy in /usr/local/lib/python3.9/dist-packages (from pennylane) (1.10.1)\n",
            "Requirement already satisfied: future>=0.15.2 in /usr/local/lib/python3.9/dist-packages (from autograd->pennylane) (0.18.3)\n",
            "Requirement already satisfied: urllib3<1.27,>=1.21.1 in /usr/local/lib/python3.9/dist-packages (from requests->pennylane) (1.26.15)\n",
            "Requirement already satisfied: certifi>=2017.4.17 in /usr/local/lib/python3.9/dist-packages (from requests->pennylane) (2022.12.7)\n",
            "Requirement already satisfied: charset-normalizer~=2.0.0 in /usr/local/lib/python3.9/dist-packages (from requests->pennylane) (2.0.12)\n",
            "Requirement already satisfied: idna<4,>=2.5 in /usr/local/lib/python3.9/dist-packages (from requests->pennylane) (3.4)\n",
            "Collecting rustworkx==0.12.1\n",
            "  Downloading rustworkx-0.12.1-cp39-cp39-manylinux_2_17_x86_64.manylinux2014_x86_64.whl (1.9 MB)\n",
            "\u001b[2K     \u001b[90m━━━━━━━━━━━━━━━━━━━━━━━━━━━━━━━━━━━━━━━━\u001b[0m \u001b[32m1.9/1.9 MB\u001b[0m \u001b[31m46.5 MB/s\u001b[0m eta \u001b[36m0:00:00\u001b[0m\n",
            "\u001b[?25hInstalling collected packages: semantic-version, rustworkx, autoray, retworkx, pennylane-lightning, pennylane\n",
            "Successfully installed autoray-0.6.3 pennylane-0.29.1 pennylane-lightning-0.29.0 retworkx-0.12.1 rustworkx-0.12.1 semantic-version-2.10.0\n",
            "Looking in indexes: https://pypi.org/simple, https://us-python.pkg.dev/colab-wheels/public/simple/\n",
            "Collecting pennylane-sf\n",
            "  Downloading PennyLane_SF-0.29.0-py3-none-any.whl (29 kB)\n",
            "Collecting strawberryfields>=0.22\n",
            "  Downloading StrawberryFields-0.23.0-py3-none-any.whl (4.9 MB)\n",
            "\u001b[2K     \u001b[90m━━━━━━━━━━━━━━━━━━━━━━━━━━━━━━━━━━━━━━━━\u001b[0m \u001b[32m4.9/4.9 MB\u001b[0m \u001b[31m16.8 MB/s\u001b[0m eta \u001b[36m0:00:00\u001b[0m\n",
            "\u001b[?25hRequirement already satisfied: pennylane>=0.19 in /usr/local/lib/python3.9/dist-packages (from pennylane-sf) (0.29.1)\n",
            "Requirement already satisfied: semantic-version>=2.7 in /usr/local/lib/python3.9/dist-packages (from pennylane>=0.19->pennylane-sf) (2.10.0)\n",
            "Requirement already satisfied: appdirs in /usr/local/lib/python3.9/dist-packages (from pennylane>=0.19->pennylane-sf) (1.4.4)\n",
            "Requirement already satisfied: autoray>=0.3.1 in /usr/local/lib/python3.9/dist-packages (from pennylane>=0.19->pennylane-sf) (0.6.3)\n",
            "Requirement already satisfied: requests in /usr/local/lib/python3.9/dist-packages (from pennylane>=0.19->pennylane-sf) (2.27.1)\n",
            "Requirement already satisfied: toml in /usr/local/lib/python3.9/dist-packages (from pennylane>=0.19->pennylane-sf) (0.10.2)\n",
            "Requirement already satisfied: autograd in /usr/local/lib/python3.9/dist-packages (from pennylane>=0.19->pennylane-sf) (1.5)\n",
            "Requirement already satisfied: retworkx in /usr/local/lib/python3.9/dist-packages (from pennylane>=0.19->pennylane-sf) (0.12.1)\n",
            "Requirement already satisfied: cachetools in /usr/local/lib/python3.9/dist-packages (from pennylane>=0.19->pennylane-sf) (5.3.0)\n",
            "Requirement already satisfied: pennylane-lightning>=0.28 in /usr/local/lib/python3.9/dist-packages (from pennylane>=0.19->pennylane-sf) (0.29.0)\n",
            "Requirement already satisfied: numpy<1.24 in /usr/local/lib/python3.9/dist-packages (from pennylane>=0.19->pennylane-sf) (1.22.4)\n",
            "Requirement already satisfied: networkx in /usr/local/lib/python3.9/dist-packages (from pennylane>=0.19->pennylane-sf) (3.1)\n",
            "Requirement already satisfied: scipy in /usr/local/lib/python3.9/dist-packages (from pennylane>=0.19->pennylane-sf) (1.10.1)\n",
            "Requirement already satisfied: python-dateutil>=2.8.0 in /usr/local/lib/python3.9/dist-packages (from strawberryfields>=0.22->pennylane-sf) (2.8.2)\n",
            "Collecting xanadu-cloud-client>=0.2.1\n",
            "  Downloading xanadu_cloud_client-0.3.0-py3-none-any.whl (25 kB)\n",
            "Collecting quantum-xir>=0.1.1\n",
            "  Downloading quantum_xir-0.2.2-py3-none-any.whl (27 kB)\n",
            "Collecting quantum-blackbird>=0.3.0\n",
            "  Downloading quantum_blackbird-0.5.0-py3-none-any.whl (48 kB)\n",
            "\u001b[2K     \u001b[90m━━━━━━━━━━━━━━━━━━━━━━━━━━━━━━━━━━━━━━━━\u001b[0m \u001b[32m48.0/48.0 kB\u001b[0m \u001b[31m2.5 MB/s\u001b[0m eta \u001b[36m0:00:00\u001b[0m\n",
            "\u001b[?25hRequirement already satisfied: numba in /usr/local/lib/python3.9/dist-packages (from strawberryfields>=0.22->pennylane-sf) (0.56.4)\n",
            "Collecting thewalrus>=0.18.0\n",
            "  Downloading thewalrus-0.20.0.tar.gz (108 kB)\n",
            "\u001b[2K     \u001b[90m━━━━━━━━━━━━━━━━━━━━━━━━━━━━━━━━━━━━━━\u001b[0m \u001b[32m108.6/108.6 kB\u001b[0m \u001b[31m11.6 MB/s\u001b[0m eta \u001b[36m0:00:00\u001b[0m\n",
            "\u001b[?25h  Preparing metadata (setup.py) ... \u001b[?25l\u001b[?25hdone\n",
            "Requirement already satisfied: sympy>=1.5 in /usr/local/lib/python3.9/dist-packages (from strawberryfields>=0.22->pennylane-sf) (1.11.1)\n",
            "Requirement already satisfied: urllib3>=1.25.3 in /usr/local/lib/python3.9/dist-packages (from strawberryfields>=0.22->pennylane-sf) (1.26.15)\n",
            "Requirement already satisfied: six>=1.5 in /usr/local/lib/python3.9/dist-packages (from python-dateutil>=2.8.0->strawberryfields>=0.22->pennylane-sf) (1.16.0)\n",
            "Collecting antlr4-python3-runtime==4.9.2\n",
            "  Downloading antlr4-python3-runtime-4.9.2.tar.gz (117 kB)\n",
            "\u001b[2K     \u001b[90m━━━━━━━━━━━━━━━━━━━━━━━━━━━━━━━━━━━━━━\u001b[0m \u001b[32m117.2/117.2 kB\u001b[0m \u001b[31m10.4 MB/s\u001b[0m eta \u001b[36m0:00:00\u001b[0m\n",
            "\u001b[?25h  Preparing metadata (setup.py) ... \u001b[?25l\u001b[?25hdone\n",
            "Collecting lark-parser>=0.11.0\n",
            "  Downloading lark_parser-0.12.0-py2.py3-none-any.whl (103 kB)\n",
            "\u001b[2K     \u001b[90m━━━━━━━━━━━━━━━━━━━━━━━━━━━━━━━━━━━━━━━\u001b[0m \u001b[32m103.5/103.5 kB\u001b[0m \u001b[31m1.2 MB/s\u001b[0m eta \u001b[36m0:00:00\u001b[0m\n",
            "\u001b[?25hRequirement already satisfied: charset-normalizer~=2.0.0 in /usr/local/lib/python3.9/dist-packages (from requests->pennylane>=0.19->pennylane-sf) (2.0.12)\n",
            "Requirement already satisfied: certifi>=2017.4.17 in /usr/local/lib/python3.9/dist-packages (from requests->pennylane>=0.19->pennylane-sf) (2022.12.7)\n",
            "Requirement already satisfied: idna<4,>=2.5 in /usr/local/lib/python3.9/dist-packages (from requests->pennylane>=0.19->pennylane-sf) (3.4)\n",
            "Requirement already satisfied: mpmath>=0.19 in /usr/local/lib/python3.9/dist-packages (from sympy>=1.5->strawberryfields>=0.22->pennylane-sf) (1.3.0)\n",
            "Requirement already satisfied: dask[delayed] in /usr/local/lib/python3.9/dist-packages (from thewalrus>=0.18.0->strawberryfields>=0.22->pennylane-sf) (2022.12.1)\n",
            "Requirement already satisfied: setuptools in /usr/local/lib/python3.9/dist-packages (from numba->strawberryfields>=0.22->pennylane-sf) (67.6.1)\n",
            "Requirement already satisfied: llvmlite<0.40,>=0.39.0dev0 in /usr/local/lib/python3.9/dist-packages (from numba->strawberryfields>=0.22->pennylane-sf) (0.39.1)\n",
            "Collecting fire\n",
            "  Downloading fire-0.5.0.tar.gz (88 kB)\n",
            "\u001b[2K     \u001b[90m━━━━━━━━━━━━━━━━━━━━━━━━━━━━━━━━━━━━━━━━\u001b[0m \u001b[32m88.3/88.3 kB\u001b[0m \u001b[31m7.6 MB/s\u001b[0m eta \u001b[36m0:00:00\u001b[0m\n",
            "\u001b[?25h  Preparing metadata (setup.py) ... \u001b[?25l\u001b[?25hdone\n",
            "Requirement already satisfied: pydantic[dotenv] in /usr/local/lib/python3.9/dist-packages (from xanadu-cloud-client>=0.2.1->strawberryfields>=0.22->pennylane-sf) (1.10.7)\n",
            "Requirement already satisfied: future>=0.15.2 in /usr/local/lib/python3.9/dist-packages (from autograd->pennylane>=0.19->pennylane-sf) (0.18.3)\n",
            "Requirement already satisfied: rustworkx==0.12.1 in /usr/local/lib/python3.9/dist-packages (from retworkx->pennylane>=0.19->pennylane-sf) (0.12.1)\n",
            "Requirement already satisfied: partd>=0.3.10 in /usr/local/lib/python3.9/dist-packages (from dask[delayed]->thewalrus>=0.18.0->strawberryfields>=0.22->pennylane-sf) (1.4.0)\n",
            "Requirement already satisfied: fsspec>=0.6.0 in /usr/local/lib/python3.9/dist-packages (from dask[delayed]->thewalrus>=0.18.0->strawberryfields>=0.22->pennylane-sf) (2023.4.0)\n",
            "Requirement already satisfied: packaging>=20.0 in /usr/local/lib/python3.9/dist-packages (from dask[delayed]->thewalrus>=0.18.0->strawberryfields>=0.22->pennylane-sf) (23.1)\n",
            "Requirement already satisfied: pyyaml>=5.3.1 in /usr/local/lib/python3.9/dist-packages (from dask[delayed]->thewalrus>=0.18.0->strawberryfields>=0.22->pennylane-sf) (6.0)\n",
            "Requirement already satisfied: cloudpickle>=1.1.1 in /usr/local/lib/python3.9/dist-packages (from dask[delayed]->thewalrus>=0.18.0->strawberryfields>=0.22->pennylane-sf) (2.2.1)\n",
            "Requirement already satisfied: click>=7.0 in /usr/local/lib/python3.9/dist-packages (from dask[delayed]->thewalrus>=0.18.0->strawberryfields>=0.22->pennylane-sf) (8.1.3)\n",
            "Requirement already satisfied: toolz>=0.8.2 in /usr/local/lib/python3.9/dist-packages (from dask[delayed]->thewalrus>=0.18.0->strawberryfields>=0.22->pennylane-sf) (0.12.0)\n",
            "Requirement already satisfied: termcolor in /usr/local/lib/python3.9/dist-packages (from fire->xanadu-cloud-client>=0.2.1->strawberryfields>=0.22->pennylane-sf) (2.2.0)\n",
            "Requirement already satisfied: typing-extensions>=4.2.0 in /usr/local/lib/python3.9/dist-packages (from pydantic[dotenv]->xanadu-cloud-client>=0.2.1->strawberryfields>=0.22->pennylane-sf) (4.5.0)\n",
            "Collecting python-dotenv>=0.10.4\n",
            "  Downloading python_dotenv-1.0.0-py3-none-any.whl (19 kB)\n",
            "Requirement already satisfied: locket in /usr/local/lib/python3.9/dist-packages (from partd>=0.3.10->dask[delayed]->thewalrus>=0.18.0->strawberryfields>=0.22->pennylane-sf) (1.0.0)\n",
            "Building wheels for collected packages: antlr4-python3-runtime, thewalrus, fire\n",
            "  Building wheel for antlr4-python3-runtime (setup.py) ... \u001b[?25l\u001b[?25hdone\n",
            "  Created wheel for antlr4-python3-runtime: filename=antlr4_python3_runtime-4.9.2-py3-none-any.whl size=144564 sha256=874ddf1654b52ad669dde8c7105023ae63215bc89299e2eb8216d11a3f813623\n",
            "  Stored in directory: /root/.cache/pip/wheels/0c/dc/1c/57974cae05c0a98c8d8590c471bdd8e953fcf18b14fa0890b7\n",
            "  Building wheel for thewalrus (setup.py) ... \u001b[?25l\u001b[?25hdone\n",
            "  Created wheel for thewalrus: filename=thewalrus-0.20.0-py3-none-any.whl size=91872 sha256=9f8b2721d0d8a482751289152c7b1fd6db489c2a4a9f30d51d31c7b92b2c087e\n",
            "  Stored in directory: /root/.cache/pip/wheels/e5/7e/ae/eb1f89f2912e2a1f0d67a820d78c7c1eb79b894cf40be71e3e\n",
            "  Building wheel for fire (setup.py) ... \u001b[?25l\u001b[?25hdone\n",
            "  Created wheel for fire: filename=fire-0.5.0-py2.py3-none-any.whl size=116952 sha256=1efffe99edbbac1e625b7bce2355a1fda3c9afd47ba088c5a5893378f0d53db5\n",
            "  Stored in directory: /root/.cache/pip/wheels/f7/f1/89/b9ea2bf8f80ec027a88fef1d354b3816b4d3d29530988972f6\n",
            "Successfully built antlr4-python3-runtime thewalrus fire\n",
            "Installing collected packages: lark-parser, antlr4-python3-runtime, quantum-xir, python-dotenv, fire, quantum-blackbird, xanadu-cloud-client, thewalrus, strawberryfields, pennylane-sf\n",
            "Successfully installed antlr4-python3-runtime-4.9.2 fire-0.5.0 lark-parser-0.12.0 pennylane-sf-0.29.0 python-dotenv-1.0.0 quantum-blackbird-0.5.0 quantum-xir-0.2.2 strawberryfields-0.23.0 thewalrus-0.20.0 xanadu-cloud-client-0.3.0\n",
            "Looking in indexes: https://pypi.org/simple, https://us-python.pkg.dev/colab-wheels/public/simple/\n",
            "Collecting nlopt\n",
            "  Downloading nlopt-2.7.1-cp39-cp39-manylinux_2_17_x86_64.manylinux2014_x86_64.whl (423 kB)\n",
            "\u001b[2K     \u001b[90m━━━━━━━━━━━━━━━━━━━━━━━━━━━━━━━━━━━━━━━\u001b[0m \u001b[32m423.6/423.6 kB\u001b[0m \u001b[31m8.8 MB/s\u001b[0m eta \u001b[36m0:00:00\u001b[0m\n",
            "\u001b[?25hRequirement already satisfied: numpy>=1.14 in /usr/local/lib/python3.9/dist-packages (from nlopt) (1.22.4)\n",
            "Installing collected packages: nlopt\n",
            "Successfully installed nlopt-2.7.1\n"
          ]
        }
      ],
      "source": [
        "!pip install pennylane\n",
        "!python -m pip install pennylane-sf\n",
        "!pip install nlopt"
      ]
    },
    {
      "cell_type": "code",
      "source": [
        "#!/usr/bin/env python3\n",
        "import pennylane as qml\n",
        "from pennylane import numpy as np\n",
        "from pennylane.templates import RandomLayers\n",
        "import tensorflow as tf\n",
        "from tensorflow import keras\n",
        "import matplotlib.pyplot as plt\n",
        "\n",
        "import nlopt\n",
        "import strawberryfields as sf\n",
        "from strawberryfields import ops\n",
        "\n",
        "# OpenMP: number of parallel threads.\n",
        "%env OMP_NUM_THREADS=1\n",
        "\n",
        "# Plotting\n",
        "%matplotlib inline\n",
        "import matplotlib.pyplot as plt\n",
        "\n",
        "# Other tools\n",
        "import time\n",
        "import os\n",
        "import copy\n"
      ],
      "metadata": {
        "id": "kXoJ6msQYmjs",
        "colab": {
          "base_uri": "https://localhost:8080/"
        },
        "outputId": "5f84e4cf-40ca-4322-cafa-b01195181b5e"
      },
      "execution_count": 2,
      "outputs": [
        {
          "output_type": "stream",
          "name": "stdout",
          "text": [
            "env: OMP_NUM_THREADS=1\n"
          ]
        }
      ]
    },
    {
      "cell_type": "code",
      "source": [
        "np.random.seed(0)"
      ],
      "metadata": {
        "id": "GWGtTWUtImzN"
      },
      "execution_count": 28,
      "outputs": []
    },
    {
      "cell_type": "markdown",
      "source": [
        "# Dataset"
      ],
      "metadata": {
        "id": "bv2wjtS3BooV"
      }
    },
    {
      "cell_type": "code",
      "source": [
        "def create_data_set(drop: float):\n",
        "    np.random.seed(0)\n",
        "    l = 150\n",
        "    n = 2\n",
        "\n",
        "    X1 = np.array([[-1, -1]]) + drop*np.random.randn(l, n)\n",
        "    X2 = np.array([[1, 1]]) + drop*np.random.randn(l, n)\n",
        "\n",
        "    #конкатенируем все в одну матрицу\n",
        "    #при этом по 20 точек оставим на тест/валидацию\n",
        "    X = np.vstack((X1[10:], X2[10:]))\n",
        "    ValX = np.vstack((X1[:10], X2[:10]))\n",
        "\n",
        "    #конкатенируем все в один столбец с соответствующими значениями для класса 0 или 1\n",
        "    y = np.hstack([[0]*(l-10), [1]*(l-10)])\n",
        "    ValY = np.hstack([[0]*10, [1]*10])\n",
        "\n",
        "    return np.array(X, requires_grad=False), np.array(y, requires_grad=False), np.array(ValX, requires_grad=False), np.array(ValY, requires_grad=False)"
      ],
      "metadata": {
        "id": "twMUvz6rZ0id"
      },
      "execution_count": 3,
      "outputs": []
    },
    {
      "cell_type": "code",
      "source": [
        "def visualize_dataset(trainX, trainY, ValX, ValY)-> None:\n",
        "    colors = ['blue', 'red', 'yellow', 'green']\n",
        "\n",
        "    for k in np.unique(trainY):\n",
        "        plt.plot(trainX[trainY==k, 0], trainX[trainY==k, 1], 'o', label='class {}'.format(k), color = colors[k])\n",
        "\n",
        "    for k in np.unique(ValY):\n",
        "        plt.plot(ValX[ValY==k, 0], ValX[ValY==k, 1], 'o', label='class {}'.format(k), color = colors[k+2])\n",
        "\n",
        "    plt.legend(loc='best')\n",
        "    plt.show()\n",
        "    plt.close()"
      ],
      "metadata": {
        "id": "NP3wsnX6aGPr"
      },
      "execution_count": 4,
      "outputs": []
    },
    {
      "cell_type": "code",
      "source": [
        "trainX, trainY, ValX, ValY = create_data_set(0.5)\n",
        "\n",
        "visualize_dataset(trainX, trainY, ValX, ValY)"
      ],
      "metadata": {
        "colab": {
          "base_uri": "https://localhost:8080/",
          "height": 430
        },
        "id": "ImWbo2AdaPb3",
        "outputId": "ed21c181-31d3-498c-b21d-b089b30e1279"
      },
      "execution_count": 5,
      "outputs": [
        {
          "output_type": "display_data",
          "data": {
            "text/plain": [
              "<Figure size 640x480 with 1 Axes>"
            ],
            "image/png": "[encoded data removed]"
          },
          "metadata": {}
        }
      ]
    },
    {
      "cell_type": "markdown",
      "source": [
        "# Model"
      ],
      "metadata": {
        "id": "BzmhLEaNBqte"
      }
    },
    {
      "cell_type": "code",
      "source": [
        "shots = 100  # кол-во измерений для набора статистики\n",
        "dev = qml.device(\"strawberryfields.fock\", wires=2, cutoff_dim=5, shots=shots)"
      ],
      "metadata": {
        "id": "qkw0cZvDYz5g"
      },
      "execution_count": 92,
      "outputs": []
    },
    {
      "cell_type": "code",
      "source": [
        "params_num = 8\n",
        "params = np.array([0.5]*params_num, requires_grad=True)\n",
        "\n",
        "\n",
        "def layer(params, sample):\n",
        "    for j in range(2):\n",
        "        qml.Squeezing(1.5, sample[j], wires=j)\n",
        "    \n",
        "    qml.Beamsplitter(params[0], params[1], wires=[0, 1])\n",
        "    qml.Rotation(params[2], wires=0)\n",
        "    qml.Rotation(params[3], wires=1)\n",
        "    # Dgate(r, phi=0.0)\n",
        "    qml.Displacement(params[4], 0.0, wires=0)\n",
        "    qml.Displacement(params[5], 0.0, wires=1)\n",
        "    qml.Kerr(params[6], wires=0)\n",
        "    qml.Kerr(params[7], wires=1)\n",
        "\n",
        "\n",
        "@qml.qnode(dev)\n",
        "def circuit_0(params, sample):\n",
        "    layer(params, sample)\n",
        "    return qml.expval(op=qml.FockStateProjector(np.array([2,0], requires_grad=False), wires=[0,1]))\n",
        "\n",
        "\n",
        "@qml.qnode(dev)\n",
        "def circuit_1(params, sample):\n",
        "    layer(params, sample)\n",
        "    return qml.expval(op=qml.FockStateProjector(np.array([0,2], requires_grad=False), wires=[0,1]))\n",
        "\n",
        "\n",
        "def classifier(params, x):\n",
        "    o0 = circuit_0(params,x)\n",
        "    o1 = circuit_1(params,x)\n",
        "    p0 = o0/(o0+o1)\n",
        "    return p0  # , 1-p0"
      ],
      "metadata": {
        "id": "jGOXhNGFY5M4"
      },
      "execution_count": 93,
      "outputs": []
    },
    {
      "cell_type": "code",
      "source": [
        "dcircuit = qml.jacobian(classifier)\n",
        "dcircuit(params, trainX[0])"
      ],
      "metadata": {
        "colab": {
          "base_uri": "https://localhost:8080/"
        },
        "id": "yAtpHLLmxN3n",
        "outputId": "64b7862f-7efd-4807-dce5-1ca2d381e13f"
      },
      "execution_count": 94,
      "outputs": [
        {
          "output_type": "execute_result",
          "data": {
            "text/plain": [
              "array([-631082.56465197, 2698113.35639464, -190033.65704643,\n",
              "       4376488.21557412, 6875227.53739887, 1406428.51826527,\n",
              "       -211913.91854601, -785162.91581547])"
            ]
          },
          "metadata": {},
          "execution_count": 94
        }
      ]
    },
    {
      "cell_type": "code",
      "source": [
        "print(qml.draw(circuit_0)(params, trainX[10]))"
      ],
      "metadata": {
        "colab": {
          "base_uri": "https://localhost:8080/"
        },
        "id": "gUVlaNxMugzk",
        "outputId": "eefe3e74-d55f-4463-a849-f1e5a679ce67"
      },
      "execution_count": 95,
      "outputs": [
        {
          "output_type": "stream",
          "name": "stdout",
          "text": [
            "0: ──S(1.50,-1.52)─╭BS(0.50,0.50)──R(0.50)──D(0.50,0.00)──Kerr(0.50)─┤ ╭<|20⟩⟨20|>\n",
            "1: ──S(1.50,-1.71)─╰BS(0.50,0.50)──R(0.50)──D(0.50,0.00)──Kerr(0.50)─┤ ╰<|20⟩⟨20|>\n"
          ]
        }
      ]
    },
    {
      "cell_type": "code",
      "source": [
        "def square_loss(labels, predictions):\n",
        "    loss = np.sum((labels - np.absolute(predictions)) ** 2) / len(labels)\n",
        "    # print(loss)\n",
        "    return loss\n",
        "\n",
        "def log_loss(labels, predictions):\n",
        "    loss = 0\n",
        "    for i in range(len(labels)):\n",
        "        loss = loss - (labels[i] * np.log(predictions[i]) + (1 - predictions[i]) * np.log(predictions(1 - predictions[i])))\n",
        "\n",
        "    return loss\n",
        "\n",
        "# def accuracy(labels, predictions):\n",
        "#     acc = np.sum(np.where(np.abs(labels - predictions) < 1e-5, 1, 0))\n",
        "#     return acc\n",
        "\n",
        "# def square_loss(labels, predictions):\n",
        "#     loss = 0\n",
        "#     print(f'predictions: {predictions}')\n",
        "#     for l, p in zip(labels, np.absolute(predictions)):\n",
        "#         loss = loss + (l - p) ** 2\n",
        "#     loss = loss / len(labels)\n",
        "#     print(loss)\n",
        "#     return loss\n",
        "\n",
        "def accuracy(labels, predictions):\n",
        "    acc = 0\n",
        "    pred = np.round(predictions, requires_grad=False)\n",
        "    for l, p in zip(labels, np.absolute(pred, requires_grad=False)):\n",
        "        if abs(l - p) < 1e-5:\n",
        "            acc = acc + 1\n",
        "    acc = acc / len(labels)\n",
        "    return acc"
      ],
      "metadata": {
        "id": "pCuLExIsZup2"
      },
      "execution_count": 96,
      "outputs": []
    },
    {
      "cell_type": "code",
      "source": [
        "def cost(var, data_input, labels):\n",
        "    predictions = np.array([classifier(var, x) for x in data_input], requires_grad=True)\n",
        "    squared_loss = square_loss(labels, predictions)\n",
        "    \n",
        "    return np.absolute(squared_loss)"
      ],
      "metadata": {
        "id": "6D0DPVIeZyxI"
      },
      "execution_count": 97,
      "outputs": []
    },
    {
      "cell_type": "code",
      "source": [
        "train_loss_history, train_acc_history = [], []\n",
        "val_loss_history, val_acc_history = [], []\n",
        "\n",
        "optimizer = qml.optimize.AdamOptimizer(stepsize=0.35)\n",
        "# optimizer = qml.GradientDescentOptimizer(stepsize=0.01)\n",
        "steps = 40\n",
        "var = np.array([0.5]*params_num, requires_grad=True)\n",
        "for step in range(steps):\n",
        "    var = optimizer.step(lambda v: cost(v, trainX, trainY), var)\n",
        "\n",
        "    predictions = np.array([classifier(var, x) for x in ValX], requires_grad=False)\n",
        "    val_accuracy = accuracy(ValY, np.round(predictions))\n",
        "    val_loss = square_loss(ValY, predictions)\n",
        "\n",
        "    predictions = np.array([classifier(var, x) for x in trainX], requires_grad=False)\n",
        "    train_accuracy = accuracy(trainY, np.round(predictions))\n",
        "    train_loss = square_loss(trainY, predictions)\n",
        "\n",
        "    train_loss_history.append(train_loss)\n",
        "    train_acc_history.append(train_accuracy)\n",
        "    val_loss_history.append(val_loss)\n",
        "    val_acc_history.append(val_accuracy)\n",
        "\n",
        "    # if (step+1) % 5 == 0:\n",
        "    print(f\"Iter: {step+1:5d} | Train Loss: {train_loss:0.7f} | Train accuracy: {train_accuracy} | Val Loss: {val_loss:0.7f} | Val_accuracy: {val_accuracy} \")"
      ],
      "metadata": {
        "colab": {
          "base_uri": "https://localhost:8080/"
        },
        "id": "E1OMmi6YGeLG",
        "outputId": "467a9988-d956-4d2a-b126-03ec2daaf12e"
      },
      "execution_count": 98,
      "outputs": [
        {
          "output_type": "stream",
          "name": "stdout",
          "text": [
            "Iter:     1 | Train Loss: 4.6233555 | Train accuracy: 0.20357142857142857 | Val Loss: 0.4637509 | Val_accuracy: 0.25 \n",
            "Iter:     2 | Train Loss: 29.4602851 | Train accuracy: 0.3 | Val Loss: 0.4333409 | Val_accuracy: 0.35 \n",
            "Iter:     3 | Train Loss: 0.4411396 | Train accuracy: 0.325 | Val Loss: 0.5719434 | Val_accuracy: 0.3 \n",
            "Iter:     4 | Train Loss: 0.3138166 | Train accuracy: 0.5642857142857143 | Val Loss: 0.4034782 | Val_accuracy: 0.75 \n",
            "Iter:     5 | Train Loss: 0.5003112 | Train accuracy: 0.6535714285714286 | Val Loss: 0.1948763 | Val_accuracy: 0.65 \n",
            "Iter:     6 | Train Loss: 1.0073270 | Train accuracy: 0.5857142857142857 | Val Loss: 0.3608221 | Val_accuracy: 0.5 \n",
            "Iter:     7 | Train Loss: 1.2033811 | Train accuracy: 0.5642857142857143 | Val Loss: 0.4292361 | Val_accuracy: 0.55 \n",
            "Iter:     8 | Train Loss: 1.0233832 | Train accuracy: 0.5535714285714286 | Val Loss: 0.2496930 | Val_accuracy: 0.75 \n",
            "Iter:     9 | Train Loss: 3.5877175 | Train accuracy: 0.5535714285714286 | Val Loss: 1.1172483 | Val_accuracy: 0.55 \n",
            "Iter:    10 | Train Loss: 0.4027396 | Train accuracy: 0.5464285714285714 | Val Loss: 0.4167008 | Val_accuracy: 0.6 \n",
            "Iter:    11 | Train Loss: 2.0516447 | Train accuracy: 0.5535714285714286 | Val Loss: 0.3732200 | Val_accuracy: 0.7 \n",
            "Iter:    12 | Train Loss: 0.3399164 | Train accuracy: 0.6035714285714285 | Val Loss: 4.6738007 | Val_accuracy: 0.6 \n",
            "Iter:    13 | Train Loss: 0.6539641 | Train accuracy: 0.6178571428571429 | Val Loss: 114.8692860 | Val_accuracy: 0.65 \n",
            "Iter:    14 | Train Loss: 4.1044395 | Train accuracy: 0.5928571428571429 | Val Loss: 0.2983970 | Val_accuracy: 0.75 \n",
            "Iter:    15 | Train Loss: 1.7389245 | Train accuracy: 0.6464285714285715 | Val Loss: 3.1979214 | Val_accuracy: 0.7 \n",
            "Iter:    16 | Train Loss: 1.0248428 | Train accuracy: 0.6714285714285714 | Val Loss: 0.3149403 | Val_accuracy: 0.55 \n",
            "Iter:    17 | Train Loss: 6.8167382 | Train accuracy: 0.6964285714285714 | Val Loss: 0.2673251 | Val_accuracy: 0.65 \n",
            "Iter:    18 | Train Loss: 0.1988419 | Train accuracy: 0.7571428571428571 | Val Loss: 0.2761060 | Val_accuracy: 0.75 \n",
            "Iter:    19 | Train Loss: 0.3280169 | Train accuracy: 0.7714285714285715 | Val Loss: 1.8221004 | Val_accuracy: 0.85 \n",
            "Iter:    20 | Train Loss: 0.3621644 | Train accuracy: 0.7821428571428571 | Val Loss: 0.0976496 | Val_accuracy: 0.85 \n",
            "Iter:    21 | Train Loss: 7.5926575 | Train accuracy: 0.7785714285714286 | Val Loss: 0.4270699 | Val_accuracy: 0.9 \n",
            "Iter:    22 | Train Loss: 0.2410348 | Train accuracy: 0.7535714285714286 | Val Loss: 0.3206210 | Val_accuracy: 0.75 \n",
            "Iter:    23 | Train Loss: 4.8763363 | Train accuracy: 0.8071428571428572 | Val Loss: 0.1088888 | Val_accuracy: 0.85 \n",
            "Iter:    24 | Train Loss: 1.0284150 | Train accuracy: 0.7892857142857143 | Val Loss: 0.1643679 | Val_accuracy: 0.85 \n",
            "Iter:    25 | Train Loss: 0.1621444 | Train accuracy: 0.8071428571428572 | Val Loss: 0.1260321 | Val_accuracy: 0.8 \n",
            "Iter:    26 | Train Loss: 0.2232519 | Train accuracy: 0.7892857142857143 | Val Loss: 0.8860807 | Val_accuracy: 0.85 \n",
            "Iter:    27 | Train Loss: 62.7246577 | Train accuracy: 0.7785714285714286 | Val Loss: 0.1553038 | Val_accuracy: 0.85 \n",
            "Iter:    28 | Train Loss: 0.2393842 | Train accuracy: 0.7928571428571428 | Val Loss: 0.0832065 | Val_accuracy: 0.9 \n",
            "Iter:    29 | Train Loss: 0.1610655 | Train accuracy: 0.8107142857142857 | Val Loss: 0.0799360 | Val_accuracy: 0.9 \n",
            "Iter:    30 | Train Loss: 0.2173817 | Train accuracy: 0.8035714285714286 | Val Loss: 0.0824027 | Val_accuracy: 0.95 \n",
            "Iter:    31 | Train Loss: 0.6007503 | Train accuracy: 0.7964285714285714 | Val Loss: 0.1211713 | Val_accuracy: 0.8 \n",
            "Iter:    32 | Train Loss: 2.9470739 | Train accuracy: 0.7928571428571428 | Val Loss: 5.4684570 | Val_accuracy: 0.8 \n",
            "Iter:    33 | Train Loss: 0.2489310 | Train accuracy: 0.8178571428571428 | Val Loss: 0.1415510 | Val_accuracy: 0.8 \n",
            "Iter:    34 | Train Loss: 0.1695733 | Train accuracy: 0.7928571428571428 | Val Loss: 0.0516868 | Val_accuracy: 0.95 \n",
            "Iter:    35 | Train Loss: 0.9614456 | Train accuracy: 0.8071428571428572 | Val Loss: 0.2112215 | Val_accuracy: 0.8 \n",
            "Iter:    36 | Train Loss: 0.1472177 | Train accuracy: 0.8071428571428572 | Val Loss: 0.0732408 | Val_accuracy: 0.9 \n",
            "Iter:    37 | Train Loss: 0.9264343 | Train accuracy: 0.7785714285714286 | Val Loss: 0.1182323 | Val_accuracy: 0.9 \n",
            "Iter:    38 | Train Loss: 0.1480278 | Train accuracy: 0.8178571428571428 | Val Loss: 0.0608261 | Val_accuracy: 0.9 \n",
            "Iter:    39 | Train Loss: 0.1576435 | Train accuracy: 0.825 | Val Loss: 0.0667766 | Val_accuracy: 0.95 \n",
            "Iter:    40 | Train Loss: 0.1473230 | Train accuracy: 0.7857142857142857 | Val Loss: 0.1214705 | Val_accuracy: 0.9 \n"
          ]
        }
      ]
    },
    {
      "cell_type": "code",
      "source": [
        "fig, axs = plt.subplots(nrows=1, ncols=2)\n",
        "\n",
        "axs[0].plot(range(1, steps+1), train_loss_history, label='train loss')\n",
        "axs[0].plot(range(1, steps+1), val_loss_history, label='val loss')\n",
        "# axs[0].\n",
        "axs[0].legend()\n",
        "\n",
        "axs[1].plot(range(1, steps+1), train_acc_history, label='train_accuracy')\n",
        "axs[1].plot(range(1, steps+1), val_acc_history, label='val accuracy')\n",
        "axs[1].legend()\n",
        "\n",
        "plt.show()"
      ],
      "metadata": {
        "colab": {
          "base_uri": "https://localhost:8080/",
          "height": 434
        },
        "id": "HTidC_Lxnpvx",
        "outputId": "9fa29b4a-440f-497c-c83c-eb97734aa34b"
      },
      "execution_count": 99,
      "outputs": [
        {
          "output_type": "display_data",
          "data": {
            "text/plain": [
              "<Figure size 640x480 with 2 Axes>"
            ],
            "image/png": "[encoded data removed]"
          },
          "metadata": {}
        }
      ]
    },
    {
      "cell_type": "code",
      "source": [
        "qml.about()"
      ],
      "metadata": {
        "colab": {
          "base_uri": "https://localhost:8080/"
        },
        "id": "8PkoWWtZX9Ps",
        "outputId": "ef713544-0ba8-40d3-a3e9-cc292556e16a"
      },
      "execution_count": 13,
      "outputs": [
        {
          "output_type": "stream",
          "name": "stdout",
          "text": [
            "Name: PennyLane\n",
            "Version: 0.29.1\n",
            "Summary: PennyLane is a Python quantum machine learning library by Xanadu Inc.\n",
            "Home-page: https://github.com/XanaduAI/pennylane\n",
            "Author: \n",
            "Author-email: \n",
            "License: Apache License 2.0\n",
            "Location: /usr/local/lib/python3.9/dist-packages\n",
            "Requires: appdirs, autograd, autoray, cachetools, networkx, numpy, pennylane-lightning, requests, retworkx, scipy, semantic-version, toml\n",
            "Required-by: PennyLane-Lightning, PennyLane-SF\n",
            "\n",
            "Platform info:           Linux-5.10.147+-x86_64-with-glibc2.31\n",
            "Python version:          3.9.16\n",
            "Numpy version:           1.22.4\n",
            "Scipy version:           1.10.1\n",
            "Installed devices:\n",
            "- default.gaussian (PennyLane-0.29.1)\n",
            "- default.mixed (PennyLane-0.29.1)\n",
            "- default.qubit (PennyLane-0.29.1)\n",
            "- default.qubit.autograd (PennyLane-0.29.1)\n",
            "- default.qubit.jax (PennyLane-0.29.1)\n",
            "- default.qubit.tf (PennyLane-0.29.1)\n",
            "- default.qubit.torch (PennyLane-0.29.1)\n",
            "- default.qutrit (PennyLane-0.29.1)\n",
            "- null.qubit (PennyLane-0.29.1)\n",
            "- lightning.qubit (PennyLane-Lightning-0.29.0)\n",
            "- strawberryfields.fock (PennyLane-SF-0.29.0)\n",
            "- strawberryfields.gaussian (PennyLane-SF-0.29.0)\n",
            "- strawberryfields.gbs (PennyLane-SF-0.29.0)\n",
            "- strawberryfields.remote (PennyLane-SF-0.29.0)\n",
            "- strawberryfields.tf (PennyLane-SF-0.29.0)\n"
          ]
        }
      ]
    },
    {
      "cell_type": "code",
      "source": [],
      "metadata": {
        "id": "D_Xrcrwpa06V"
      },
      "execution_count": 14,
      "outputs": []
    }
  ]
}