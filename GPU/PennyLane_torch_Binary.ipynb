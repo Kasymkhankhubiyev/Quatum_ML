{
  "nbformat": 4,
  "nbformat_minor": 0,
  "metadata": {
    "colab": {
      "provenance": []
    },
    "kernelspec": {
      "name": "python3",
      "display_name": "Python 3"
    },
    "language_info": {
      "name": "python"
    },
    "accelerator": "GPU",
    "gpuClass": "standard"
  },
  "cells": [
    {
      "cell_type": "code",
      "execution_count": 1,
      "metadata": {
        "colab": {
          "base_uri": "https://localhost:8080/"
        },
        "id": "a9n87OtiYYeH",
        "outputId": "5e1d2636-88e4-486f-bc7d-f6f108d65c56"
      },
      "outputs": [
        {
          "output_type": "stream",
          "name": "stdout",
          "text": [
            "Looking in indexes: https://pypi.org/simple, https://us-python.pkg.dev/colab-wheels/public/simple/\n",
            "Requirement already satisfied: pennylane in /usr/local/lib/python3.10/dist-packages (0.29.1)\n",
            "Requirement already satisfied: numpy<1.24 in /usr/local/lib/python3.10/dist-packages (from pennylane) (1.22.4)\n",
            "Requirement already satisfied: scipy in /usr/local/lib/python3.10/dist-packages (from pennylane) (1.10.1)\n",
            "Requirement already satisfied: networkx in /usr/local/lib/python3.10/dist-packages (from pennylane) (3.1)\n",
            "Requirement already satisfied: retworkx in /usr/local/lib/python3.10/dist-packages (from pennylane) (0.13.0)\n",
            "Requirement already satisfied: autograd in /usr/local/lib/python3.10/dist-packages (from pennylane) (1.5)\n",
            "Requirement already satisfied: toml in /usr/local/lib/python3.10/dist-packages (from pennylane) (0.10.2)\n",
            "Requirement already satisfied: appdirs in /usr/local/lib/python3.10/dist-packages (from pennylane) (1.4.4)\n",
            "Requirement already satisfied: semantic-version>=2.7 in /usr/local/lib/python3.10/dist-packages (from pennylane) (2.10.0)\n",
            "Requirement already satisfied: autoray>=0.3.1 in /usr/local/lib/python3.10/dist-packages (from pennylane) (0.6.3)\n",
            "Requirement already satisfied: cachetools in /usr/local/lib/python3.10/dist-packages (from pennylane) (5.3.0)\n",
            "Requirement already satisfied: pennylane-lightning>=0.28 in /usr/local/lib/python3.10/dist-packages (from pennylane) (0.30.0)\n",
            "Requirement already satisfied: requests in /usr/local/lib/python3.10/dist-packages (from pennylane) (2.27.1)\n",
            "Requirement already satisfied: future>=0.15.2 in /usr/local/lib/python3.10/dist-packages (from autograd->pennylane) (0.18.3)\n",
            "Requirement already satisfied: urllib3<1.27,>=1.21.1 in /usr/local/lib/python3.10/dist-packages (from requests->pennylane) (1.26.15)\n",
            "Requirement already satisfied: certifi>=2017.4.17 in /usr/local/lib/python3.10/dist-packages (from requests->pennylane) (2022.12.7)\n",
            "Requirement already satisfied: charset-normalizer~=2.0.0 in /usr/local/lib/python3.10/dist-packages (from requests->pennylane) (2.0.12)\n",
            "Requirement already satisfied: idna<4,>=2.5 in /usr/local/lib/python3.10/dist-packages (from requests->pennylane) (3.4)\n",
            "Requirement already satisfied: rustworkx==0.13.0 in /usr/local/lib/python3.10/dist-packages (from retworkx->pennylane) (0.13.0)\n",
            "Looking in indexes: https://pypi.org/simple, https://us-python.pkg.dev/colab-wheels/public/simple/\n",
            "Requirement already satisfied: pennylane-sf in /usr/local/lib/python3.10/dist-packages (0.29.1)\n",
            "Requirement already satisfied: strawberryfields>=0.22 in /usr/local/lib/python3.10/dist-packages (from pennylane-sf) (0.23.0)\n",
            "Requirement already satisfied: pennylane<0.30,>=0.19 in /usr/local/lib/python3.10/dist-packages (from pennylane-sf) (0.29.1)\n",
            "Requirement already satisfied: numpy<1.24 in /usr/local/lib/python3.10/dist-packages (from pennylane<0.30,>=0.19->pennylane-sf) (1.22.4)\n",
            "Requirement already satisfied: scipy in /usr/local/lib/python3.10/dist-packages (from pennylane<0.30,>=0.19->pennylane-sf) (1.10.1)\n",
            "Requirement already satisfied: networkx in /usr/local/lib/python3.10/dist-packages (from pennylane<0.30,>=0.19->pennylane-sf) (3.1)\n",
            "Requirement already satisfied: retworkx in /usr/local/lib/python3.10/dist-packages (from pennylane<0.30,>=0.19->pennylane-sf) (0.13.0)\n",
            "Requirement already satisfied: autograd in /usr/local/lib/python3.10/dist-packages (from pennylane<0.30,>=0.19->pennylane-sf) (1.5)\n",
            "Requirement already satisfied: toml in /usr/local/lib/python3.10/dist-packages (from pennylane<0.30,>=0.19->pennylane-sf) (0.10.2)\n",
            "Requirement already satisfied: appdirs in /usr/local/lib/python3.10/dist-packages (from pennylane<0.30,>=0.19->pennylane-sf) (1.4.4)\n",
            "Requirement already satisfied: semantic-version>=2.7 in /usr/local/lib/python3.10/dist-packages (from pennylane<0.30,>=0.19->pennylane-sf) (2.10.0)\n",
            "Requirement already satisfied: autoray>=0.3.1 in /usr/local/lib/python3.10/dist-packages (from pennylane<0.30,>=0.19->pennylane-sf) (0.6.3)\n",
            "Requirement already satisfied: cachetools in /usr/local/lib/python3.10/dist-packages (from pennylane<0.30,>=0.19->pennylane-sf) (5.3.0)\n",
            "Requirement already satisfied: pennylane-lightning>=0.28 in /usr/local/lib/python3.10/dist-packages (from pennylane<0.30,>=0.19->pennylane-sf) (0.30.0)\n",
            "Requirement already satisfied: requests in /usr/local/lib/python3.10/dist-packages (from pennylane<0.30,>=0.19->pennylane-sf) (2.27.1)\n",
            "Requirement already satisfied: numba in /usr/local/lib/python3.10/dist-packages (from strawberryfields>=0.22->pennylane-sf) (0.56.4)\n",
            "Requirement already satisfied: python-dateutil>=2.8.0 in /usr/local/lib/python3.10/dist-packages (from strawberryfields>=0.22->pennylane-sf) (2.8.2)\n",
            "Requirement already satisfied: quantum-blackbird>=0.3.0 in /usr/local/lib/python3.10/dist-packages (from strawberryfields>=0.22->pennylane-sf) (0.5.0)\n",
            "Requirement already satisfied: sympy>=1.5 in /usr/local/lib/python3.10/dist-packages (from strawberryfields>=0.22->pennylane-sf) (1.11.1)\n",
            "Requirement already satisfied: thewalrus>=0.18.0 in /usr/local/lib/python3.10/dist-packages (from strawberryfields>=0.22->pennylane-sf) (0.20.0)\n",
            "Requirement already satisfied: urllib3>=1.25.3 in /usr/local/lib/python3.10/dist-packages (from strawberryfields>=0.22->pennylane-sf) (1.26.15)\n",
            "Requirement already satisfied: quantum-xir>=0.1.1 in /usr/local/lib/python3.10/dist-packages (from strawberryfields>=0.22->pennylane-sf) (0.2.2)\n",
            "Requirement already satisfied: xanadu-cloud-client>=0.2.1 in /usr/local/lib/python3.10/dist-packages (from strawberryfields>=0.22->pennylane-sf) (0.3.0)\n",
            "Requirement already satisfied: six>=1.5 in /usr/local/lib/python3.10/dist-packages (from python-dateutil>=2.8.0->strawberryfields>=0.22->pennylane-sf) (1.16.0)\n",
            "Requirement already satisfied: antlr4-python3-runtime==4.9.2 in /usr/local/lib/python3.10/dist-packages (from quantum-blackbird>=0.3.0->strawberryfields>=0.22->pennylane-sf) (4.9.2)\n",
            "Requirement already satisfied: lark-parser>=0.11.0 in /usr/local/lib/python3.10/dist-packages (from quantum-xir>=0.1.1->strawberryfields>=0.22->pennylane-sf) (0.12.0)\n",
            "Requirement already satisfied: certifi>=2017.4.17 in /usr/local/lib/python3.10/dist-packages (from requests->pennylane<0.30,>=0.19->pennylane-sf) (2022.12.7)\n",
            "Requirement already satisfied: charset-normalizer~=2.0.0 in /usr/local/lib/python3.10/dist-packages (from requests->pennylane<0.30,>=0.19->pennylane-sf) (2.0.12)\n",
            "Requirement already satisfied: idna<4,>=2.5 in /usr/local/lib/python3.10/dist-packages (from requests->pennylane<0.30,>=0.19->pennylane-sf) (3.4)\n",
            "Requirement already satisfied: mpmath>=0.19 in /usr/local/lib/python3.10/dist-packages (from sympy>=1.5->strawberryfields>=0.22->pennylane-sf) (1.3.0)\n",
            "Requirement already satisfied: dask[delayed] in /usr/local/lib/python3.10/dist-packages (from thewalrus>=0.18.0->strawberryfields>=0.22->pennylane-sf) (2022.12.1)\n",
            "Requirement already satisfied: llvmlite<0.40,>=0.39.0dev0 in /usr/local/lib/python3.10/dist-packages (from numba->strawberryfields>=0.22->pennylane-sf) (0.39.1)\n",
            "Requirement already satisfied: setuptools in /usr/local/lib/python3.10/dist-packages (from numba->strawberryfields>=0.22->pennylane-sf) (67.7.2)\n",
            "Requirement already satisfied: fire in /usr/local/lib/python3.10/dist-packages (from xanadu-cloud-client>=0.2.1->strawberryfields>=0.22->pennylane-sf) (0.5.0)\n",
            "Requirement already satisfied: pydantic[dotenv] in /usr/local/lib/python3.10/dist-packages (from xanadu-cloud-client>=0.2.1->strawberryfields>=0.22->pennylane-sf) (1.10.7)\n",
            "Requirement already satisfied: future>=0.15.2 in /usr/local/lib/python3.10/dist-packages (from autograd->pennylane<0.30,>=0.19->pennylane-sf) (0.18.3)\n",
            "Requirement already satisfied: rustworkx==0.13.0 in /usr/local/lib/python3.10/dist-packages (from retworkx->pennylane<0.30,>=0.19->pennylane-sf) (0.13.0)\n",
            "Requirement already satisfied: click>=7.0 in /usr/local/lib/python3.10/dist-packages (from dask[delayed]->thewalrus>=0.18.0->strawberryfields>=0.22->pennylane-sf) (8.1.3)\n",
            "Requirement already satisfied: cloudpickle>=1.1.1 in /usr/local/lib/python3.10/dist-packages (from dask[delayed]->thewalrus>=0.18.0->strawberryfields>=0.22->pennylane-sf) (2.2.1)\n",
            "Requirement already satisfied: fsspec>=0.6.0 in /usr/local/lib/python3.10/dist-packages (from dask[delayed]->thewalrus>=0.18.0->strawberryfields>=0.22->pennylane-sf) (2023.4.0)\n",
            "Requirement already satisfied: packaging>=20.0 in /usr/local/lib/python3.10/dist-packages (from dask[delayed]->thewalrus>=0.18.0->strawberryfields>=0.22->pennylane-sf) (23.1)\n",
            "Requirement already satisfied: partd>=0.3.10 in /usr/local/lib/python3.10/dist-packages (from dask[delayed]->thewalrus>=0.18.0->strawberryfields>=0.22->pennylane-sf) (1.4.0)\n",
            "Requirement already satisfied: pyyaml>=5.3.1 in /usr/local/lib/python3.10/dist-packages (from dask[delayed]->thewalrus>=0.18.0->strawberryfields>=0.22->pennylane-sf) (6.0)\n",
            "Requirement already satisfied: toolz>=0.8.2 in /usr/local/lib/python3.10/dist-packages (from dask[delayed]->thewalrus>=0.18.0->strawberryfields>=0.22->pennylane-sf) (0.12.0)\n",
            "Requirement already satisfied: termcolor in /usr/local/lib/python3.10/dist-packages (from fire->xanadu-cloud-client>=0.2.1->strawberryfields>=0.22->pennylane-sf) (2.3.0)\n",
            "Requirement already satisfied: typing-extensions>=4.2.0 in /usr/local/lib/python3.10/dist-packages (from pydantic[dotenv]->xanadu-cloud-client>=0.2.1->strawberryfields>=0.22->pennylane-sf) (4.5.0)\n",
            "Requirement already satisfied: python-dotenv>=0.10.4 in /usr/local/lib/python3.10/dist-packages (from pydantic[dotenv]->xanadu-cloud-client>=0.2.1->strawberryfields>=0.22->pennylane-sf) (1.0.0)\n",
            "Requirement already satisfied: locket in /usr/local/lib/python3.10/dist-packages (from partd>=0.3.10->dask[delayed]->thewalrus>=0.18.0->strawberryfields>=0.22->pennylane-sf) (1.0.0)\n"
          ]
        }
      ],
      "source": [
        "!pip install pennylane\n",
        "!python -m pip install pennylane-sf\n",
        "# !pip install nlopt"
      ]
    },
    {
      "cell_type": "code",
      "source": [
        "#!/usr/bin/env python3\n",
        "import pennylane as qml\n",
        "from pennylane import numpy as np\n",
        "from pennylane.templates import RandomLayers\n",
        "import tensorflow as tf\n",
        "from tensorflow import keras\n",
        "import matplotlib.pyplot as plt\n",
        "\n",
        "import strawberryfields as sf\n",
        "import torch\n",
        "import tensorflow as tf\n",
        "\n",
        "# OpenMP: number of parallel threads.\n",
        "%env OMP_NUM_THREADS=1\n",
        "\n",
        "# Plotting\n",
        "%matplotlib inline\n",
        "import matplotlib.pyplot as plt\n",
        "\n",
        "# Other tools\n",
        "import time\n",
        "import os\n",
        "import copy\n"
      ],
      "metadata": {
        "id": "kXoJ6msQYmjs",
        "colab": {
          "base_uri": "https://localhost:8080/"
        },
        "outputId": "f17e9de2-b64d-4440-8aff-a1e07c16a4cd"
      },
      "execution_count": 2,
      "outputs": [
        {
          "output_type": "stream",
          "name": "stdout",
          "text": [
            "env: OMP_NUM_THREADS=1\n"
          ]
        }
      ]
    },
    {
      "cell_type": "code",
      "source": [
        "np.random.seed(0)"
      ],
      "metadata": {
        "id": "GWGtTWUtImzN"
      },
      "execution_count": 3,
      "outputs": []
    },
    {
      "cell_type": "code",
      "source": [
        "device = torch.device(\"cuda:0\" if torch.cuda.is_available() else \"cpu\")\n",
        "device"
      ],
      "metadata": {
        "colab": {
          "base_uri": "https://localhost:8080/"
        },
        "id": "RGpB_ciPuMb5",
        "outputId": "36827743-c1ca-4906-fde9-df4a8eb7bce3"
      },
      "execution_count": 4,
      "outputs": [
        {
          "output_type": "execute_result",
          "data": {
            "text/plain": [
              "device(type='cuda', index=0)"
            ]
          },
          "metadata": {},
          "execution_count": 4
        }
      ]
    },
    {
      "cell_type": "code",
      "source": [
        "torch.cuda.is_available()"
      ],
      "metadata": {
        "colab": {
          "base_uri": "https://localhost:8080/"
        },
        "id": "-_lqqcH_tQ5b",
        "outputId": "9c1b7984-cf29-411d-c950-b455b5ab6b1f"
      },
      "execution_count": 5,
      "outputs": [
        {
          "output_type": "execute_result",
          "data": {
            "text/plain": [
              "True"
            ]
          },
          "metadata": {},
          "execution_count": 5
        }
      ]
    },
    {
      "cell_type": "markdown",
      "source": [
        "# Dataset"
      ],
      "metadata": {
        "id": "bv2wjtS3BooV"
      }
    },
    {
      "cell_type": "code",
      "source": [
        "def create_data_set(drop: float):\n",
        "    np.random.seed(0)\n",
        "    l = 150\n",
        "    n = 2\n",
        "\n",
        "    X1 = np.array([[-1, -1]]) + drop*np.random.randn(l, n)\n",
        "    X2 = np.array([[1, 1]]) + drop*np.random.randn(l, n)\n",
        "\n",
        "    #конкатенируем все в одну матрицу\n",
        "    #при этом по 20 точек оставим на тест/валидацию\n",
        "    X = np.vstack((X1[10:], X2[10:]))\n",
        "    ValX = np.vstack((X1[:10], X2[:10]))\n",
        "\n",
        "    #конкатенируем все в один столбец с соответствующими значениями для класса 0 или 1\n",
        "    y = np.hstack([[0]*(l-10), [1]*(l-10)])\n",
        "    ValY = np.hstack([[0]*10, [1]*10])\n",
        "\n",
        "    visualize_dataset(X, y, ValX, ValY)\n",
        "\n",
        "    X = [torch.tensor(x) for x in X]\n",
        "    ValX = [torch.tensor(x) for x in ValX]\n",
        "\n",
        "    return X, torch.tensor(y).type(torch.float64), ValX, torch.tensor(ValY).type(torch.float64)"
      ],
      "metadata": {
        "id": "twMUvz6rZ0id"
      },
      "execution_count": 42,
      "outputs": []
    },
    {
      "cell_type": "code",
      "source": [
        "def visualize_dataset(trainX, trainY, ValX, ValY)-> None:\n",
        "    colors = ['blue', 'red', 'yellow', 'green']\n",
        "\n",
        "    for k in np.unique(trainY):\n",
        "        plt.plot(trainX[trainY==k, 0], trainX[trainY==k, 1], 'o', label='class {}'.format(k), color = colors[k])\n",
        "\n",
        "    for k in np.unique(ValY):\n",
        "        plt.plot(ValX[ValY==k, 0], ValX[ValY==k, 1], 'o', label='class {}'.format(k), color = colors[k+2])\n",
        "\n",
        "    plt.legend(loc='best')\n",
        "    plt.show()\n",
        "    plt.close()"
      ],
      "metadata": {
        "id": "NP3wsnX6aGPr"
      },
      "execution_count": 43,
      "outputs": []
    },
    {
      "cell_type": "code",
      "source": [
        "trainX, trainY, ValX, ValY = create_data_set(0.5)"
      ],
      "metadata": {
        "colab": {
          "base_uri": "https://localhost:8080/",
          "height": 430
        },
        "id": "ImWbo2AdaPb3",
        "outputId": "f110ffe2-b9dc-407a-d7db-6c5f7d2a1979"
      },
      "execution_count": 44,
      "outputs": [
        {
          "output_type": "display_data",
          "data": {
            "text/plain": [
              "<Figure size 640x480 with 1 Axes>"
            ],
            "image/png": "[encoded data removed]"
          },
          "metadata": {}
        }
      ]
    },
    {
      "cell_type": "markdown",
      "source": [
        "# Model"
      ],
      "metadata": {
        "id": "BzmhLEaNBqte"
      }
    },
    {
      "cell_type": "code",
      "source": [
        "shots = 100  # кол-во измерений для набора статистики  'qulacs.simulator'  \"strawberryfields.fock\"\n",
        "dev = qml.device(\"strawberryfields.fock\", wires=2, cutoff_dim=5, shots=shots)"
      ],
      "metadata": {
        "id": "qkw0cZvDYz5g"
      },
      "execution_count": 45,
      "outputs": []
    },
    {
      "cell_type": "code",
      "source": [
        "dev"
      ],
      "metadata": {
        "colab": {
          "base_uri": "https://localhost:8080/"
        },
        "id": "3pIe485xIzQ6",
        "outputId": "4d714ac0-a352-49d7-d3e7-ea03dff52f5a"
      },
      "execution_count": 46,
      "outputs": [
        {
          "output_type": "execute_result",
          "data": {
            "text/plain": [
              "<StrawberryFieldsFock device (wires=2, shots=100) at 0x7f207b7823e0>"
            ]
          },
          "metadata": {},
          "execution_count": 46
        }
      ]
    },
    {
      "cell_type": "code",
      "source": [
        "params_num = 4\n",
        "\n",
        "def layer(params, sample):\n",
        "    for j in range(2):\n",
        "        qml.Squeezing(1.5, sample[j], wires=j)\n",
        "\n",
        "    qml.Rotation(params[0], wires=0)\n",
        "    qml.Rotation(params[1], wires=1)\n",
        "    qml.Beamsplitter(np.pi / 4, 0.0, wires=[0, 1])\n",
        "    qml.Displacement(params[2], 0.0, wires=1)\n",
        "    qml.Displacement(params[3], 0.0, wires=1)\n",
        "    qml.Kerr(np.pi, wires=0)\n",
        "    qml.Kerr(np.pi, wires=1)\n",
        "\n",
        "\n",
        "@qml.qnode(dev, interface='torch')\n",
        "def circuit_0(params, sample):\n",
        "    layer(params, sample)\n",
        "    return qml.expval(op=qml.FockStateProjector(np.array([2,0], requires_grad=False), wires=[0,1]))\n",
        "\n",
        "\n",
        "@qml.qnode(dev, interface='torch')\n",
        "def circuit_1(params, sample):\n",
        "    layer(params, sample)\n",
        "    return qml.expval(op=qml.FockStateProjector(np.array([0,2], requires_grad=False), wires=[0,1]))\n",
        "\n",
        "\n",
        "def classifier(params, x):\n",
        "    o0 = circuit_0(params, x)\n",
        "    o1 = circuit_1(params, x)\n",
        "    p0 = o0/(o0+o1)\n",
        "    # print(p0)\n",
        "    return p0  # , 1-p0"
      ],
      "metadata": {
        "id": "jGOXhNGFY5M4"
      },
      "execution_count": 47,
      "outputs": []
    },
    {
      "cell_type": "code",
      "source": [
        "# from tensorflow import keras\n",
        "\n",
        "def square_loss(labels, predictions):\n",
        "    loss = torch.sum((labels - torch.absolute(predictions)) ** 2) / labels.size(dim=0)\n",
        "    # print(loss)\n",
        "    return loss\n",
        "\n",
        "\n",
        "def log_loss(labels, predictions):\n",
        "    loss = torch.sum(labels * torch.log(predictions) + (1 - labels)*torch.log(1 - predictions))\n",
        "\n",
        "    return loss\n",
        "\n",
        "\n",
        "def accuracy(labels, predictions):\n",
        "    acc = 0\n",
        "    pred = torch.round(predictions)\n",
        "    for l, p in zip(labels, torch.absolute(pred)):\n",
        "        if abs(l - p) < 1e-5:\n",
        "            acc = acc + 1\n",
        "    acc = acc / labels.size(dim=0)\n",
        "    return acc"
      ],
      "metadata": {
        "id": "pCuLExIsZup2"
      },
      "execution_count": 48,
      "outputs": []
    },
    {
      "cell_type": "code",
      "source": [
        "def cost(var, data_input, labels):\n",
        "    predictions = torch.tensor([classifier(var, x.to(device)) for x in data_input], requires_grad=True)\n",
        "    loss = torch.absolute(square_loss(labels, predictions))\n",
        "\n",
        "    return loss"
      ],
      "metadata": {
        "id": "6D0DPVIeZyxI"
      },
      "execution_count": 49,
      "outputs": []
    },
    {
      "cell_type": "code",
      "source": [
        "device"
      ],
      "metadata": {
        "colab": {
          "base_uri": "https://localhost:8080/"
        },
        "id": "l2H2wg-et82X",
        "outputId": "0d9b6d49-ccdb-45bd-aa2a-8a7e31fb937e"
      },
      "execution_count": 50,
      "outputs": [
        {
          "output_type": "execute_result",
          "data": {
            "text/plain": [
              "device(type='cuda', index=0)"
            ]
          },
          "metadata": {},
          "execution_count": 50
        }
      ]
    },
    {
      "cell_type": "code",
      "source": [
        "import time\n",
        "\n",
        "train_loss_history, train_acc_history = [], []\n",
        "val_loss_history, val_acc_history = [], []\n",
        "\n",
        "var = torch.tensor([0.5]*params_num, dtype=torch.float64, requires_grad = True)\n",
        "var.to(device)\n",
        "steps = 10\n",
        "\n",
        "print(f'trainable params: {var}')\n",
        "\n",
        "opt = torch.optim.SGD([var], lr = 0.35)\n",
        "criterion = torch.nn.MSELoss(reduction='sum')  # torch.nn.BCELoss()\n",
        "\n",
        "start_from = time.time()\n",
        "\n",
        "for step in range(steps):\n",
        "\n",
        "    opt.zero_grad()\n",
        "    total_train_loss = 0\n",
        "    total_val_loss = 0\n",
        "    train_accuracy = 0\n",
        "    val_accuracy = 0\n",
        "\n",
        "    for idx, (x, y) in enumerate(zip(trainX, trainY)):\n",
        "        # (x, y) = (x.to(device), y.to(device))\n",
        "        prediction = classifier(var, x) # .requires_grad_(True)\n",
        "        train_loss = criterion(torch.round(prediction), y)  # torch.absolute(square_loss(trainY, predictions))\n",
        "\n",
        "        total_train_loss += train_loss\n",
        "        train_loss.backward()\n",
        "        opt.step()\n",
        "\n",
        "        if torch.round(prediction) == y:\n",
        "            train_accuracy += 1\n",
        "\n",
        "    for idx, (x, y) in enumerate(zip(ValX, ValY)):\n",
        "        prediction = classifier(var, x) # .requires_grad_(True)\n",
        "        val_loss = criterion(torch.round(prediction), y)  # torch.absolute(square_loss(trainY, predictions))\n",
        "\n",
        "        total_val_loss += val_loss\n",
        "        if torch.round(prediction) == y:\n",
        "            val_accuracy += 1\n",
        "\n",
        "    train_loss_history.append((total_train_loss / len(trainY)).detach().numpy())\n",
        "    train_acc_history.append(train_accuracy / len(trainY))\n",
        "    val_loss_history.append((total_val_loss / len(ValY)).detach().numpy())\n",
        "    val_acc_history.append(val_accuracy / len(ValY))\n",
        "\n",
        "    train_loss = total_train_loss / len(trainY)\n",
        "    train_accuracy = train_accuracy / len(trainY)\n",
        "    val_loss = total_val_loss / len(ValY)\n",
        "    val_accuracy = val_accuracy / len(ValY)\n",
        "\n",
        "    # if (step+1) % 5 == 0:\n",
        "    print(f\"Iter: {step+1:5d} | Train Loss: {train_loss:0.5f} | Train accuracy: {train_accuracy:0.3f} | Val Loss: {val_loss:0.5f} | Val_accuracy: {val_accuracy:0.3f} \")\n",
        "\n",
        "print(f'ended: {time.time() - start_from}')"
      ],
      "metadata": {
        "colab": {
          "base_uri": "https://localhost:8080/"
        },
        "id": "E1OMmi6YGeLG",
        "outputId": "3ecf50a9-5e29-4a0f-d750-62ed6e1a1302"
      },
      "execution_count": 55,
      "outputs": [
        {
          "output_type": "stream",
          "name": "stdout",
          "text": [
            "trainable params: tensor([0.5000, 0.5000, 0.5000, 0.5000], dtype=torch.float64,\n",
            "       requires_grad=True)\n"
          ]
        },
        {
          "output_type": "stream",
          "name": "stderr",
          "text": [
            "/usr/local/lib/python3.10/dist-packages/pennylane/math/utils.py:223: UserWarning: Contains tensors of types {'torch', 'autograd'}; dispatch will prioritize TensorFlow, PyTorch, and  Jax over Autograd. Consider replacing Autograd with vanilla NumPy.\n"
          ]
        },
        {
          "output_type": "stream",
          "name": "stdout",
          "text": [
            "Iter:     1 | Train Loss: 0.82500 | Train accuracy: 0.871 | Val Loss: 0.15000 | Val_accuracy: 0.850 \n",
            "Iter:     2 | Train Loss: 0.20714 | Train accuracy: 0.875 | Val Loss: 0.10000 | Val_accuracy: 0.900 \n",
            "Iter:     3 | Train Loss: 0.23214 | Train accuracy: 0.893 | Val Loss: 0.10000 | Val_accuracy: 0.900 \n",
            "Iter:     4 | Train Loss: 0.78214 | Train accuracy: 0.879 | Val Loss: 0.10000 | Val_accuracy: 0.900 \n",
            "Iter:     5 | Train Loss: 0.45357 | Train accuracy: 0.854 | Val Loss: 12.05000 | Val_accuracy: 0.900 \n",
            "Iter:     6 | Train Loss: 0.33929 | Train accuracy: 0.861 | Val Loss: 0.05000 | Val_accuracy: 0.950 \n",
            "Iter:     7 | Train Loss: 0.22500 | Train accuracy: 0.871 | Val Loss: 0.15000 | Val_accuracy: 0.850 \n",
            "Iter:     8 | Train Loss: 3.85714 | Train accuracy: 0.854 | Val Loss: 0.10000 | Val_accuracy: 0.900 \n",
            "Iter:     9 | Train Loss: 0.50000 | Train accuracy: 0.832 | Val Loss: 0.05000 | Val_accuracy: 0.950 \n",
            "Iter:    10 | Train Loss: 0.17500 | Train accuracy: 0.864 | Val Loss: 0.05000 | Val_accuracy: 0.950 \n",
            "ended: 24.683765411376953\n"
          ]
        }
      ]
    },
    {
      "cell_type": "code",
      "source": [
        "fig, axs = plt.subplots(nrows=1, ncols=2)\n",
        "\n",
        "axs[0].plot(train_loss_history, label='train loss')\n",
        "axs[0].plot(val_loss_history, label='val loss')\n",
        "# axs[0].\n",
        "axs[0].legend()\n",
        "\n",
        "axs[1].plot(train_acc_history, label='train_accuracy')\n",
        "axs[1].plot(val_acc_history, label='val accuracy')\n",
        "axs[1].legend()\n",
        "\n",
        "plt.show()"
      ],
      "metadata": {
        "id": "HTidC_Lxnpvx",
        "colab": {
          "base_uri": "https://localhost:8080/",
          "height": 430
        },
        "outputId": "ad511d3a-e785-4738-9891-4cd832126b1b"
      },
      "execution_count": 56,
      "outputs": [
        {
          "output_type": "display_data",
          "data": {
            "text/plain": [
              "<Figure size 640x480 with 2 Axes>"
            ],
            "image/png": "[encoded data removed]"
          },
          "metadata": {}
        }
      ]
    },
    {
      "cell_type": "code",
      "source": [
        "trainX.size(dim=0)"
      ],
      "metadata": {
        "id": "56gZFMmmLNzQ",
        "colab": {
          "base_uri": "https://localhost:8080/"
        },
        "outputId": "34af08ce-32f7-4d99-9a3a-e7cb36a5a9c4"
      },
      "execution_count": 15,
      "outputs": [
        {
          "output_type": "execute_result",
          "data": {
            "text/plain": [
              "280"
            ]
          },
          "metadata": {},
          "execution_count": 15
        }
      ]
    },
    {
      "cell_type": "markdown",
      "source": [
        "# Kak TorchLayer"
      ],
      "metadata": {
        "id": "O6saKdoUj2rK"
      }
    },
    {
      "cell_type": "code",
      "source": [
        "params_num = 4\n",
        "\n",
        "def layer(params, sample):\n",
        "    for j in range(2):\n",
        "        qml.Squeezing(1.5, sample[j], wires=j)\n",
        "\n",
        "    qml.Rotation(params[0], wires=0)\n",
        "    qml.Rotation(params[1], wires=1)\n",
        "    qml.Beamsplitter(np.pi / 4, 0.0, wires=[0, 1])\n",
        "    qml.Displacement(params[2], 0.0, wires=1)\n",
        "    qml.Displacement(params[3], 0.0, wires=1)\n",
        "    qml.Kerr(np.pi, wires=0)\n",
        "    qml.Kerr(np.pi, wires=1)\n",
        "\n",
        "\n",
        "@qml.qnode(dev, interface='torch')\n",
        "def circuit_0(params, sample):\n",
        "    layer(params, sample)\n",
        "    return qml.expval(op=qml.FockStateProjector(np.array([2,0], requires_grad=False), wires=[0,1]))\n",
        "\n",
        "\n",
        "@qml.qnode(dev, interface='torch')\n",
        "def circuit_1(params, sample):\n",
        "    layer(params, sample)\n",
        "    return qml.expval(op=qml.FockStateProjector(np.array([0,2], requires_grad=False), wires=[0,1]))\n",
        "\n",
        "\n",
        "@qml.qnode(dev, interface='torch')\n",
        "def classifier(var, x):\n",
        "\n",
        "    def circuit_0(var, sample):\n",
        "        layer(var, sample)\n",
        "        return qml.expval(op=qml.FockStateProjector(np.array([2,0], requires_grad=False), wires=[0,1]))\n",
        "\n",
        "    def circuit_1(var, sample):\n",
        "        layer(var, sample)\n",
        "        return qml.expval(op=qml.FockStateProjector(np.array([0,2], requires_grad=False), wires=[0,1]))\n",
        "    # print(x)\n",
        "    o0 = circuit_0(var, x)\n",
        "    o1 = circuit_1(var, x)\n",
        "    p0 = o0/(o0+o1)\n",
        "    # print(p0)\n",
        "    return p0  # , 1-p0"
      ],
      "metadata": {
        "id": "DmqQO6dVj1o8"
      },
      "execution_count": null,
      "outputs": []
    },
    {
      "cell_type": "code",
      "source": [
        "var = torch.tensor([0.5]*params_num, requires_grad=True)\n",
        "weight_shapes = {\"var\": params_num}\n",
        "\n",
        "qlayer = qml.qnn.TorchLayer(classifier, weight_shapes)\n",
        "model = torch.nn.Sequential(qlayer)\n",
        "\n",
        "opt = torch.optim.SGD(model.parameters(), lr=0.5)\n",
        "loss = torch.nn.MSELoss()\n",
        "\n",
        "epochs = 8\n",
        "batch_size = 5\n",
        "batches = trainX.size(dim=0) // batch_size\n",
        "\n",
        "data_loader = torch.utils.data.DataLoader(list(zip(trainX, trainY)), batch_size=batch_size,\n",
        "                                          shuffle=True, drop_last=True)\n",
        "\n",
        "for epoch in range(epochs):\n",
        "\n",
        "    running_loss = 0\n",
        "\n",
        "    for x, y in data_loader:\n",
        "        opt.zero_grad()\n",
        "\n",
        "        loss_evaluated = loss(model(x), y)\n",
        "        loss_evaluated.backward()\n",
        "\n",
        "        opt.step()\n",
        "\n",
        "        running_loss += loss_evaluated\n",
        "\n",
        "    avg_loss = running_loss / batches\n",
        "    print(\"Average loss over epoch {}: {:.4f}\".format(epoch + 1, avg_loss))"
      ],
      "metadata": {
        "id": "ZUk64PsTJBB1"
      },
      "execution_count": null,
      "outputs": []
    },
    {
      "cell_type": "code",
      "source": [],
      "metadata": {
        "id": "D_Xrcrwpa06V"
      },
      "execution_count": null,
      "outputs": []
    },
    {
      "cell_type": "markdown",
      "source": [
        "#with Tensorflow"
      ],
      "metadata": {
        "id": "tKa9Ellc07gh"
      }
    },
    {
      "cell_type": "code",
      "source": [
        "def create_data_set(drop: float):\n",
        "    np.random.seed(0)\n",
        "    l = 150\n",
        "    n = 2\n",
        "\n",
        "    X1 = np.array([[-1, -1]]) + drop*np.random.randn(l, n)\n",
        "    X2 = np.array([[1, 1]]) + drop*np.random.randn(l, n)\n",
        "\n",
        "    #конкатенируем все в одну матрицу\n",
        "    #при этом по 20 точек оставим на тест/валидацию\n",
        "    X = np.vstack((X1[10:], X2[10:]))\n",
        "    ValX = np.vstack((X1[:10], X2[:10]))\n",
        "\n",
        "    #конкатенируем все в один столбец с соответствующими значениями для класса 0 или 1\n",
        "    y = np.hstack([[0]*(l-10), [1]*(l-10)])\n",
        "    ValY = np.hstack([[0]*10, [1]*10])\n",
        "\n",
        "    visualize_dataset(X, y, ValX, ValY)\n",
        "\n",
        "    return tf.constant(X), tf.constant(y), tf.constant(ValX), tf.constant(ValY)"
      ],
      "metadata": {
        "id": "Bvt62DpY09uH"
      },
      "execution_count": null,
      "outputs": []
    },
    {
      "cell_type": "code",
      "source": [
        "trainX, trainY, ValX, ValY = create_data_set(0.5)"
      ],
      "metadata": {
        "id": "KeSR_JkI1C64"
      },
      "execution_count": null,
      "outputs": []
    },
    {
      "cell_type": "code",
      "source": [
        "shots = 100  # кол-во измерений для набора статистики\n",
        "dev = qml.device(\"strawberryfields.fock\", wires=2, cutoff_dim=5, shots=shots)"
      ],
      "metadata": {
        "id": "_F4k5cew1LmM"
      },
      "execution_count": null,
      "outputs": []
    },
    {
      "cell_type": "code",
      "source": [
        "params_num = 8\n",
        "\n",
        "def layer(params, sample):\n",
        "    for j in range(2):\n",
        "        qml.Squeezing(1.5, sample[j], wires=j)\n",
        "\n",
        "    qml.Beamsplitter(params[0], params[1], wires=[0, 1])\n",
        "    # qml.Rotation(params[2], wires=0)\n",
        "    # qml.Rotation(params[3], wires=1)\n",
        "    qml.Displacement(params[2], 0.0, wires=0)\n",
        "    qml.Displacement(params[3], 0.0, wires=1)\n",
        "    qml.QuadraticPhase(params[4], wires=0)\n",
        "    qml.QuadraticPhase(params[5], wires=0)\n",
        "    qml.Kerr(params[6], wires=0)\n",
        "    qml.Kerr(params[7], wires=1)\n",
        "\n",
        "\n",
        "@qml.qnode(dev, interface='tf')\n",
        "def circuit_0(params, sample):\n",
        "    layer(params, sample)\n",
        "    return qml.expval(op=qml.FockStateProjector(torch.tensor([2,0], requires_grad=False), wires=[0,1]))\n",
        "\n",
        "\n",
        "@qml.qnode(dev, interface='tf')\n",
        "def circuit_1(params, sample):\n",
        "    layer(params, sample)\n",
        "    return qml.expval(op=qml.FockStateProjector(torch.tensor([0,2], requires_grad=False), wires=[0,1]))\n",
        "\n",
        "\n",
        "def classifier(params, x):\n",
        "    o0 = circuit_0(params,x)\n",
        "    o1 = circuit_1(params,x)\n",
        "    p0 = o0/(o0+o1)\n",
        "    return p0  # , 1-p0"
      ],
      "metadata": {
        "id": "sMNbwfx-1PkQ"
      },
      "execution_count": null,
      "outputs": []
    },
    {
      "cell_type": "code",
      "source": [
        "n_wires = 20\n",
        "n_layers = 10\n",
        "\n",
        "dev = qml.device('default.qubit', wires=n_wires)\n",
        "\n",
        "params_shape = qml.StronglyEntanglingLayers.shape(n_layers=n_layers, n_wires=n_wires)\n",
        "params = torch.rand(params_shape)\n",
        "\n",
        "@qml.qnode(dev, interface='torch', diff_method=\"backprop\")\n",
        "def circuit_cuda(params):\n",
        "    qml.StronglyEntanglingLayers(params, wires=range(n_wires))\n",
        "    return qml.expval(qml.PauliZ(0))"
      ],
      "metadata": {
        "id": "AvqwXuOd1XaS"
      },
      "execution_count": null,
      "outputs": []
    },
    {
      "cell_type": "code",
      "source": [
        "import timeit\n",
        "timeit.timeit(\"circuit_cuda(params)\", globals=globals(), number=5)"
      ],
      "metadata": {
        "id": "YDn2JhrDh4sQ"
      },
      "execution_count": null,
      "outputs": []
    },
    {
      "cell_type": "code",
      "source": [
        "params = params.to(device=torch.device('cuda'))\n",
        "timeit.timeit(\"circuit_cuda(params)\", globals=globals(), number=5)"
      ],
      "metadata": {
        "id": "JTmFbtsqh7a-"
      },
      "execution_count": null,
      "outputs": []
    },
    {
      "cell_type": "code",
      "source": [],
      "metadata": {
        "id": "zekQFUJsiOlI"
      },
      "execution_count": null,
      "outputs": []
    }
  ]
}