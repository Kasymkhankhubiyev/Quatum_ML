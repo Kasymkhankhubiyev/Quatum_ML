{
  "nbformat": 4,
  "nbformat_minor": 0,
  "metadata": {
    "colab": {
      "provenance": []
    },
    "kernelspec": {
      "name": "python3",
      "display_name": "Python 3"
    },
    "language_info": {
      "name": "python"
    },
    "accelerator": "GPU",
    "gpuClass": "standard"
  },
  "cells": [
    {
      "cell_type": "code",
      "execution_count": 1,
      "metadata": {
        "colab": {
          "base_uri": "https://localhost:8080/"
        },
        "id": "a9n87OtiYYeH",
        "outputId": "3ddbec8e-a541-43ed-eb6e-887e0bf2076d"
      },
      "outputs": [
        {
          "output_type": "stream",
          "name": "stdout",
          "text": [
            "Looking in indexes: https://pypi.org/simple, https://us-python.pkg.dev/colab-wheels/public/simple/\n",
            "Collecting pennylane\n",
            "  Downloading PennyLane-0.29.1-py3-none-any.whl (1.3 MB)\n",
            "\u001b[2K     \u001b[90m━━━━━━━━━━━━━━━━━━━━━━━━━━━━━━━━━━━━━━━━\u001b[0m \u001b[32m1.3/1.3 MB\u001b[0m \u001b[31m24.5 MB/s\u001b[0m eta \u001b[36m0:00:00\u001b[0m\n",
            "\u001b[?25hRequirement already satisfied: requests in /usr/local/lib/python3.9/dist-packages (from pennylane) (2.27.1)\n",
            "Collecting autoray>=0.3.1\n",
            "  Downloading autoray-0.6.3-py3-none-any.whl (48 kB)\n",
            "\u001b[2K     \u001b[90m━━━━━━━━━━━━━━━━━━━━━━━━━━━━━━━━━━━━━━━━\u001b[0m \u001b[32m48.3/48.3 kB\u001b[0m \u001b[31m3.1 MB/s\u001b[0m eta \u001b[36m0:00:00\u001b[0m\n",
            "\u001b[?25hCollecting retworkx\n",
            "  Downloading retworkx-0.12.1-py3-none-any.whl (10 kB)\n",
            "Requirement already satisfied: toml in /usr/local/lib/python3.9/dist-packages (from pennylane) (0.10.2)\n",
            "Requirement already satisfied: numpy<1.24 in /usr/local/lib/python3.9/dist-packages (from pennylane) (1.22.4)\n",
            "Requirement already satisfied: cachetools in /usr/local/lib/python3.9/dist-packages (from pennylane) (5.3.0)\n",
            "Collecting semantic-version>=2.7\n",
            "  Downloading semantic_version-2.10.0-py2.py3-none-any.whl (15 kB)\n",
            "Requirement already satisfied: autograd in /usr/local/lib/python3.9/dist-packages (from pennylane) (1.5)\n",
            "Requirement already satisfied: scipy in /usr/local/lib/python3.9/dist-packages (from pennylane) (1.10.1)\n",
            "Requirement already satisfied: networkx in /usr/local/lib/python3.9/dist-packages (from pennylane) (3.1)\n",
            "Requirement already satisfied: appdirs in /usr/local/lib/python3.9/dist-packages (from pennylane) (1.4.4)\n",
            "Collecting pennylane-lightning>=0.28\n",
            "  Downloading PennyLane_Lightning-0.29.0-cp39-cp39-manylinux_2_17_x86_64.manylinux2014_x86_64.whl (16.5 MB)\n",
            "\u001b[2K     \u001b[90m━━━━━━━━━━━━━━━━━━━━━━━━━━━━━━━━━━━━━━━━\u001b[0m \u001b[32m16.5/16.5 MB\u001b[0m \u001b[31m56.8 MB/s\u001b[0m eta \u001b[36m0:00:00\u001b[0m\n",
            "\u001b[?25hRequirement already satisfied: future>=0.15.2 in /usr/local/lib/python3.9/dist-packages (from autograd->pennylane) (0.18.3)\n",
            "Requirement already satisfied: idna<4,>=2.5 in /usr/local/lib/python3.9/dist-packages (from requests->pennylane) (3.4)\n",
            "Requirement already satisfied: charset-normalizer~=2.0.0 in /usr/local/lib/python3.9/dist-packages (from requests->pennylane) (2.0.12)\n",
            "Requirement already satisfied: urllib3<1.27,>=1.21.1 in /usr/local/lib/python3.9/dist-packages (from requests->pennylane) (1.26.15)\n",
            "Requirement already satisfied: certifi>=2017.4.17 in /usr/local/lib/python3.9/dist-packages (from requests->pennylane) (2022.12.7)\n",
            "Collecting rustworkx==0.12.1\n",
            "  Downloading rustworkx-0.12.1-cp39-cp39-manylinux_2_17_x86_64.manylinux2014_x86_64.whl (1.9 MB)\n",
            "\u001b[2K     \u001b[90m━━━━━━━━━━━━━━━━━━━━━━━━━━━━━━━━━━━━━━━━\u001b[0m \u001b[32m1.9/1.9 MB\u001b[0m \u001b[31m31.8 MB/s\u001b[0m eta \u001b[36m0:00:00\u001b[0m\n",
            "\u001b[?25hInstalling collected packages: semantic-version, rustworkx, autoray, retworkx, pennylane-lightning, pennylane\n",
            "Successfully installed autoray-0.6.3 pennylane-0.29.1 pennylane-lightning-0.29.0 retworkx-0.12.1 rustworkx-0.12.1 semantic-version-2.10.0\n",
            "Looking in indexes: https://pypi.org/simple, https://us-python.pkg.dev/colab-wheels/public/simple/\n",
            "Collecting pennylane-sf\n",
            "  Downloading PennyLane_SF-0.29.0-py3-none-any.whl (29 kB)\n",
            "Requirement already satisfied: pennylane>=0.19 in /usr/local/lib/python3.9/dist-packages (from pennylane-sf) (0.29.1)\n",
            "Collecting strawberryfields>=0.22\n",
            "  Downloading StrawberryFields-0.23.0-py3-none-any.whl (4.9 MB)\n",
            "\u001b[2K     \u001b[90m━━━━━━━━━━━━━━━━━━━━━━━━━━━━━━━━━━━━━━━━\u001b[0m \u001b[32m4.9/4.9 MB\u001b[0m \u001b[31m59.9 MB/s\u001b[0m eta \u001b[36m0:00:00\u001b[0m\n",
            "\u001b[?25hRequirement already satisfied: networkx in /usr/local/lib/python3.9/dist-packages (from pennylane>=0.19->pennylane-sf) (3.1)\n",
            "Requirement already satisfied: cachetools in /usr/local/lib/python3.9/dist-packages (from pennylane>=0.19->pennylane-sf) (5.3.0)\n",
            "Requirement already satisfied: toml in /usr/local/lib/python3.9/dist-packages (from pennylane>=0.19->pennylane-sf) (0.10.2)\n",
            "Requirement already satisfied: numpy<1.24 in /usr/local/lib/python3.9/dist-packages (from pennylane>=0.19->pennylane-sf) (1.22.4)\n",
            "Requirement already satisfied: scipy in /usr/local/lib/python3.9/dist-packages (from pennylane>=0.19->pennylane-sf) (1.10.1)\n",
            "Requirement already satisfied: pennylane-lightning>=0.28 in /usr/local/lib/python3.9/dist-packages (from pennylane>=0.19->pennylane-sf) (0.29.0)\n",
            "Requirement already satisfied: appdirs in /usr/local/lib/python3.9/dist-packages (from pennylane>=0.19->pennylane-sf) (1.4.4)\n",
            "Requirement already satisfied: semantic-version>=2.7 in /usr/local/lib/python3.9/dist-packages (from pennylane>=0.19->pennylane-sf) (2.10.0)\n",
            "Requirement already satisfied: requests in /usr/local/lib/python3.9/dist-packages (from pennylane>=0.19->pennylane-sf) (2.27.1)\n",
            "Requirement already satisfied: retworkx in /usr/local/lib/python3.9/dist-packages (from pennylane>=0.19->pennylane-sf) (0.12.1)\n",
            "Requirement already satisfied: autograd in /usr/local/lib/python3.9/dist-packages (from pennylane>=0.19->pennylane-sf) (1.5)\n",
            "Requirement already satisfied: autoray>=0.3.1 in /usr/local/lib/python3.9/dist-packages (from pennylane>=0.19->pennylane-sf) (0.6.3)\n",
            "Requirement already satisfied: numba in /usr/local/lib/python3.9/dist-packages (from strawberryfields>=0.22->pennylane-sf) (0.56.4)\n",
            "Requirement already satisfied: sympy>=1.5 in /usr/local/lib/python3.9/dist-packages (from strawberryfields>=0.22->pennylane-sf) (1.11.1)\n",
            "Collecting quantum-blackbird>=0.3.0\n",
            "  Downloading quantum_blackbird-0.5.0-py3-none-any.whl (48 kB)\n",
            "\u001b[2K     \u001b[90m━━━━━━━━━━━━━━━━━━━━━━━━━━━━━━━━━━━━━━━━\u001b[0m \u001b[32m48.0/48.0 kB\u001b[0m \u001b[31m5.8 MB/s\u001b[0m eta \u001b[36m0:00:00\u001b[0m\n",
            "\u001b[?25hRequirement already satisfied: python-dateutil>=2.8.0 in /usr/local/lib/python3.9/dist-packages (from strawberryfields>=0.22->pennylane-sf) (2.8.2)\n",
            "Requirement already satisfied: urllib3>=1.25.3 in /usr/local/lib/python3.9/dist-packages (from strawberryfields>=0.22->pennylane-sf) (1.26.15)\n",
            "Collecting quantum-xir>=0.1.1\n",
            "  Downloading quantum_xir-0.2.2-py3-none-any.whl (27 kB)\n",
            "Collecting xanadu-cloud-client>=0.2.1\n",
            "  Downloading xanadu_cloud_client-0.3.0-py3-none-any.whl (25 kB)\n",
            "Collecting thewalrus>=0.18.0\n",
            "  Downloading thewalrus-0.20.0.tar.gz (108 kB)\n",
            "\u001b[2K     \u001b[90m━━━━━━━━━━━━━━━━━━━━━━━━━━━━━━━━━━━━━━━\u001b[0m \u001b[32m108.6/108.6 kB\u001b[0m \u001b[31m7.4 MB/s\u001b[0m eta \u001b[36m0:00:00\u001b[0m\n",
            "\u001b[?25h  Preparing metadata (setup.py) ... \u001b[?25l\u001b[?25hdone\n",
            "Requirement already satisfied: six>=1.5 in /usr/local/lib/python3.9/dist-packages (from python-dateutil>=2.8.0->strawberryfields>=0.22->pennylane-sf) (1.16.0)\n",
            "Collecting antlr4-python3-runtime==4.9.2\n",
            "  Downloading antlr4-python3-runtime-4.9.2.tar.gz (117 kB)\n",
            "\u001b[2K     \u001b[90m━━━━━━━━━━━━━━━━━━━━━━━━━━━━━━━━━━━━━━\u001b[0m \u001b[32m117.2/117.2 kB\u001b[0m \u001b[31m11.8 MB/s\u001b[0m eta \u001b[36m0:00:00\u001b[0m\n",
            "\u001b[?25h  Preparing metadata (setup.py) ... \u001b[?25l\u001b[?25hdone\n",
            "Collecting lark-parser>=0.11.0\n",
            "  Downloading lark_parser-0.12.0-py2.py3-none-any.whl (103 kB)\n",
            "\u001b[2K     \u001b[90m━━━━━━━━━━━━━━━━━━━━━━━━━━━━━━━━━━━━━━\u001b[0m \u001b[32m103.5/103.5 kB\u001b[0m \u001b[31m10.8 MB/s\u001b[0m eta \u001b[36m0:00:00\u001b[0m\n",
            "\u001b[?25hRequirement already satisfied: idna<4,>=2.5 in /usr/local/lib/python3.9/dist-packages (from requests->pennylane>=0.19->pennylane-sf) (3.4)\n",
            "Requirement already satisfied: certifi>=2017.4.17 in /usr/local/lib/python3.9/dist-packages (from requests->pennylane>=0.19->pennylane-sf) (2022.12.7)\n",
            "Requirement already satisfied: charset-normalizer~=2.0.0 in /usr/local/lib/python3.9/dist-packages (from requests->pennylane>=0.19->pennylane-sf) (2.0.12)\n",
            "Requirement already satisfied: mpmath>=0.19 in /usr/local/lib/python3.9/dist-packages (from sympy>=1.5->strawberryfields>=0.22->pennylane-sf) (1.3.0)\n",
            "Requirement already satisfied: dask[delayed] in /usr/local/lib/python3.9/dist-packages (from thewalrus>=0.18.0->strawberryfields>=0.22->pennylane-sf) (2022.12.1)\n",
            "Requirement already satisfied: llvmlite<0.40,>=0.39.0dev0 in /usr/local/lib/python3.9/dist-packages (from numba->strawberryfields>=0.22->pennylane-sf) (0.39.1)\n",
            "Requirement already satisfied: setuptools in /usr/local/lib/python3.9/dist-packages (from numba->strawberryfields>=0.22->pennylane-sf) (67.6.1)\n",
            "Requirement already satisfied: pydantic[dotenv] in /usr/local/lib/python3.9/dist-packages (from xanadu-cloud-client>=0.2.1->strawberryfields>=0.22->pennylane-sf) (1.10.7)\n",
            "Collecting fire\n",
            "  Downloading fire-0.5.0.tar.gz (88 kB)\n",
            "\u001b[2K     \u001b[90m━━━━━━━━━━━━━━━━━━━━━━━━━━━━━━━━━━━━━━━━\u001b[0m \u001b[32m88.3/88.3 kB\u001b[0m \u001b[31m10.5 MB/s\u001b[0m eta \u001b[36m0:00:00\u001b[0m\n",
            "\u001b[?25h  Preparing metadata (setup.py) ... \u001b[?25l\u001b[?25hdone\n",
            "Requirement already satisfied: future>=0.15.2 in /usr/local/lib/python3.9/dist-packages (from autograd->pennylane>=0.19->pennylane-sf) (0.18.3)\n",
            "Requirement already satisfied: rustworkx==0.12.1 in /usr/local/lib/python3.9/dist-packages (from retworkx->pennylane>=0.19->pennylane-sf) (0.12.1)\n",
            "Requirement already satisfied: packaging>=20.0 in /usr/local/lib/python3.9/dist-packages (from dask[delayed]->thewalrus>=0.18.0->strawberryfields>=0.22->pennylane-sf) (23.1)\n",
            "Requirement already satisfied: partd>=0.3.10 in /usr/local/lib/python3.9/dist-packages (from dask[delayed]->thewalrus>=0.18.0->strawberryfields>=0.22->pennylane-sf) (1.4.0)\n",
            "Requirement already satisfied: click>=7.0 in /usr/local/lib/python3.9/dist-packages (from dask[delayed]->thewalrus>=0.18.0->strawberryfields>=0.22->pennylane-sf) (8.1.3)\n",
            "Requirement already satisfied: pyyaml>=5.3.1 in /usr/local/lib/python3.9/dist-packages (from dask[delayed]->thewalrus>=0.18.0->strawberryfields>=0.22->pennylane-sf) (6.0)\n",
            "Requirement already satisfied: cloudpickle>=1.1.1 in /usr/local/lib/python3.9/dist-packages (from dask[delayed]->thewalrus>=0.18.0->strawberryfields>=0.22->pennylane-sf) (2.2.1)\n",
            "Requirement already satisfied: fsspec>=0.6.0 in /usr/local/lib/python3.9/dist-packages (from dask[delayed]->thewalrus>=0.18.0->strawberryfields>=0.22->pennylane-sf) (2023.4.0)\n",
            "Requirement already satisfied: toolz>=0.8.2 in /usr/local/lib/python3.9/dist-packages (from dask[delayed]->thewalrus>=0.18.0->strawberryfields>=0.22->pennylane-sf) (0.12.0)\n",
            "Requirement already satisfied: termcolor in /usr/local/lib/python3.9/dist-packages (from fire->xanadu-cloud-client>=0.2.1->strawberryfields>=0.22->pennylane-sf) (2.2.0)\n",
            "Requirement already satisfied: typing-extensions>=4.2.0 in /usr/local/lib/python3.9/dist-packages (from pydantic[dotenv]->xanadu-cloud-client>=0.2.1->strawberryfields>=0.22->pennylane-sf) (4.5.0)\n",
            "Collecting python-dotenv>=0.10.4\n",
            "  Downloading python_dotenv-1.0.0-py3-none-any.whl (19 kB)\n",
            "Requirement already satisfied: locket in /usr/local/lib/python3.9/dist-packages (from partd>=0.3.10->dask[delayed]->thewalrus>=0.18.0->strawberryfields>=0.22->pennylane-sf) (1.0.0)\n",
            "Building wheels for collected packages: antlr4-python3-runtime, thewalrus, fire\n",
            "  Building wheel for antlr4-python3-runtime (setup.py) ... \u001b[?25l\u001b[?25hdone\n",
            "  Created wheel for antlr4-python3-runtime: filename=antlr4_python3_runtime-4.9.2-py3-none-any.whl size=144564 sha256=662de80e6a01f3b9fc8b587fe5eaadabc2a398c63e6d81fe54e2cb8800e64e44\n",
            "  Stored in directory: /root/.cache/pip/wheels/0c/dc/1c/57974cae05c0a98c8d8590c471bdd8e953fcf18b14fa0890b7\n",
            "  Building wheel for thewalrus (setup.py) ... \u001b[?25l\u001b[?25hdone\n",
            "  Created wheel for thewalrus: filename=thewalrus-0.20.0-py3-none-any.whl size=91872 sha256=092765766ff88706fa34c1229442627c09b029acd59874077f15025d40066b10\n",
            "  Stored in directory: /root/.cache/pip/wheels/e5/7e/ae/eb1f89f2912e2a1f0d67a820d78c7c1eb79b894cf40be71e3e\n",
            "  Building wheel for fire (setup.py) ... \u001b[?25l\u001b[?25hdone\n",
            "  Created wheel for fire: filename=fire-0.5.0-py2.py3-none-any.whl size=116952 sha256=37f33f080ea5b69fb3f072214c403cd3c9d46f9d65d9184083815af765cbc200\n",
            "  Stored in directory: /root/.cache/pip/wheels/f7/f1/89/b9ea2bf8f80ec027a88fef1d354b3816b4d3d29530988972f6\n",
            "Successfully built antlr4-python3-runtime thewalrus fire\n",
            "Installing collected packages: lark-parser, antlr4-python3-runtime, quantum-xir, python-dotenv, fire, quantum-blackbird, xanadu-cloud-client, thewalrus, strawberryfields, pennylane-sf\n",
            "Successfully installed antlr4-python3-runtime-4.9.2 fire-0.5.0 lark-parser-0.12.0 pennylane-sf-0.29.0 python-dotenv-1.0.0 quantum-blackbird-0.5.0 quantum-xir-0.2.2 strawberryfields-0.23.0 thewalrus-0.20.0 xanadu-cloud-client-0.3.0\n",
            "Looking in indexes: https://pypi.org/simple, https://us-python.pkg.dev/colab-wheels/public/simple/\n",
            "Collecting nlopt\n",
            "  Downloading nlopt-2.7.1-cp39-cp39-manylinux_2_17_x86_64.manylinux2014_x86_64.whl (423 kB)\n",
            "\u001b[2K     \u001b[90m━━━━━━━━━━━━━━━━━━━━━━━━━━━━━━━━━━━━━━\u001b[0m \u001b[32m423.6/423.6 kB\u001b[0m \u001b[31m21.2 MB/s\u001b[0m eta \u001b[36m0:00:00\u001b[0m\n",
            "\u001b[?25hRequirement already satisfied: numpy>=1.14 in /usr/local/lib/python3.9/dist-packages (from nlopt) (1.22.4)\n",
            "Installing collected packages: nlopt\n",
            "Successfully installed nlopt-2.7.1\n"
          ]
        }
      ],
      "source": [
        "!pip install pennylane\n",
        "!python -m pip install pennylane-sf\n",
        "!pip install nlopt"
      ]
    },
    {
      "cell_type": "code",
      "source": [
        "#!/usr/bin/env python3\n",
        "import pennylane as qml\n",
        "from pennylane import numpy as np\n",
        "from pennylane.templates import RandomLayers\n",
        "import tensorflow as tf\n",
        "from tensorflow import keras\n",
        "import matplotlib.pyplot as plt\n",
        "\n",
        "import strawberryfields as sf\n",
        "import torch\n",
        "\n",
        "# OpenMP: number of parallel threads.\n",
        "%env OMP_NUM_THREADS=1\n",
        "\n",
        "# Plotting\n",
        "%matplotlib inline\n",
        "import matplotlib.pyplot as plt\n",
        "\n",
        "# Other tools\n",
        "import time\n",
        "import os\n",
        "import copy\n"
      ],
      "metadata": {
        "id": "kXoJ6msQYmjs",
        "colab": {
          "base_uri": "https://localhost:8080/"
        },
        "outputId": "f76af8d6-403a-43b5-8c49-ba81adc419ce"
      },
      "execution_count": 2,
      "outputs": [
        {
          "output_type": "stream",
          "name": "stdout",
          "text": [
            "env: OMP_NUM_THREADS=1\n"
          ]
        }
      ]
    },
    {
      "cell_type": "code",
      "source": [
        "np.random.seed(0)"
      ],
      "metadata": {
        "id": "GWGtTWUtImzN"
      },
      "execution_count": 3,
      "outputs": []
    },
    {
      "cell_type": "markdown",
      "source": [
        "# Dataset"
      ],
      "metadata": {
        "id": "bv2wjtS3BooV"
      }
    },
    {
      "cell_type": "code",
      "source": [
        "def create_data_set(drop: float):\n",
        "    np.random.seed(0)\n",
        "    l = 150\n",
        "    n = 2\n",
        "\n",
        "    X1 = np.array([[-1, -1]]) + drop*np.random.randn(l, n)\n",
        "    X2 = np.array([[1, 1]]) + drop*np.random.randn(l, n)\n",
        "\n",
        "    #конкатенируем все в одну матрицу\n",
        "    #при этом по 20 точек оставим на тест/валидацию\n",
        "    X = np.vstack((X1[10:], X2[10:]))\n",
        "    ValX = np.vstack((X1[:10], X2[:10]))\n",
        "\n",
        "    #конкатенируем все в один столбец с соответствующими значениями для класса 0 или 1\n",
        "    y = np.hstack([[0]*(l-10), [1]*(l-10)])\n",
        "    ValY = np.hstack([[0]*10, [1]*10])\n",
        "\n",
        "    visualize_dataset(X, y, ValX, ValY)\n",
        "\n",
        "    return torch.tensor(X, requires_grad=False), torch.tensor(y, requires_grad=False), torch.tensor(ValX, requires_grad=False), torch.tensor(ValY, requires_grad=False)"
      ],
      "metadata": {
        "id": "twMUvz6rZ0id"
      },
      "execution_count": 4,
      "outputs": []
    },
    {
      "cell_type": "code",
      "source": [
        "def visualize_dataset(trainX, trainY, ValX, ValY)-> None:\n",
        "    colors = ['blue', 'red', 'yellow', 'green']\n",
        "\n",
        "    for k in np.unique(trainY):\n",
        "        plt.plot(trainX[trainY==k, 0], trainX[trainY==k, 1], 'o', label='class {}'.format(k), color = colors[k])\n",
        "\n",
        "    for k in np.unique(ValY):\n",
        "        plt.plot(ValX[ValY==k, 0], ValX[ValY==k, 1], 'o', label='class {}'.format(k), color = colors[k+2])\n",
        "\n",
        "    plt.legend(loc='best')\n",
        "    plt.show()\n",
        "    plt.close()"
      ],
      "metadata": {
        "id": "NP3wsnX6aGPr"
      },
      "execution_count": 5,
      "outputs": []
    },
    {
      "cell_type": "code",
      "source": [
        "trainX, trainY, ValX, ValY = create_data_set(0.5)"
      ],
      "metadata": {
        "colab": {
          "base_uri": "https://localhost:8080/",
          "height": 430
        },
        "id": "ImWbo2AdaPb3",
        "outputId": "8d0e5734-d9e1-46ca-ad03-7b683b4a303b"
      },
      "execution_count": 6,
      "outputs": [
        {
          "output_type": "display_data",
          "data": {
            "text/plain": [
              "<Figure size 640x480 with 1 Axes>"
            ],
            "image/png": "[encoded data removed]"
          },
          "metadata": {}
        }
      ]
    },
    {
      "cell_type": "markdown",
      "source": [
        "# Model"
      ],
      "metadata": {
        "id": "BzmhLEaNBqte"
      }
    },
    {
      "cell_type": "code",
      "source": [
        "shots = 500  # кол-во измерений для набора статистики\n",
        "dev = qml.device(\"strawberryfields.fock\", wires=2, cutoff_dim=5, shots=shots)"
      ],
      "metadata": {
        "id": "qkw0cZvDYz5g"
      },
      "execution_count": 106,
      "outputs": []
    },
    {
      "cell_type": "code",
      "source": [
        "params_num = 8\n",
        "\n",
        "def layer(params, sample):\n",
        "    for j in range(2):\n",
        "        qml.Squeezing(1.5, sample[j], wires=j)\n",
        "    \n",
        "    qml.Beamsplitter(params[0], params[1], wires=[0, 1])\n",
        "    qml.Rotation(params[2], wires=0)\n",
        "    qml.Rotation(params[3], wires=1)\n",
        "    # Dgate(r, phi=0.0)\n",
        "    qml.Displacement(params[4], 0.0, wires=0)\n",
        "    qml.Displacement(params[5], 0.0, wires=1)\n",
        "    qml.Kerr(params[6], wires=0)\n",
        "    qml.Kerr(params[7], wires=1)\n",
        "\n",
        "\n",
        "@qml.qnode(dev, interface='torch')\n",
        "def circuit_0(params, sample):\n",
        "    layer(params, sample)\n",
        "    return qml.expval(op=qml.FockStateProjector(torch.tensor([2,0], requires_grad=False), wires=[0,1]))\n",
        "\n",
        "\n",
        "@qml.qnode(dev, interface='torch')\n",
        "def circuit_1(params, sample):\n",
        "    layer(params, sample)\n",
        "    return qml.expval(op=qml.FockStateProjector(torch.tensor([0,2], requires_grad=False), wires=[0,1]))\n",
        "\n",
        "\n",
        "def classifier(params, x):\n",
        "    o0 = circuit_0(params,x)\n",
        "    o1 = circuit_1(params,x)\n",
        "    p0 = o0/(o0+o1)\n",
        "    return p0  # , 1-p0"
      ],
      "metadata": {
        "id": "jGOXhNGFY5M4"
      },
      "execution_count": 107,
      "outputs": []
    },
    {
      "cell_type": "code",
      "source": [
        "def square_loss(labels, predictions):\n",
        "    loss = torch.sum((labels - torch.absolute(predictions)) ** 2) / labels.size(dim=0)\n",
        "    # print(loss)\n",
        "    return loss\n",
        "\n",
        "def log_loss(labels, predictions):\n",
        "    loss = - torch.sum(labels * torch.log(predictions) + (1 - labels)*torch.log(1 - predictions))\n",
        "\n",
        "    return loss\n",
        "\n",
        "# def accuracy(labels, predictions):\n",
        "#     acc = np.sum(np.where(np.abs(labels - predictions) < 1e-5, 1, 0))\n",
        "#     return acc\n",
        "\n",
        "# def square_loss(labels, predictions):\n",
        "#     loss = 0\n",
        "#     print(f'predictions: {predictions}')\n",
        "#     for l, p in zip(labels, np.absolute(predictions)):\n",
        "#         loss = loss + (l - p) ** 2\n",
        "#     loss = loss / len(labels)\n",
        "#     print(loss)\n",
        "#     return loss\n",
        "\n",
        "def accuracy(labels, predictions):\n",
        "    acc = 0\n",
        "    pred = torch.round(predictions)\n",
        "    for l, p in zip(labels, torch.absolute(pred)):\n",
        "        if abs(l - p) < 1e-5:\n",
        "            acc = acc + 1\n",
        "    acc = acc / labels.size(dim=0)\n",
        "    return acc"
      ],
      "metadata": {
        "id": "pCuLExIsZup2"
      },
      "execution_count": 123,
      "outputs": []
    },
    {
      "cell_type": "code",
      "source": [
        "def cost(var, data_input, labels):\n",
        "    predictions = torch.tensor([classifier(var, x) for x in data_input], requires_grad=True)\n",
        "    loss = torch.absolute(square_loss(labels, predictions))\n",
        "    # loss = torch.absolute(log_loss(labels, predictions)) \n",
        "    \n",
        "    return loss"
      ],
      "metadata": {
        "id": "6D0DPVIeZyxI"
      },
      "execution_count": 124,
      "outputs": []
    },
    {
      "cell_type": "code",
      "source": [
        "train_loss_history, train_acc_history = [], []\n",
        "val_loss_history, val_acc_history = [], []\n",
        "\n",
        "var = torch.tensor([0.5]*params_num, requires_grad=True)\n",
        "steps = 40\n",
        "\n",
        "opt = torch.optim.SGD([var], lr = 0.035)\n",
        "\n",
        "def closure(params, train, gt):\n",
        "    opt.zero_grad()\n",
        "    loss = cost(params, train, gt)\n",
        "    # print(loss)\n",
        "    loss.backward()\n",
        "    # print(params.grad)\n",
        "    return loss\n",
        "\n",
        "for step in range(steps):\n",
        "    opt.step(lambda: closure(var, trainX, trainY))\n",
        "\n",
        "    predictions = torch.tensor([classifier(var, x) for x in ValX], requires_grad=False)\n",
        "    val_accuracy = accuracy(ValY, np.round(predictions))\n",
        "    val_loss = square_loss(ValY, predictions)\n",
        "\n",
        "    predictions = torch.tensor([classifier(var, x) for x in trainX], requires_grad=False)\n",
        "    train_accuracy = accuracy(trainY, np.round(predictions))\n",
        "    train_loss = square_loss(trainY, predictions)\n",
        "\n",
        "    train_loss_history.append(train_loss)\n",
        "    train_acc_history.append(train_accuracy)\n",
        "    val_loss_history.append(val_loss)\n",
        "    val_acc_history.append(val_accuracy)\n",
        "\n",
        "    # if (step+1) % 5 == 0:\n",
        "    print(f\"Iter: {step+1:5d} | Train Loss: {train_loss:0.7f} | Train accuracy: {train_accuracy} | Val Loss: {val_loss:0.7f} | Val_accuracy: {val_accuracy} \")"
      ],
      "metadata": {
        "colab": {
          "base_uri": "https://localhost:8080/"
        },
        "id": "E1OMmi6YGeLG",
        "outputId": "d1b25904-7298-4282-e0f0-745c19c665e9"
      },
      "execution_count": 125,
      "outputs": [
        {
          "output_type": "stream",
          "name": "stdout",
          "text": [
            "Iter:     1 | Train Loss: 1257.2146091 | Train accuracy: 0.3357142857142857 | Val Loss: 3.4065840 | Val_accuracy: 0.35 \n",
            "Iter:     2 | Train Loss: 2.1498255 | Train accuracy: 0.375 | Val Loss: 0.3685076 | Val_accuracy: 0.3 \n",
            "Iter:     3 | Train Loss: 4.8573185 | Train accuracy: 0.3535714285714286 | Val Loss: 0.3561503 | Val_accuracy: 0.35 \n",
            "Iter:     4 | Train Loss: 1.4015515 | Train accuracy: 0.37857142857142856 | Val Loss: 0.3632301 | Val_accuracy: 0.35 \n",
            "Iter:     5 | Train Loss: 0.5777375 | Train accuracy: 0.3392857142857143 | Val Loss: 0.3018002 | Val_accuracy: 0.45 \n",
            "Iter:     6 | Train Loss: 12.8845355 | Train accuracy: 0.33214285714285713 | Val Loss: 0.2933671 | Val_accuracy: 0.4 \n",
            "Iter:     7 | Train Loss: 17.1207826 | Train accuracy: 0.3 | Val Loss: 0.3604682 | Val_accuracy: 0.35 \n",
            "Iter:     8 | Train Loss: 1.4231191 | Train accuracy: 0.35 | Val Loss: 0.4411394 | Val_accuracy: 0.25 \n",
            "Iter:     9 | Train Loss: 0.8793533 | Train accuracy: 0.3607142857142857 | Val Loss: 1.1981569 | Val_accuracy: 0.25 \n",
            "Iter:    10 | Train Loss: 0.6350471 | Train accuracy: 0.33214285714285713 | Val Loss: 0.3251453 | Val_accuracy: 0.3 \n",
            "Iter:    11 | Train Loss: 0.6841845 | Train accuracy: 0.2892857142857143 | Val Loss: 0.3189805 | Val_accuracy: 0.4 \n",
            "Iter:    12 | Train Loss: 0.8211969 | Train accuracy: 0.3821428571428571 | Val Loss: 0.3233732 | Val_accuracy: 0.2 \n",
            "Iter:    13 | Train Loss: 0.7384525 | Train accuracy: 0.325 | Val Loss: 0.6483586 | Val_accuracy: 0.25 \n",
            "Iter:    14 | Train Loss: 3.1997763 | Train accuracy: 0.36428571428571427 | Val Loss: 0.5587293 | Val_accuracy: 0.3 \n",
            "Iter:    15 | Train Loss: 7.2131090 | Train accuracy: 0.3357142857142857 | Val Loss: 0.3165749 | Val_accuracy: 0.4 \n",
            "Iter:    16 | Train Loss: 0.4404421 | Train accuracy: 0.35 | Val Loss: 0.2849593 | Val_accuracy: 0.55 \n",
            "Iter:    17 | Train Loss: 27.2979793 | Train accuracy: 0.3607142857142857 | Val Loss: 1.5389744 | Val_accuracy: 0.2 \n",
            "Iter:    18 | Train Loss: 0.6841452 | Train accuracy: 0.38571428571428573 | Val Loss: 0.3953239 | Val_accuracy: 0.3 \n",
            "Iter:    19 | Train Loss: 1.7365030 | Train accuracy: 0.35714285714285715 | Val Loss: 0.3268322 | Val_accuracy: 0.35 \n",
            "Iter:    20 | Train Loss: 2.7846710 | Train accuracy: 0.3392857142857143 | Val Loss: 0.3718340 | Val_accuracy: 0.15 \n",
            "Iter:    21 | Train Loss: 0.6490379 | Train accuracy: 0.3678571428571429 | Val Loss: 0.4329859 | Val_accuracy: 0.45 \n",
            "Iter:    22 | Train Loss: 59.8955505 | Train accuracy: 0.3464285714285714 | Val Loss: 0.3328259 | Val_accuracy: 0.4 \n",
            "Iter:    23 | Train Loss: 0.6903718 | Train accuracy: 0.3678571428571429 | Val Loss: 0.3878059 | Val_accuracy: 0.2 \n",
            "Iter:    24 | Train Loss: 0.5948714 | Train accuracy: 0.34285714285714286 | Val Loss: 0.3224518 | Val_accuracy: 0.35 \n",
            "Iter:    25 | Train Loss: 13.4870190 | Train accuracy: 0.3 | Val Loss: 0.3733195 | Val_accuracy: 0.35 \n",
            "Iter:    26 | Train Loss: 5.8377041 | Train accuracy: 0.3464285714285714 | Val Loss: 0.3408704 | Val_accuracy: 0.45 \n",
            "Iter:    27 | Train Loss: 4.2402130 | Train accuracy: 0.3535714285714286 | Val Loss: 0.3207591 | Val_accuracy: 0.35 \n",
            "Iter:    28 | Train Loss: 51.1326438 | Train accuracy: 0.2785714285714286 | Val Loss: 0.2872248 | Val_accuracy: 0.6 \n",
            "Iter:    29 | Train Loss: 1.9017982 | Train accuracy: 0.33214285714285713 | Val Loss: 0.2820956 | Val_accuracy: 0.4 \n",
            "Iter:    30 | Train Loss: 1.5956239 | Train accuracy: 0.325 | Val Loss: 1.4810800 | Val_accuracy: 0.2 \n",
            "Iter:    31 | Train Loss: 1.0249347 | Train accuracy: 0.325 | Val Loss: 17.5042682 | Val_accuracy: 0.45 \n",
            "Iter:    32 | Train Loss: 0.7724460 | Train accuracy: 0.325 | Val Loss: 0.3145758 | Val_accuracy: 0.45 \n",
            "Iter:    33 | Train Loss: 68.7809015 | Train accuracy: 0.32857142857142857 | Val Loss: 0.7130090 | Val_accuracy: 0.4 \n",
            "Iter:    34 | Train Loss: 0.4400085 | Train accuracy: 0.35 | Val Loss: 0.3338721 | Val_accuracy: 0.3 \n",
            "Iter:    35 | Train Loss: 1.2367292 | Train accuracy: 0.3392857142857143 | Val Loss: 0.4422072 | Val_accuracy: 0.35 \n",
            "Iter:    36 | Train Loss: 0.5515877 | Train accuracy: 0.29285714285714287 | Val Loss: 0.3427026 | Val_accuracy: 0.35 \n",
            "Iter:    37 | Train Loss: 0.9849295 | Train accuracy: 0.35714285714285715 | Val Loss: 0.2965586 | Val_accuracy: 0.45 \n",
            "Iter:    38 | Train Loss: 86.6769848 | Train accuracy: 0.34285714285714286 | Val Loss: 0.3567065 | Val_accuracy: 0.35 \n",
            "Iter:    39 | Train Loss: 0.7136443 | Train accuracy: 0.3107142857142857 | Val Loss: 0.2923353 | Val_accuracy: 0.5 \n",
            "Iter:    40 | Train Loss: 2.1918742 | Train accuracy: 0.3464285714285714 | Val Loss: 0.2982497 | Val_accuracy: 0.35 \n"
          ]
        }
      ]
    },
    {
      "cell_type": "code",
      "source": [
        "fig, axs = plt.subplots(nrows=1, ncols=2)\n",
        "\n",
        "axs[0].plot(range(1, steps+1), train_loss_history, label='train loss')\n",
        "axs[0].plot(range(1, steps+1), val_loss_history, label='val loss')\n",
        "# axs[0].\n",
        "axs[0].legend()\n",
        "\n",
        "axs[1].plot(range(1, steps+1), train_acc_history, label='train_accuracy')\n",
        "axs[1].plot(range(1, steps+1), val_acc_history, label='val accuracy')\n",
        "axs[1].legend()\n",
        "\n",
        "plt.show()"
      ],
      "metadata": {
        "colab": {
          "base_uri": "https://localhost:8080/",
          "height": 430
        },
        "id": "HTidC_Lxnpvx",
        "outputId": "56e41554-79df-4abb-9dab-1a24d3abd123"
      },
      "execution_count": 87,
      "outputs": [
        {
          "output_type": "display_data",
          "data": {
            "text/plain": [
              "<Figure size 640x480 with 2 Axes>"
            ],
            "image/png": "[encoded data removed]"
          },
          "metadata": {}
        }
      ]
    },
    {
      "cell_type": "code",
      "source": [
        "qml.about()"
      ],
      "metadata": {
        "colab": {
          "base_uri": "https://localhost:8080/"
        },
        "id": "8PkoWWtZX9Ps",
        "outputId": "ef713544-0ba8-40d3-a3e9-cc292556e16a"
      },
      "execution_count": null,
      "outputs": [
        {
          "output_type": "stream",
          "name": "stdout",
          "text": [
            "Name: PennyLane\n",
            "Version: 0.29.1\n",
            "Summary: PennyLane is a Python quantum machine learning library by Xanadu Inc.\n",
            "Home-page: https://github.com/XanaduAI/pennylane\n",
            "Author: \n",
            "Author-email: \n",
            "License: Apache License 2.0\n",
            "Location: /usr/local/lib/python3.9/dist-packages\n",
            "Requires: appdirs, autograd, autoray, cachetools, networkx, numpy, pennylane-lightning, requests, retworkx, scipy, semantic-version, toml\n",
            "Required-by: PennyLane-Lightning, PennyLane-SF\n",
            "\n",
            "Platform info:           Linux-5.10.147+-x86_64-with-glibc2.31\n",
            "Python version:          3.9.16\n",
            "Numpy version:           1.22.4\n",
            "Scipy version:           1.10.1\n",
            "Installed devices:\n",
            "- default.gaussian (PennyLane-0.29.1)\n",
            "- default.mixed (PennyLane-0.29.1)\n",
            "- default.qubit (PennyLane-0.29.1)\n",
            "- default.qubit.autograd (PennyLane-0.29.1)\n",
            "- default.qubit.jax (PennyLane-0.29.1)\n",
            "- default.qubit.tf (PennyLane-0.29.1)\n",
            "- default.qubit.torch (PennyLane-0.29.1)\n",
            "- default.qutrit (PennyLane-0.29.1)\n",
            "- null.qubit (PennyLane-0.29.1)\n",
            "- lightning.qubit (PennyLane-Lightning-0.29.0)\n",
            "- strawberryfields.fock (PennyLane-SF-0.29.0)\n",
            "- strawberryfields.gaussian (PennyLane-SF-0.29.0)\n",
            "- strawberryfields.gbs (PennyLane-SF-0.29.0)\n",
            "- strawberryfields.remote (PennyLane-SF-0.29.0)\n",
            "- strawberryfields.tf (PennyLane-SF-0.29.0)\n"
          ]
        }
      ]
    },
    {
      "cell_type": "code",
      "source": [
        "# num_layers = 1\n",
        "# M = len(trainX[0])\n",
        "# num_variables_per_layer = 6  # M * (M - 1)\n",
        "\n",
        "# rng = np.random.default_rng(seed=1234)\n",
        "# var_init = np.array([0.5]*params_num, requires_grad=True)\n",
        "# print(var_init)\n",
        "\n",
        "# cost_grad = qml.grad(cost)\n",
        "\n",
        "# print_every = 1\n",
        "\n",
        "# # Wrap the cost so that NLopt can use it for gradient-based optimizations\n",
        "# evals = 0\n",
        "# var = params\n",
        "# def cost_wrapper(var, grad=[]):\n",
        "#     global evals\n",
        "#     evals += 1\n",
        "\n",
        "#     if grad.size > 0:\n",
        "#         # Get the gradient for `var` by first \"unflattening\" it\n",
        "#         var = var.reshape((num_layers, num_variables_per_layer))\n",
        "#         var = np.array(var, requires_grad=True)\n",
        "#         var_grad = cost_grad(var, trainX, trainY)\n",
        "#         grad[:] = var_grad.flatten()\n",
        "#     cost_val = cost(var.reshape((num_layers, num_variables_per_layer)), trainX, trainY)\n",
        "\n",
        "#     if evals % print_every == 0:\n",
        "#         print(f\"Iter: {evals:4d}    Cost: {cost_val:.4e}\")\n",
        "\n",
        "#     return float(cost_val)\n",
        "\n",
        "# # Choose an algorithm\n",
        "# opt_algorithm = nlopt.LD_LBFGS  # Gradient-based\n",
        "# # opt_algorithm = nlopt.LN_BOBYQA  # Gradient-free\n",
        "\n",
        "# opt = nlopt.opt(opt_algorithm, num_layers*num_variables_per_layer)\n",
        "\n",
        "# opt.set_min_objective(cost_wrapper)\n",
        "\n",
        "# opt.set_lower_bounds(-2*np.pi * np.ones(num_layers*num_variables_per_layer))\n",
        "# opt.set_upper_bounds(2*np.pi * np.ones(num_layers*num_variables_per_layer))\n",
        "\n",
        "# var = opt.optimize(var_init.flatten())\n",
        "# var = var.reshape(var_init.shape)"
      ],
      "metadata": {
        "id": "1AFyHf7Uahl2"
      },
      "execution_count": null,
      "outputs": []
    },
    {
      "cell_type": "code",
      "source": [],
      "metadata": {
        "id": "D_Xrcrwpa06V"
      },
      "execution_count": null,
      "outputs": []
    }
  ]
}