{
 "cells": [
  {
   "cell_type": "code",
   "execution_count": 1,
   "id": "e7152760",
   "metadata": {},
   "outputs": [
    {
     "name": "stderr",
     "output_type": "stream",
     "text": [
      "/usr/local/lib/python3.5/dist-packages/tensorflow/python/framework/dtypes.py:517: FutureWarning: Passing (type, 1) or '1type' as a synonym of type is deprecated; in a future version of numpy, it will be understood as (type, (1,)) / '(1,)type'.\n",
      "  _np_qint8 = np.dtype([(\"qint8\", np.int8, 1)])\n",
      "/usr/local/lib/python3.5/dist-packages/tensorflow/python/framework/dtypes.py:518: FutureWarning: Passing (type, 1) or '1type' as a synonym of type is deprecated; in a future version of numpy, it will be understood as (type, (1,)) / '(1,)type'.\n",
      "  _np_quint8 = np.dtype([(\"quint8\", np.uint8, 1)])\n",
      "/usr/local/lib/python3.5/dist-packages/tensorflow/python/framework/dtypes.py:519: FutureWarning: Passing (type, 1) or '1type' as a synonym of type is deprecated; in a future version of numpy, it will be understood as (type, (1,)) / '(1,)type'.\n",
      "  _np_qint16 = np.dtype([(\"qint16\", np.int16, 1)])\n",
      "/usr/local/lib/python3.5/dist-packages/tensorflow/python/framework/dtypes.py:520: FutureWarning: Passing (type, 1) or '1type' as a synonym of type is deprecated; in a future version of numpy, it will be understood as (type, (1,)) / '(1,)type'.\n",
      "  _np_quint16 = np.dtype([(\"quint16\", np.uint16, 1)])\n",
      "/usr/local/lib/python3.5/dist-packages/tensorflow/python/framework/dtypes.py:521: FutureWarning: Passing (type, 1) or '1type' as a synonym of type is deprecated; in a future version of numpy, it will be understood as (type, (1,)) / '(1,)type'.\n",
      "  _np_qint32 = np.dtype([(\"qint32\", np.int32, 1)])\n",
      "/usr/local/lib/python3.5/dist-packages/tensorflow/python/framework/dtypes.py:526: FutureWarning: Passing (type, 1) or '1type' as a synonym of type is deprecated; in a future version of numpy, it will be understood as (type, (1,)) / '(1,)type'.\n",
      "  np_resource = np.dtype([(\"resource\", np.ubyte, 1)])\n"
     ]
    }
   ],
   "source": [
    "import tensorflow as tf\n",
    "import strawberryfields as sf\n",
    "import numpy as np\n",
    "import matplotlib.pyplot as plt\n",
    "\n",
    "from strawberryfields import ops\n",
    "\n",
    "from qmlt.tf import CircuitLearner\n",
    "from qmlt.tf.helpers import make_param\n",
    "\n",
    "from sklearn.utils import shuffle\n",
    "from sklearn.datasets import load_digits"
   ]
  },
  {
   "cell_type": "code",
   "execution_count": 2,
   "id": "46ec8542",
   "metadata": {},
   "outputs": [
    {
     "data": {
      "text/plain": [
       "<tensorflow.python.client.session.Session at 0x7fef1c6506d8>"
      ]
     },
     "execution_count": 2,
     "metadata": {},
     "output_type": "execute_result"
    }
   ],
   "source": [
    "sess = tf.Session(config=tf.ConfigProto(log_device_placement=True))\n",
    "sess"
   ]
  },
  {
   "cell_type": "code",
   "execution_count": 3,
   "id": "5c0707ed",
   "metadata": {
    "scrolled": false
   },
   "outputs": [
    {
     "name": "stdout",
     "output_type": "stream",
     "text": [
      "[name: \"/device:CPU:0\"\n",
      "device_type: \"CPU\"\n",
      "memory_limit: 268435456\n",
      "locality {\n",
      "}\n",
      "incarnation: 1841069384148250975\n",
      ", name: \"/device:GPU:0\"\n",
      "device_type: \"GPU\"\n",
      "memory_limit: 235274240\n",
      "locality {\n",
      "  bus_id: 1\n",
      "}\n",
      "incarnation: 16250395490664216184\n",
      "physical_device_desc: \"device: 0, name: GeForce GTX 1080 Ti, pci bus id: 0000:65:00.0, compute capability: 6.1\"\n",
      "]\n"
     ]
    }
   ],
   "source": [
    "from tensorflow.python.client import device_lib\n",
    "print(device_lib.list_local_devices())"
   ]
  },
  {
   "cell_type": "markdown",
   "id": "a37c5125",
   "metadata": {},
   "source": [
    "### Preparing dataset\n",
    "\n",
    "We install a data from "
   ]
  },
  {
   "cell_type": "code",
   "execution_count": null,
   "id": "2df99244",
   "metadata": {},
   "outputs": [],
   "source": []
  },
  {
   "cell_type": "code",
   "execution_count": 81,
   "id": "77366f1d",
   "metadata": {},
   "outputs": [],
   "source": [
    " def make_matrixes_4x4(x, axs_scale):  # TODO\n",
    "\n",
    "        \"\"\"\n",
    "            идем матрицей 3х3 с шагом 1,\n",
    "            тогда из мтарицы 8х8 получаем 6х6\n",
    "        \"\"\"\n",
    "        output = []\n",
    "        for i in range(0, axs_scale-2, 2):  # x\n",
    "            for j in range(0, axs_scale-2, 2):  # y\n",
    "                matrix = [x[i][j], x[i][j + 1], x[i][j + 2], x[i][j + 3],\n",
    "                         x[i + 1][j], x[i + 1][j + 1], x[i + 1][j + 2], x[i + 1][j + 3],\n",
    "                         x[i + 2][j], x[i + 2][j + 1], x[i + 2][j + 2], x[i + 2][j + 3],\n",
    "                         x[i + 3][j], x[i + 3][j + 1], x[i + 3][j + 2], x[i + 3][j + 3]]\n",
    "                \n",
    "                output.append(matrix) \n",
    "        return output"
   ]
  },
  {
   "cell_type": "markdown",
   "id": "74519cfc",
   "metadata": {},
   "source": [
    "**code to visualize samples from the dataset**"
   ]
  },
  {
   "cell_type": "code",
   "execution_count": 82,
   "id": "6bad851b",
   "metadata": {},
   "outputs": [],
   "source": [
    "def draw_samples(samples, samples_number: int) -> None:\n",
    "    \"\"\"\n",
    "    Visualize an ordered amount of randomly chosen samples from a given dataset.\n",
    "    :param dataset: A Dataset from which to take samples to visualize\n",
    "    :param samples_number: A number of samples to visualize\n",
    "    \"\"\"\n",
    "\n",
    "    if samples_number % 4 == 0:\n",
    "        rows = samples_number//4\n",
    "    else:\n",
    "        rows = samples_number // 4 + 1\n",
    "\n",
    "    if samples_number > 4:\n",
    "        fig, axs = plt.subplots(nrows=rows, ncols=4)\n",
    "        for i in range(samples_number):\n",
    "            index = np.random.randint(len(samples))\n",
    "            # print(index)\n",
    "            # print(dataset.trainX.shape)\n",
    "            axs[i // 4, i % 4].imshow(samples[index].reshape([8, 8]))\n",
    "    else:\n",
    "        fig, axs = plt.subplots(nrows=rows, ncols=4)\n",
    "        for i in range(samples_number):\n",
    "            index = np.random.randint(len(samples))\n",
    "            # print(dataset.trainX[index].shape)\n",
    "            axs[i % 4].imshow(samples[index].reshape([8, 8]))\n",
    "            \n",
    "    plt.show()\n",
    "\n",
    "#     plt.savefig('Mnist/CNN/Digits.png')"
   ]
  },
  {
   "cell_type": "code",
   "execution_count": 83,
   "id": "21ae8e7d",
   "metadata": {},
   "outputs": [],
   "source": [
    "def create_dataset(split=0.1):\n",
    "    digits = load_digits()\n",
    "    \n",
    "    x = np.array(digits.data) / 255.0\n",
    "    y = np.array(digits.target)\n",
    "    \n",
    "    x, y = shuffle(x, y, random_state=7)\n",
    "\n",
    "    sep = round(len(x)*split)\n",
    "\n",
    "    train_x, train_y = x[sep:], y[sep:]\n",
    "    test_x, test_y = x[:sep], y[:sep]\n",
    "    \n",
    "    draw_samples(test_x, 8)\n",
    "\n",
    "    return train_x, train_y, test_x, test_y"
   ]
  },
  {
   "cell_type": "code",
   "execution_count": 84,
   "id": "1fb1e040",
   "metadata": {},
   "outputs": [],
   "source": [
    "def create_dataset_binary(class0: int, class1=None, split=0.1):\n",
    "    # загружаем датасет\n",
    "    digits = load_digits()\n",
    "\n",
    "    x = np.array(digits.data) / 255.0\n",
    "    y = np.array(digits.target)\n",
    "\n",
    "    x0, y0 = x[y == class0], y[y == class0]\n",
    "    y0 = np.zeros(len(y0))\n",
    "\n",
    "    if class1 is not None:\n",
    "        x1, y1 = x[y == class1], y[y == class1]\n",
    "        y1 = np.ones(len(y1))\n",
    "    else:\n",
    "        x1, y1 = x[y != class0], y[y != class0]\n",
    "        y1 = np.zeros(len(y1))\n",
    "\n",
    "    x, y = np.vstack((x0, x1)), np.hstack([y0, y1])\n",
    "    x, y = shuffle(x, y, random_state=7)\n",
    "\n",
    "    sep = round(len(y) * split)  # default ~10% for a test\n",
    "\n",
    "    train_x, train_y = x[sep:], y[sep:]\n",
    "    test_x, test_y = x[:sep], y[:sep]\n",
    "    \n",
    "    draw_samples(test_x, 8)\n",
    "\n",
    "    return train_x, train_y, test_x, test_y"
   ]
  },
  {
   "cell_type": "markdown",
   "id": "87b54005",
   "metadata": {},
   "source": [
    "## Quantum Neural Network Model"
   ]
  },
  {
   "cell_type": "code",
   "execution_count": 146,
   "id": "58aa3225",
   "metadata": {},
   "outputs": [],
   "source": [
    "wires = 8\n",
    "params_num = 66\n",
    "\n",
    "\n",
    "def myloss(circuit_output, targets):\n",
    "    return tf.losses.mean_squared_error(labels=circuit_output, predictions=targets)\n",
    "\n",
    "\n",
    "def outputs_to_predictions(outpt):\n",
    "    return tf.round(outpt)\n",
    "\n",
    "def circuit(X):\n",
    "\n",
    "#     params = [make_param(name='phi'+str(i), constant=.5, monitor=True, regularize=False) for i in range(20)]\n",
    "\n",
    "    def shaper(x):\n",
    "        \"\"\"\n",
    "        x - a single picture\n",
    "        :param x: an array of pixels\n",
    "        :return: shape and reshaped array of pixels\n",
    "        \"\"\"\n",
    "        print(x)\n",
    "\n",
    "        if x.shape[0] == 64:\n",
    "            return 8, tf.reshape(x, [8, 8])\n",
    "        elif x.shape[0] == 36:\n",
    "            return 6, tf.reshape(x, [6, 6])\n",
    "        elif x.shape[0] == 35:\n",
    "            return 5, tf.reshape(x, [5, 5])\n",
    "        elif x.shape[0] == 16:\n",
    "            return 4, tf.reshape(x, [4, 4])\n",
    "        elif x.shape[0] == 9:\n",
    "            return 3, tf.reshape(x, [3, 3])\n",
    "        elif x.shape[0] == 4:\n",
    "            return 2, tf.reshape(x, [2, 2])\n",
    "\n",
    "    def conv_4x4_layer(x, params):\n",
    "        \"\"\"\n",
    "        54 parameters\n",
    "        :param x: input data with shape (4,)\n",
    "        :param delta: parameters shift for the current layer\n",
    "        :return: bosons amount in the 0's qumode.\n",
    "        \"\"\"\n",
    "        \n",
    "        eng, q = sf.Engine(4)\n",
    "        \n",
    "        quater_pi = tf.constant(np.pi / 4)\n",
    "        \n",
    "        def layer(delta):\n",
    "            ops.BSgate(quater_pi, 0) | (q[0], q[1])\n",
    "            ops.BSgate(quater_pi, 0) | (q[2], q[3])\n",
    "#             ops.BSgate(quater_pi, 0) | (q[4], q[5])\n",
    "#             ops.BSgate(quater_pi, 0) | (q[6], q[7])\n",
    "            ops.Rgate(params[0 + delta]) | q[0]\n",
    "            ops.Rgate(params[1 + delta]) | q[1]\n",
    "            ops.Rgate(params[2 + delta]) | q[2]\n",
    "            ops.Rgate(params[3 + delta]) | q[3]\n",
    "            ops.BSgate(quater_pi, 0) | (q[1], q[2])\n",
    "            ops.BSgate(quater_pi, 0) | (q[0], q[3])\n",
    "            ops.Rgate(params[4 + delta]) | q[0]\n",
    "            ops.Rgate(params[5 + delta]) | q[1]\n",
    "            ops.Rgate(params[6 + delta]) | q[2]\n",
    "            ops.Rgate(params[7 + delta]) | q[3]\n",
    "\n",
    "        with eng:\n",
    "            for j in range(4):\n",
    "                ops.Sgate(1.5, x[:, j]) | q[j]\n",
    "                \n",
    "            layer(0)\n",
    "            \n",
    "            for j in range(4):\n",
    "                ops.Sgate(1.5, x[:, j+4]) | q[j]\n",
    "            \n",
    "            layer(8)\n",
    "            \n",
    "            for j in range(4):\n",
    "                ops.Sgate(1.5, x[:, j+8]) | q[j]\n",
    "            \n",
    "            layer(16)\n",
    "            \n",
    "            for j in range(4):\n",
    "                ops.Sgate(1.5, x[:, j+12]) | q[j]\n",
    "            \n",
    "            layer(24)\n",
    "\n",
    "        num_inputs = x.get_shape().as_list()[0]\n",
    "        state = eng.run('tf', cutoff_dim=8, eval=False, batch_size=num_inputs)\n",
    "        \n",
    "        modes = 4*[0]\n",
    "        modes[0] = 2\n",
    "        p0 = state.fock_prob(modes)\n",
    "        modes[0] = 0\n",
    "        modes[1] = 2\n",
    "        p1 = state.fock_prob(modes)\n",
    "\n",
    "        normalization = p0 + p1 + 1e-10  # + p2\n",
    "        output = p0 / normalization\n",
    "        return output\n",
    "\n",
    "\n",
    "    def full_con_layer(x, delta, params):\n",
    "\n",
    "        eng, q = sf.Engine(3)\n",
    "        \n",
    "        quater_pi = tf.constant(np.pi / 4)            \n",
    "\n",
    "        with eng:\n",
    "            for k in range(3):\n",
    "                for j in range(3):\n",
    "                    ops.Sgate(1.5, x[:, j+3*k]) | q[j]\n",
    "                    \n",
    "                ops.BSgate(quater_pi, 0) | (q[0], q[1])\n",
    "                ops.BSgate(quater_pi, 0) | (q[2], q[1])\n",
    "                \n",
    "                for j in range(3):\n",
    "                    ops.Rgate(params[j + 6 * k + delta])\n",
    "                    \n",
    "                ops.BSgate(quater_pi, 0) | (q[0], q[2])\n",
    "                ops.BSgate(quater_pi, 0) | (q[1], q[0])\n",
    "                    \n",
    "                for j in range(3):\n",
    "                    ops.Rgate(params[j + 3 * (2 * k + 1)  + delta])\n",
    "            \n",
    "            ops.Dgate(params[18 + delta]) | q[0]\n",
    "            ops.Dgate(params[19 + delta]) | q[1]\n",
    "            ops.Dgate(params[20 + delta]) | q[2]\n",
    "            ops.Pgate(params[21 + delta]) | q[0]\n",
    "            ops.Pgate(params[22 + delta]) | q[1]\n",
    "            ops.Pgate(params[23 + delta]) | q[2]\n",
    "\n",
    "        num_inputs = x.get_shape().as_list()[0]\n",
    "        state = eng.run('tf', cutoff_dim=4, eval=False, batch_size=num_inputs)\n",
    "\n",
    "\n",
    "        modes = 3*[0]\n",
    "        modes[0] = 2\n",
    "        p0 = state.fock_prob(modes)\n",
    "        modes[0] = 0\n",
    "        modes[1] = 2\n",
    "        p1 = state.fock_prob(modes)\n",
    "\n",
    "        normalization = p0 + p1 + 1e-10  # + p2\n",
    "        output = p0 / normalization  # , p1 / normalization]  # , p2 / normalization]\n",
    "\n",
    "        return output\n",
    "\n",
    "    def single_circuit(input_x):  \n",
    "        \n",
    "        params = [make_param(name='phi'+str(i), constant=.5, monitor=True, regularize=False) for i in range(params_num)]\n",
    "        \n",
    "        _x = tf.map_fn(lambda x: conv_4x4_layer(x, params), input_x)\n",
    "        output = full_con_layer(_x, 32, params)\n",
    "        return output\n",
    "\n",
    "    return single_circuit(X)"
   ]
  },
  {
   "cell_type": "markdown",
   "id": "d07de478",
   "metadata": {},
   "source": [
    "## Start of the learning"
   ]
  },
  {
   "cell_type": "code",
   "execution_count": 147,
   "id": "7f07628e",
   "metadata": {},
   "outputs": [
    {
     "data": {
      "image/png": "[encoded data removed]",
      "text/plain": [
       "<Figure size 432x288 with 8 Axes>"
      ]
     },
     "metadata": {
      "needs_background": "light"
     },
     "output_type": "display_data"
    }
   ],
   "source": [
    "train_x, train_y, test_x, test_y = create_dataset_binary(class0=1, class1=9)"
   ]
  },
  {
   "cell_type": "code",
   "execution_count": 148,
   "id": "efbe28bc",
   "metadata": {},
   "outputs": [
    {
     "name": "stdout",
     "output_type": "stream",
     "text": [
      "train_x shape (326, 8, 8)\n",
      "test_x shape (36, 8, 8)\n"
     ]
    }
   ],
   "source": [
    "# reshape input as image\n",
    "train_x = np.reshape(train_x, [len(train_y), 8, 8])\n",
    "print('train_x shape', train_x.shape)\n",
    "test_x = np.reshape(test_x, [len(test_y), 8, 8])\n",
    "print('test_x shape', test_x.shape)"
   ]
  },
  {
   "cell_type": "code",
   "execution_count": 149,
   "id": "c33f6caa",
   "metadata": {},
   "outputs": [
    {
     "name": "stdout",
     "output_type": "stream",
     "text": [
      "(326, 9, 16)\n",
      "(36, 9, 16)\n"
     ]
    }
   ],
   "source": [
    "# we will make matrixes now and feed them into QCNN\n",
    "train_x = np.array([make_matrixes_4x4(x, 8) for x in train_x])\n",
    "print(train_x.shape)\n",
    "test_x = np.array([make_matrixes_4x4(x, 8) for x in test_x])\n",
    "print(test_x.shape)"
   ]
  },
  {
   "cell_type": "code",
   "execution_count": 150,
   "id": "9c9fd64e",
   "metadata": {},
   "outputs": [
    {
     "name": "stdout",
     "output_type": "stream",
     "text": [
      "trainX = (326, 9, 16)\n",
      "\n",
      "----------------------------- \n",
      " HYPERPARAMETERS: \n",
      "\n",
      "batch_size - None (default value)\n",
      "circuit - User defined function.\n",
      "decay - 0.0 (default value)\n",
      "init_learning_rate - 0.035\n",
      "log_every - 1\n",
      "loss - User defined function.\n",
      "model_dir - None (default value)\n",
      "optimizer - SGD\n",
      "outputs_to_predictions - None (default value)\n",
      "plot_every - 1 (default value)\n",
      "print_log - True (default value)\n",
      "regularization_strength - 0.1 (default value)\n",
      "regularizer - No regularizer provided.\n",
      "task - supervised\n",
      "warm_start - False\n",
      "\n",
      " -----------------------------\n",
      "INFO:tensorflow:Using default config.\n",
      "INFO:tensorflow:Using config: {'_save_checkpoints_secs': 600, '_task_type': 'worker', '_save_summary_steps': 100, '_log_step_count_steps': 100, '_is_chief': True, '_session_config': None, '_save_checkpoints_steps': None, '_cluster_spec': <tensorflow.python.training.server_lib.ClusterSpec object at 0x7fee67797fd0>, '_master': '', '_service': None, '_keep_checkpoint_every_n_hours': 10000, '_model_dir': 'logsAUTO', '_tf_random_seed': None, '_keep_checkpoint_max': 5, '_evaluation_master': '', '_global_id_in_cluster': 0, '_num_worker_replicas': 1, '_num_ps_replicas': 0, '_task_id': 0}\n",
      "INFO:tensorflow:Calling model_fn.\n",
      "INFO:tensorflow:Done calling model_fn.\n",
      "INFO:tensorflow:Create CheckpointSaverHook.\n",
      "INFO:tensorflow:Graph was finalized.\n",
      "INFO:tensorflow:Running local_init_op.\n",
      "INFO:tensorflow:Done running local_init_op.\n"
     ]
    },
    {
     "ename": "InvalidArgumentError",
     "evalue": "TensorArray dtype is double but Op is trying to write dtype float.\n\t [[Node: map/while/TensorArrayWrite/TensorArrayWriteV3 = TensorArrayWriteV3[T=DT_FLOAT, _class=[\"loc:@map/while/truediv\"], _device=\"/job:localhost/replica:0/task:0/device:GPU:0\"](map/while/TensorArrayWrite/TensorArrayWriteV3/Enter, map/while/Identity, map/while/truediv, map/while/Switch_1:1)]]\n\t [[Node: OptimizeLoss/gradients/map/while/Rotation_5/stack_1_grad/tuple/group_deps/_3046 = _Recv[client_terminated=false, recv_device=\"/job:localhost/replica:0/task:0/device:CPU:0\", send_device=\"/job:localhost/replica:0/task:0/device:GPU:0\", send_device_incarnation=1, tensor_name=\"edge_21411...group_deps\", tensor_type=DT_FLOAT, _device=\"/job:localhost/replica:0/task:0/device:CPU:0\"](^_cloopOptimizeLoss/gradients/map/while/Rotation/MatrixSetDiag_grad/zeros/_289)]]\n\nCaused by op 'map/while/TensorArrayWrite/TensorArrayWriteV3', defined at:\n  File \"/usr/lib/python3.5/runpy.py\", line 184, in _run_module_as_main\n    \"__main__\", mod_spec)\n  File \"/usr/lib/python3.5/runpy.py\", line 85, in _run_code\n    exec(code, run_globals)\n  File \"/usr/local/lib/python3.5/dist-packages/ipykernel_launcher.py\", line 16, in <module>\n    app.launch_new_instance()\n  File \"/usr/local/lib/python3.5/dist-packages/traitlets/config/application.py\", line 664, in launch_instance\n    app.start()\n  File \"/usr/local/lib/python3.5/dist-packages/ipykernel/kernelapp.py\", line 619, in start\n    self.io_loop.start()\n  File \"/usr/local/lib/python3.5/dist-packages/tornado/platform/asyncio.py\", line 199, in start\n    self.asyncio_loop.run_forever()\n  File \"/usr/lib/python3.5/asyncio/base_events.py\", line 345, in run_forever\n    self._run_once()\n  File \"/usr/lib/python3.5/asyncio/base_events.py\", line 1312, in _run_once\n    handle._run()\n  File \"/usr/lib/python3.5/asyncio/events.py\", line 125, in _run\n    self._callback(*self._args)\n  File \"/usr/local/lib/python3.5/dist-packages/tornado/ioloop.py\", line 688, in <lambda>\n    lambda f: self._run_callback(functools.partial(callback, future))\n  File \"/usr/local/lib/python3.5/dist-packages/tornado/ioloop.py\", line 741, in _run_callback\n    ret = callback()\n  File \"/usr/local/lib/python3.5/dist-packages/tornado/gen.py\", line 814, in inner\n    self.ctx_run(self.run)\n  File \"/usr/local/lib/python3.5/dist-packages/tornado/gen.py\", line 162, in _fake_ctx_run\n    return f(*args, **kw)\n  File \"/usr/local/lib/python3.5/dist-packages/tornado/gen.py\", line 775, in run\n    yielded = self.gen.send(value)\n  File \"/usr/local/lib/python3.5/dist-packages/ipykernel/kernelbase.py\", line 361, in process_one\n    yield gen.maybe_future(dispatch(*args))\n  File \"/usr/local/lib/python3.5/dist-packages/tornado/gen.py\", line 234, in wrapper\n    yielded = ctx_run(next, result)\n  File \"/usr/local/lib/python3.5/dist-packages/tornado/gen.py\", line 162, in _fake_ctx_run\n    return f(*args, **kw)\n  File \"/usr/local/lib/python3.5/dist-packages/ipykernel/kernelbase.py\", line 261, in dispatch_shell\n    yield gen.maybe_future(handler(stream, idents, msg))\n  File \"/usr/local/lib/python3.5/dist-packages/tornado/gen.py\", line 234, in wrapper\n    yielded = ctx_run(next, result)\n  File \"/usr/local/lib/python3.5/dist-packages/tornado/gen.py\", line 162, in _fake_ctx_run\n    return f(*args, **kw)\n  File \"/usr/local/lib/python3.5/dist-packages/ipykernel/kernelbase.py\", line 541, in execute_request\n    user_expressions, allow_stdin,\n  File \"/usr/local/lib/python3.5/dist-packages/tornado/gen.py\", line 234, in wrapper\n    yielded = ctx_run(next, result)\n  File \"/usr/local/lib/python3.5/dist-packages/tornado/gen.py\", line 162, in _fake_ctx_run\n    return f(*args, **kw)\n  File \"/usr/local/lib/python3.5/dist-packages/ipykernel/ipkernel.py\", line 302, in do_execute\n    res = shell.run_cell(code, store_history=store_history, silent=silent)\n  File \"/usr/local/lib/python3.5/dist-packages/ipykernel/zmqshell.py\", line 539, in run_cell\n    return super(ZMQInteractiveShell, self).run_cell(*args, **kwargs)\n  File \"/usr/local/lib/python3.5/dist-packages/IPython/core/interactiveshell.py\", line 2855, in run_cell\n    raw_cell, store_history, silent, shell_futures)\n  File \"/usr/local/lib/python3.5/dist-packages/IPython/core/interactiveshell.py\", line 2881, in _run_cell\n    return runner(coro)\n  File \"/usr/local/lib/python3.5/dist-packages/IPython/core/async_helpers.py\", line 68, in _pseudo_sync_runner\n    coro.send(None)\n  File \"/usr/local/lib/python3.5/dist-packages/IPython/core/interactiveshell.py\", line 3058, in run_cell_async\n    interactivity=interactivity, compiler=compiler, result=result)\n  File \"/usr/local/lib/python3.5/dist-packages/IPython/core/interactiveshell.py\", line 3249, in run_ast_nodes\n    if (await self.run_code(code, result,  async_=asy)):\n  File \"/usr/local/lib/python3.5/dist-packages/IPython/core/interactiveshell.py\", line 3326, in run_code\n    exec(code_obj, self.user_global_ns, self.user_ns)\n  File \"<ipython-input-150-5ef9cf65a141>\", line 17, in <module>\n    learner.train_circuit(X=train_x, Y=train_y, steps=steps, batch_size=batch_size)\n  File \"/usr/local/lib/python3.5/dist-packages/qmlt/tf/learner.py\", line 561, in train_circuit\n    self.train(input_fn=input_fn, hooks=myhooks, steps=steps)\n  File \"/usr/local/lib/python3.5/dist-packages/tensorflow/python/estimator/estimator.py\", line 352, in train\n    loss = self._train_model(input_fn, hooks, saving_listeners)\n  File \"/usr/local/lib/python3.5/dist-packages/tensorflow/python/estimator/estimator.py\", line 812, in _train_model\n    features, labels, model_fn_lib.ModeKeys.TRAIN, self.config)\n  File \"/usr/local/lib/python3.5/dist-packages/tensorflow/python/estimator/estimator.py\", line 793, in _call_model_fn\n    model_fn_results = self._model_fn(features=features, **kwargs)\n  File \"/usr/local/lib/python3.5/dist-packages/qmlt/tf/learner.py\", line 504, in _model_fn\n    mode=mode)\n  File \"/usr/local/lib/python3.5/dist-packages/qmlt/tf/learner.py\", line 345, in _qcv_model_fn\n    outps = circuit(X=X)\n  File \"<ipython-input-146-8fdb2e7faab8>\", line 155, in circuit\n    return single_circuit(X)\n  File \"<ipython-input-146-8fdb2e7faab8>\", line 151, in single_circuit\n    _x = tf.map_fn(lambda x: conv_4x4_layer(x, params), input_x)\n  File \"/usr/local/lib/python3.5/dist-packages/tensorflow/python/ops/functional_ops.py\", line 413, in map_fn\n    swap_memory=swap_memory)\n  File \"/usr/local/lib/python3.5/dist-packages/tensorflow/python/ops/control_flow_ops.py\", line 3096, in while_loop\n    result = loop_context.BuildLoop(cond, body, loop_vars, shape_invariants)\n  File \"/usr/local/lib/python3.5/dist-packages/tensorflow/python/ops/control_flow_ops.py\", line 2874, in BuildLoop\n    pred, body, original_loop_vars, loop_vars, shape_invariants)\n  File \"/usr/local/lib/python3.5/dist-packages/tensorflow/python/ops/control_flow_ops.py\", line 2814, in _BuildLoop\n    body_result = body(*packed_vars_for_body)\n  File \"/usr/local/lib/python3.5/dist-packages/tensorflow/python/ops/functional_ops.py\", line 406, in compute\n    tas = [ta.write(i, value) for (ta, value) in zip(tas, flat_fn_values)]\n  File \"/usr/local/lib/python3.5/dist-packages/tensorflow/python/ops/functional_ops.py\", line 406, in <listcomp>\n    tas = [ta.write(i, value) for (ta, value) in zip(tas, flat_fn_values)]\n  File \"/usr/local/lib/python3.5/dist-packages/tensorflow/python/util/tf_should_use.py\", line 118, in wrapped\n    return _add_should_use_warning(fn(*args, **kwargs))\n  File \"/usr/local/lib/python3.5/dist-packages/tensorflow/python/ops/tensor_array_ops.py\", line 879, in write\n    return self._implementation.write(index, value, name=name)\n  File \"/usr/local/lib/python3.5/dist-packages/tensorflow/python/util/tf_should_use.py\", line 118, in wrapped\n    return _add_should_use_warning(fn(*args, **kwargs))\n  File \"/usr/local/lib/python3.5/dist-packages/tensorflow/python/ops/tensor_array_ops.py\", line 278, in write\n    name=name)\n  File \"/usr/local/lib/python3.5/dist-packages/tensorflow/python/ops/gen_data_flow_ops.py\", line 5071, in _tensor_array_write_v3\n    flow_in=flow_in, name=name)\n  File \"/usr/local/lib/python3.5/dist-packages/tensorflow/python/framework/op_def_library.py\", line 787, in _apply_op_helper\n    op_def=op_def)\n  File \"/usr/local/lib/python3.5/dist-packages/tensorflow/python/framework/ops.py\", line 3271, in create_op\n    op_def=op_def)\n  File \"/usr/local/lib/python3.5/dist-packages/tensorflow/python/framework/ops.py\", line 1650, in __init__\n    self._traceback = self._graph._extract_stack()  # pylint: disable=protected-access\n\nInvalidArgumentError (see above for traceback): TensorArray dtype is double but Op is trying to write dtype float.\n\t [[Node: map/while/TensorArrayWrite/TensorArrayWriteV3 = TensorArrayWriteV3[T=DT_FLOAT, _class=[\"loc:@map/while/truediv\"], _device=\"/job:localhost/replica:0/task:0/device:GPU:0\"](map/while/TensorArrayWrite/TensorArrayWriteV3/Enter, map/while/Identity, map/while/truediv, map/while/Switch_1:1)]]\n\t [[Node: OptimizeLoss/gradients/map/while/Rotation_5/stack_1_grad/tuple/group_deps/_3046 = _Recv[client_terminated=false, recv_device=\"/job:localhost/replica:0/task:0/device:CPU:0\", send_device=\"/job:localhost/replica:0/task:0/device:GPU:0\", send_device_incarnation=1, tensor_name=\"edge_21411...group_deps\", tensor_type=DT_FLOAT, _device=\"/job:localhost/replica:0/task:0/device:CPU:0\"](^_cloopOptimizeLoss/gradients/map/while/Rotation/MatrixSetDiag_grad/zeros/_289)]]\n",
     "output_type": "error",
     "traceback": [
      "\u001b[0;31m---------------------------------------------------------------------------\u001b[0m",
      "\u001b[0;31mInvalidArgumentError\u001b[0m                      Traceback (most recent call last)",
      "\u001b[0;32m/usr/local/lib/python3.5/dist-packages/tensorflow/python/client/session.py\u001b[0m in \u001b[0;36m_do_call\u001b[0;34m(self, fn, *args)\u001b[0m\n\u001b[1;32m   1360\u001b[0m     \u001b[0;32mtry\u001b[0m\u001b[0;34m:\u001b[0m\u001b[0;34m\u001b[0m\u001b[0m\n\u001b[0;32m-> 1361\u001b[0;31m       \u001b[0;32mreturn\u001b[0m \u001b[0mfn\u001b[0m\u001b[0;34m(\u001b[0m\u001b[0;34m*\u001b[0m\u001b[0margs\u001b[0m\u001b[0;34m)\u001b[0m\u001b[0;34m\u001b[0m\u001b[0m\n\u001b[0m\u001b[1;32m   1362\u001b[0m     \u001b[0;32mexcept\u001b[0m \u001b[0merrors\u001b[0m\u001b[0;34m.\u001b[0m\u001b[0mOpError\u001b[0m \u001b[0;32mas\u001b[0m \u001b[0me\u001b[0m\u001b[0;34m:\u001b[0m\u001b[0;34m\u001b[0m\u001b[0m\n",
      "\u001b[0;32m/usr/local/lib/python3.5/dist-packages/tensorflow/python/client/session.py\u001b[0m in \u001b[0;36m_run_fn\u001b[0;34m(session, feed_dict, fetch_list, target_list, options, run_metadata)\u001b[0m\n\u001b[1;32m   1339\u001b[0m           return tf_session.TF_Run(session, options, feed_dict, fetch_list,\n\u001b[0;32m-> 1340\u001b[0;31m                                    target_list, status, run_metadata)\n\u001b[0m\u001b[1;32m   1341\u001b[0m \u001b[0;34m\u001b[0m\u001b[0m\n",
      "\u001b[0;32m/usr/local/lib/python3.5/dist-packages/tensorflow/python/framework/errors_impl.py\u001b[0m in \u001b[0;36m__exit__\u001b[0;34m(self, type_arg, value_arg, traceback_arg)\u001b[0m\n\u001b[1;32m    515\u001b[0m             \u001b[0mcompat\u001b[0m\u001b[0;34m.\u001b[0m\u001b[0mas_text\u001b[0m\u001b[0;34m(\u001b[0m\u001b[0mc_api\u001b[0m\u001b[0;34m.\u001b[0m\u001b[0mTF_Message\u001b[0m\u001b[0;34m(\u001b[0m\u001b[0mself\u001b[0m\u001b[0;34m.\u001b[0m\u001b[0mstatus\u001b[0m\u001b[0;34m.\u001b[0m\u001b[0mstatus\u001b[0m\u001b[0;34m)\u001b[0m\u001b[0;34m)\u001b[0m\u001b[0;34m,\u001b[0m\u001b[0;34m\u001b[0m\u001b[0m\n\u001b[0;32m--> 516\u001b[0;31m             c_api.TF_GetCode(self.status.status))\n\u001b[0m\u001b[1;32m    517\u001b[0m     \u001b[0;31m# Delete the underlying status object from memory otherwise it stays alive\u001b[0m\u001b[0;34m\u001b[0m\u001b[0;34m\u001b[0m\u001b[0m\n",
      "\u001b[0;31mInvalidArgumentError\u001b[0m: TensorArray dtype is double but Op is trying to write dtype float.\n\t [[Node: map/while/TensorArrayWrite/TensorArrayWriteV3 = TensorArrayWriteV3[T=DT_FLOAT, _class=[\"loc:@map/while/truediv\"], _device=\"/job:localhost/replica:0/task:0/device:GPU:0\"](map/while/TensorArrayWrite/TensorArrayWriteV3/Enter, map/while/Identity, map/while/truediv, map/while/Switch_1:1)]]\n\t [[Node: OptimizeLoss/gradients/map/while/Rotation_5/stack_1_grad/tuple/group_deps/_3046 = _Recv[client_terminated=false, recv_device=\"/job:localhost/replica:0/task:0/device:CPU:0\", send_device=\"/job:localhost/replica:0/task:0/device:GPU:0\", send_device_incarnation=1, tensor_name=\"edge_21411...group_deps\", tensor_type=DT_FLOAT, _device=\"/job:localhost/replica:0/task:0/device:CPU:0\"](^_cloopOptimizeLoss/gradients/map/while/Rotation/MatrixSetDiag_grad/zeros/_289)]]",
      "\nDuring handling of the above exception, another exception occurred:\n",
      "\u001b[0;31mInvalidArgumentError\u001b[0m                      Traceback (most recent call last)",
      "\u001b[0;32m<ipython-input-150-5ef9cf65a141>\u001b[0m in \u001b[0;36m<module>\u001b[0;34m\u001b[0m\n\u001b[1;32m     15\u001b[0m \u001b[0mlearner\u001b[0m \u001b[0;34m=\u001b[0m \u001b[0mCircuitLearner\u001b[0m\u001b[0;34m(\u001b[0m\u001b[0mhyperparams\u001b[0m\u001b[0;34m=\u001b[0m\u001b[0mhyperparams\u001b[0m\u001b[0;34m)\u001b[0m\u001b[0;34m\u001b[0m\u001b[0m\n\u001b[1;32m     16\u001b[0m \u001b[0;34m\u001b[0m\u001b[0m\n\u001b[0;32m---> 17\u001b[0;31m \u001b[0mlearner\u001b[0m\u001b[0;34m.\u001b[0m\u001b[0mtrain_circuit\u001b[0m\u001b[0;34m(\u001b[0m\u001b[0mX\u001b[0m\u001b[0;34m=\u001b[0m\u001b[0mtrain_x\u001b[0m\u001b[0;34m,\u001b[0m \u001b[0mY\u001b[0m\u001b[0;34m=\u001b[0m\u001b[0mtrain_y\u001b[0m\u001b[0;34m,\u001b[0m \u001b[0msteps\u001b[0m\u001b[0;34m=\u001b[0m\u001b[0msteps\u001b[0m\u001b[0;34m,\u001b[0m \u001b[0mbatch_size\u001b[0m\u001b[0;34m=\u001b[0m\u001b[0mbatch_size\u001b[0m\u001b[0;34m)\u001b[0m\u001b[0;34m\u001b[0m\u001b[0m\n\u001b[0m\u001b[1;32m     18\u001b[0m \u001b[0;34m\u001b[0m\u001b[0m\n\u001b[1;32m     19\u001b[0m test_score = learner.score_circuit(X=test_x, Y=test_y,\n",
      "\u001b[0;32m/usr/local/lib/python3.5/dist-packages/qmlt/tf/learner.py\u001b[0m in \u001b[0;36mtrain_circuit\u001b[0;34m(self, X, Y, steps, batch_size, shuffle_data, tensors_to_log)\u001b[0m\n\u001b[1;32m    559\u001b[0m             \u001b[0mmyhooks\u001b[0m \u001b[0;34m=\u001b[0m \u001b[0;32mNone\u001b[0m\u001b[0;34m\u001b[0m\u001b[0m\n\u001b[1;32m    560\u001b[0m \u001b[0;34m\u001b[0m\u001b[0m\n\u001b[0;32m--> 561\u001b[0;31m         \u001b[0mself\u001b[0m\u001b[0;34m.\u001b[0m\u001b[0mtrain\u001b[0m\u001b[0;34m(\u001b[0m\u001b[0minput_fn\u001b[0m\u001b[0;34m=\u001b[0m\u001b[0minput_fn\u001b[0m\u001b[0;34m,\u001b[0m \u001b[0mhooks\u001b[0m\u001b[0;34m=\u001b[0m\u001b[0mmyhooks\u001b[0m\u001b[0;34m,\u001b[0m \u001b[0msteps\u001b[0m\u001b[0;34m=\u001b[0m\u001b[0msteps\u001b[0m\u001b[0;34m)\u001b[0m\u001b[0;34m\u001b[0m\u001b[0m\n\u001b[0m\u001b[1;32m    562\u001b[0m \u001b[0;34m\u001b[0m\u001b[0m\n\u001b[1;32m    563\u001b[0m     \u001b[0;32mdef\u001b[0m \u001b[0mrun_circuit\u001b[0m\u001b[0;34m(\u001b[0m\u001b[0mself\u001b[0m\u001b[0;34m,\u001b[0m \u001b[0mX\u001b[0m\u001b[0;34m=\u001b[0m\u001b[0;32mNone\u001b[0m\u001b[0;34m,\u001b[0m \u001b[0moutputs_to_predictions\u001b[0m\u001b[0;34m=\u001b[0m\u001b[0;32mNone\u001b[0m\u001b[0;34m)\u001b[0m\u001b[0;34m:\u001b[0m\u001b[0;34m\u001b[0m\u001b[0m\n",
      "\u001b[0;32m/usr/local/lib/python3.5/dist-packages/tensorflow/python/estimator/estimator.py\u001b[0m in \u001b[0;36mtrain\u001b[0;34m(self, input_fn, hooks, steps, max_steps, saving_listeners)\u001b[0m\n\u001b[1;32m    350\u001b[0m \u001b[0;34m\u001b[0m\u001b[0m\n\u001b[1;32m    351\u001b[0m     \u001b[0msaving_listeners\u001b[0m \u001b[0;34m=\u001b[0m \u001b[0m_check_listeners_type\u001b[0m\u001b[0;34m(\u001b[0m\u001b[0msaving_listeners\u001b[0m\u001b[0;34m)\u001b[0m\u001b[0;34m\u001b[0m\u001b[0m\n\u001b[0;32m--> 352\u001b[0;31m     \u001b[0mloss\u001b[0m \u001b[0;34m=\u001b[0m \u001b[0mself\u001b[0m\u001b[0;34m.\u001b[0m\u001b[0m_train_model\u001b[0m\u001b[0;34m(\u001b[0m\u001b[0minput_fn\u001b[0m\u001b[0;34m,\u001b[0m \u001b[0mhooks\u001b[0m\u001b[0;34m,\u001b[0m \u001b[0msaving_listeners\u001b[0m\u001b[0;34m)\u001b[0m\u001b[0;34m\u001b[0m\u001b[0m\n\u001b[0m\u001b[1;32m    353\u001b[0m     \u001b[0mlogging\u001b[0m\u001b[0;34m.\u001b[0m\u001b[0minfo\u001b[0m\u001b[0;34m(\u001b[0m\u001b[0;34m'Loss for final step: %s.'\u001b[0m\u001b[0;34m,\u001b[0m \u001b[0mloss\u001b[0m\u001b[0;34m)\u001b[0m\u001b[0;34m\u001b[0m\u001b[0m\n\u001b[1;32m    354\u001b[0m     \u001b[0;32mreturn\u001b[0m \u001b[0mself\u001b[0m\u001b[0;34m\u001b[0m\u001b[0m\n",
      "\u001b[0;32m/usr/local/lib/python3.5/dist-packages/tensorflow/python/estimator/estimator.py\u001b[0m in \u001b[0;36m_train_model\u001b[0;34m(self, input_fn, hooks, saving_listeners)\u001b[0m\n\u001b[1;32m    889\u001b[0m         \u001b[0mloss\u001b[0m \u001b[0;34m=\u001b[0m \u001b[0;32mNone\u001b[0m\u001b[0;34m\u001b[0m\u001b[0m\n\u001b[1;32m    890\u001b[0m         \u001b[0;32mwhile\u001b[0m \u001b[0;32mnot\u001b[0m \u001b[0mmon_sess\u001b[0m\u001b[0;34m.\u001b[0m\u001b[0mshould_stop\u001b[0m\u001b[0;34m(\u001b[0m\u001b[0;34m)\u001b[0m\u001b[0;34m:\u001b[0m\u001b[0;34m\u001b[0m\u001b[0m\n\u001b[0;32m--> 891\u001b[0;31m           \u001b[0m_\u001b[0m\u001b[0;34m,\u001b[0m \u001b[0mloss\u001b[0m \u001b[0;34m=\u001b[0m \u001b[0mmon_sess\u001b[0m\u001b[0;34m.\u001b[0m\u001b[0mrun\u001b[0m\u001b[0;34m(\u001b[0m\u001b[0;34m[\u001b[0m\u001b[0mestimator_spec\u001b[0m\u001b[0;34m.\u001b[0m\u001b[0mtrain_op\u001b[0m\u001b[0;34m,\u001b[0m \u001b[0mestimator_spec\u001b[0m\u001b[0;34m.\u001b[0m\u001b[0mloss\u001b[0m\u001b[0;34m]\u001b[0m\u001b[0;34m)\u001b[0m\u001b[0;34m\u001b[0m\u001b[0m\n\u001b[0m\u001b[1;32m    892\u001b[0m       \u001b[0;32mreturn\u001b[0m \u001b[0mloss\u001b[0m\u001b[0;34m\u001b[0m\u001b[0m\n\u001b[1;32m    893\u001b[0m \u001b[0;34m\u001b[0m\u001b[0m\n",
      "\u001b[0;32m/usr/local/lib/python3.5/dist-packages/tensorflow/python/training/monitored_session.py\u001b[0m in \u001b[0;36mrun\u001b[0;34m(self, fetches, feed_dict, options, run_metadata)\u001b[0m\n\u001b[1;32m    544\u001b[0m                           \u001b[0mfeed_dict\u001b[0m\u001b[0;34m=\u001b[0m\u001b[0mfeed_dict\u001b[0m\u001b[0;34m,\u001b[0m\u001b[0;34m\u001b[0m\u001b[0m\n\u001b[1;32m    545\u001b[0m                           \u001b[0moptions\u001b[0m\u001b[0;34m=\u001b[0m\u001b[0moptions\u001b[0m\u001b[0;34m,\u001b[0m\u001b[0;34m\u001b[0m\u001b[0m\n\u001b[0;32m--> 546\u001b[0;31m                           run_metadata=run_metadata)\n\u001b[0m\u001b[1;32m    547\u001b[0m \u001b[0;34m\u001b[0m\u001b[0m\n\u001b[1;32m    548\u001b[0m   \u001b[0;32mdef\u001b[0m \u001b[0mrun_step_fn\u001b[0m\u001b[0;34m(\u001b[0m\u001b[0mself\u001b[0m\u001b[0;34m,\u001b[0m \u001b[0mstep_fn\u001b[0m\u001b[0;34m)\u001b[0m\u001b[0;34m:\u001b[0m\u001b[0;34m\u001b[0m\u001b[0m\n",
      "\u001b[0;32m/usr/local/lib/python3.5/dist-packages/tensorflow/python/training/monitored_session.py\u001b[0m in \u001b[0;36mrun\u001b[0;34m(self, fetches, feed_dict, options, run_metadata)\u001b[0m\n\u001b[1;32m   1020\u001b[0m                               \u001b[0mfeed_dict\u001b[0m\u001b[0;34m=\u001b[0m\u001b[0mfeed_dict\u001b[0m\u001b[0;34m,\u001b[0m\u001b[0;34m\u001b[0m\u001b[0m\n\u001b[1;32m   1021\u001b[0m                               \u001b[0moptions\u001b[0m\u001b[0;34m=\u001b[0m\u001b[0moptions\u001b[0m\u001b[0;34m,\u001b[0m\u001b[0;34m\u001b[0m\u001b[0m\n\u001b[0;32m-> 1022\u001b[0;31m                               run_metadata=run_metadata)\n\u001b[0m\u001b[1;32m   1023\u001b[0m       \u001b[0;32mexcept\u001b[0m \u001b[0m_PREEMPTION_ERRORS\u001b[0m \u001b[0;32mas\u001b[0m \u001b[0me\u001b[0m\u001b[0;34m:\u001b[0m\u001b[0;34m\u001b[0m\u001b[0m\n\u001b[1;32m   1024\u001b[0m         logging.info('An error was raised. This may be due to a preemption in '\n",
      "\u001b[0;32m/usr/local/lib/python3.5/dist-packages/tensorflow/python/training/monitored_session.py\u001b[0m in \u001b[0;36mrun\u001b[0;34m(self, *args, **kwargs)\u001b[0m\n\u001b[1;32m   1111\u001b[0m         \u001b[0;32mraise\u001b[0m \u001b[0msix\u001b[0m\u001b[0;34m.\u001b[0m\u001b[0mreraise\u001b[0m\u001b[0;34m(\u001b[0m\u001b[0;34m*\u001b[0m\u001b[0moriginal_exc_info\u001b[0m\u001b[0;34m)\u001b[0m\u001b[0;34m\u001b[0m\u001b[0m\n\u001b[1;32m   1112\u001b[0m       \u001b[0;32melse\u001b[0m\u001b[0;34m:\u001b[0m\u001b[0;34m\u001b[0m\u001b[0m\n\u001b[0;32m-> 1113\u001b[0;31m         \u001b[0;32mraise\u001b[0m \u001b[0msix\u001b[0m\u001b[0;34m.\u001b[0m\u001b[0mreraise\u001b[0m\u001b[0;34m(\u001b[0m\u001b[0;34m*\u001b[0m\u001b[0moriginal_exc_info\u001b[0m\u001b[0;34m)\u001b[0m\u001b[0;34m\u001b[0m\u001b[0m\n\u001b[0m\u001b[1;32m   1114\u001b[0m \u001b[0;34m\u001b[0m\u001b[0m\n\u001b[1;32m   1115\u001b[0m \u001b[0;34m\u001b[0m\u001b[0m\n",
      "\u001b[0;32m/usr/local/lib/python3.5/dist-packages/six.py\u001b[0m in \u001b[0;36mreraise\u001b[0;34m(tp, value, tb)\u001b[0m\n\u001b[1;32m    694\u001b[0m             \u001b[0;32mif\u001b[0m \u001b[0mvalue\u001b[0m\u001b[0;34m.\u001b[0m\u001b[0m__traceback__\u001b[0m \u001b[0;32mis\u001b[0m \u001b[0;32mnot\u001b[0m \u001b[0mtb\u001b[0m\u001b[0;34m:\u001b[0m\u001b[0;34m\u001b[0m\u001b[0m\n\u001b[1;32m    695\u001b[0m                 \u001b[0;32mraise\u001b[0m \u001b[0mvalue\u001b[0m\u001b[0;34m.\u001b[0m\u001b[0mwith_traceback\u001b[0m\u001b[0;34m(\u001b[0m\u001b[0mtb\u001b[0m\u001b[0;34m)\u001b[0m\u001b[0;34m\u001b[0m\u001b[0m\n\u001b[0;32m--> 696\u001b[0;31m             \u001b[0;32mraise\u001b[0m \u001b[0mvalue\u001b[0m\u001b[0;34m\u001b[0m\u001b[0m\n\u001b[0m\u001b[1;32m    697\u001b[0m         \u001b[0;32mfinally\u001b[0m\u001b[0;34m:\u001b[0m\u001b[0;34m\u001b[0m\u001b[0m\n\u001b[1;32m    698\u001b[0m             \u001b[0mvalue\u001b[0m \u001b[0;34m=\u001b[0m \u001b[0;32mNone\u001b[0m\u001b[0;34m\u001b[0m\u001b[0m\n",
      "\u001b[0;32m/usr/local/lib/python3.5/dist-packages/tensorflow/python/training/monitored_session.py\u001b[0m in \u001b[0;36mrun\u001b[0;34m(self, *args, **kwargs)\u001b[0m\n\u001b[1;32m   1096\u001b[0m   \u001b[0;32mdef\u001b[0m \u001b[0mrun\u001b[0m\u001b[0;34m(\u001b[0m\u001b[0mself\u001b[0m\u001b[0;34m,\u001b[0m \u001b[0;34m*\u001b[0m\u001b[0margs\u001b[0m\u001b[0;34m,\u001b[0m \u001b[0;34m**\u001b[0m\u001b[0mkwargs\u001b[0m\u001b[0;34m)\u001b[0m\u001b[0;34m:\u001b[0m\u001b[0;34m\u001b[0m\u001b[0m\n\u001b[1;32m   1097\u001b[0m     \u001b[0;32mtry\u001b[0m\u001b[0;34m:\u001b[0m\u001b[0;34m\u001b[0m\u001b[0m\n\u001b[0;32m-> 1098\u001b[0;31m       \u001b[0;32mreturn\u001b[0m \u001b[0mself\u001b[0m\u001b[0;34m.\u001b[0m\u001b[0m_sess\u001b[0m\u001b[0;34m.\u001b[0m\u001b[0mrun\u001b[0m\u001b[0;34m(\u001b[0m\u001b[0;34m*\u001b[0m\u001b[0margs\u001b[0m\u001b[0;34m,\u001b[0m \u001b[0;34m**\u001b[0m\u001b[0mkwargs\u001b[0m\u001b[0;34m)\u001b[0m\u001b[0;34m\u001b[0m\u001b[0m\n\u001b[0m\u001b[1;32m   1099\u001b[0m     \u001b[0;32mexcept\u001b[0m \u001b[0m_PREEMPTION_ERRORS\u001b[0m\u001b[0;34m:\u001b[0m\u001b[0;34m\u001b[0m\u001b[0m\n\u001b[1;32m   1100\u001b[0m       \u001b[0;32mraise\u001b[0m\u001b[0;34m\u001b[0m\u001b[0m\n",
      "\u001b[0;32m/usr/local/lib/python3.5/dist-packages/tensorflow/python/training/monitored_session.py\u001b[0m in \u001b[0;36mrun\u001b[0;34m(self, fetches, feed_dict, options, run_metadata)\u001b[0m\n\u001b[1;32m   1168\u001b[0m                                   \u001b[0mfeed_dict\u001b[0m\u001b[0;34m=\u001b[0m\u001b[0mfeed_dict\u001b[0m\u001b[0;34m,\u001b[0m\u001b[0;34m\u001b[0m\u001b[0m\n\u001b[1;32m   1169\u001b[0m                                   \u001b[0moptions\u001b[0m\u001b[0;34m=\u001b[0m\u001b[0moptions\u001b[0m\u001b[0;34m,\u001b[0m\u001b[0;34m\u001b[0m\u001b[0m\n\u001b[0;32m-> 1170\u001b[0;31m                                   run_metadata=run_metadata)\n\u001b[0m\u001b[1;32m   1171\u001b[0m \u001b[0;34m\u001b[0m\u001b[0m\n\u001b[1;32m   1172\u001b[0m     \u001b[0;32mfor\u001b[0m \u001b[0mhook\u001b[0m \u001b[0;32min\u001b[0m \u001b[0mself\u001b[0m\u001b[0;34m.\u001b[0m\u001b[0m_hooks\u001b[0m\u001b[0;34m:\u001b[0m\u001b[0;34m\u001b[0m\u001b[0m\n",
      "\u001b[0;32m/usr/local/lib/python3.5/dist-packages/tensorflow/python/training/monitored_session.py\u001b[0m in \u001b[0;36mrun\u001b[0;34m(self, *args, **kwargs)\u001b[0m\n\u001b[1;32m    948\u001b[0m \u001b[0;34m\u001b[0m\u001b[0m\n\u001b[1;32m    949\u001b[0m   \u001b[0;32mdef\u001b[0m \u001b[0mrun\u001b[0m\u001b[0;34m(\u001b[0m\u001b[0mself\u001b[0m\u001b[0;34m,\u001b[0m \u001b[0;34m*\u001b[0m\u001b[0margs\u001b[0m\u001b[0;34m,\u001b[0m \u001b[0;34m**\u001b[0m\u001b[0mkwargs\u001b[0m\u001b[0;34m)\u001b[0m\u001b[0;34m:\u001b[0m\u001b[0;34m\u001b[0m\u001b[0m\n\u001b[0;32m--> 950\u001b[0;31m     \u001b[0;32mreturn\u001b[0m \u001b[0mself\u001b[0m\u001b[0;34m.\u001b[0m\u001b[0m_sess\u001b[0m\u001b[0;34m.\u001b[0m\u001b[0mrun\u001b[0m\u001b[0;34m(\u001b[0m\u001b[0;34m*\u001b[0m\u001b[0margs\u001b[0m\u001b[0;34m,\u001b[0m \u001b[0;34m**\u001b[0m\u001b[0mkwargs\u001b[0m\u001b[0;34m)\u001b[0m\u001b[0;34m\u001b[0m\u001b[0m\n\u001b[0m\u001b[1;32m    951\u001b[0m \u001b[0;34m\u001b[0m\u001b[0m\n\u001b[1;32m    952\u001b[0m   \u001b[0;32mdef\u001b[0m \u001b[0mrun_step_fn\u001b[0m\u001b[0;34m(\u001b[0m\u001b[0mself\u001b[0m\u001b[0;34m,\u001b[0m \u001b[0mstep_fn\u001b[0m\u001b[0;34m,\u001b[0m \u001b[0mraw_session\u001b[0m\u001b[0;34m,\u001b[0m \u001b[0mrun_with_hooks\u001b[0m\u001b[0;34m)\u001b[0m\u001b[0;34m:\u001b[0m\u001b[0;34m\u001b[0m\u001b[0m\n",
      "\u001b[0;32m/usr/local/lib/python3.5/dist-packages/tensorflow/python/client/session.py\u001b[0m in \u001b[0;36mrun\u001b[0;34m(self, fetches, feed_dict, options, run_metadata)\u001b[0m\n\u001b[1;32m    903\u001b[0m     \u001b[0;32mtry\u001b[0m\u001b[0;34m:\u001b[0m\u001b[0;34m\u001b[0m\u001b[0m\n\u001b[1;32m    904\u001b[0m       result = self._run(None, fetches, feed_dict, options_ptr,\n\u001b[0;32m--> 905\u001b[0;31m                          run_metadata_ptr)\n\u001b[0m\u001b[1;32m    906\u001b[0m       \u001b[0;32mif\u001b[0m \u001b[0mrun_metadata\u001b[0m\u001b[0;34m:\u001b[0m\u001b[0;34m\u001b[0m\u001b[0m\n\u001b[1;32m    907\u001b[0m         \u001b[0mproto_data\u001b[0m \u001b[0;34m=\u001b[0m \u001b[0mtf_session\u001b[0m\u001b[0;34m.\u001b[0m\u001b[0mTF_GetBuffer\u001b[0m\u001b[0;34m(\u001b[0m\u001b[0mrun_metadata_ptr\u001b[0m\u001b[0;34m)\u001b[0m\u001b[0;34m\u001b[0m\u001b[0m\n",
      "\u001b[0;32m/usr/local/lib/python3.5/dist-packages/tensorflow/python/client/session.py\u001b[0m in \u001b[0;36m_run\u001b[0;34m(self, handle, fetches, feed_dict, options, run_metadata)\u001b[0m\n\u001b[1;32m   1135\u001b[0m     \u001b[0;32mif\u001b[0m \u001b[0mfinal_fetches\u001b[0m \u001b[0;32mor\u001b[0m \u001b[0mfinal_targets\u001b[0m \u001b[0;32mor\u001b[0m \u001b[0;34m(\u001b[0m\u001b[0mhandle\u001b[0m \u001b[0;32mand\u001b[0m \u001b[0mfeed_dict_tensor\u001b[0m\u001b[0;34m)\u001b[0m\u001b[0;34m:\u001b[0m\u001b[0;34m\u001b[0m\u001b[0m\n\u001b[1;32m   1136\u001b[0m       results = self._do_run(handle, final_targets, final_fetches,\n\u001b[0;32m-> 1137\u001b[0;31m                              feed_dict_tensor, options, run_metadata)\n\u001b[0m\u001b[1;32m   1138\u001b[0m     \u001b[0;32melse\u001b[0m\u001b[0;34m:\u001b[0m\u001b[0;34m\u001b[0m\u001b[0m\n\u001b[1;32m   1139\u001b[0m       \u001b[0mresults\u001b[0m \u001b[0;34m=\u001b[0m \u001b[0;34m[\u001b[0m\u001b[0;34m]\u001b[0m\u001b[0;34m\u001b[0m\u001b[0m\n",
      "\u001b[0;32m/usr/local/lib/python3.5/dist-packages/tensorflow/python/client/session.py\u001b[0m in \u001b[0;36m_do_run\u001b[0;34m(self, handle, target_list, fetch_list, feed_dict, options, run_metadata)\u001b[0m\n\u001b[1;32m   1353\u001b[0m     \u001b[0;32mif\u001b[0m \u001b[0mhandle\u001b[0m \u001b[0;32mis\u001b[0m \u001b[0;32mNone\u001b[0m\u001b[0;34m:\u001b[0m\u001b[0;34m\u001b[0m\u001b[0m\n\u001b[1;32m   1354\u001b[0m       return self._do_call(_run_fn, self._session, feeds, fetches, targets,\n\u001b[0;32m-> 1355\u001b[0;31m                            options, run_metadata)\n\u001b[0m\u001b[1;32m   1356\u001b[0m     \u001b[0;32melse\u001b[0m\u001b[0;34m:\u001b[0m\u001b[0;34m\u001b[0m\u001b[0m\n\u001b[1;32m   1357\u001b[0m       \u001b[0;32mreturn\u001b[0m \u001b[0mself\u001b[0m\u001b[0;34m.\u001b[0m\u001b[0m_do_call\u001b[0m\u001b[0;34m(\u001b[0m\u001b[0m_prun_fn\u001b[0m\u001b[0;34m,\u001b[0m \u001b[0mself\u001b[0m\u001b[0;34m.\u001b[0m\u001b[0m_session\u001b[0m\u001b[0;34m,\u001b[0m \u001b[0mhandle\u001b[0m\u001b[0;34m,\u001b[0m \u001b[0mfeeds\u001b[0m\u001b[0;34m,\u001b[0m \u001b[0mfetches\u001b[0m\u001b[0;34m)\u001b[0m\u001b[0;34m\u001b[0m\u001b[0m\n",
      "\u001b[0;32m/usr/local/lib/python3.5/dist-packages/tensorflow/python/client/session.py\u001b[0m in \u001b[0;36m_do_call\u001b[0;34m(self, fn, *args)\u001b[0m\n\u001b[1;32m   1372\u001b[0m         \u001b[0;32mexcept\u001b[0m \u001b[0mKeyError\u001b[0m\u001b[0;34m:\u001b[0m\u001b[0;34m\u001b[0m\u001b[0m\n\u001b[1;32m   1373\u001b[0m           \u001b[0;32mpass\u001b[0m\u001b[0;34m\u001b[0m\u001b[0m\n\u001b[0;32m-> 1374\u001b[0;31m       \u001b[0;32mraise\u001b[0m \u001b[0mtype\u001b[0m\u001b[0;34m(\u001b[0m\u001b[0me\u001b[0m\u001b[0;34m)\u001b[0m\u001b[0;34m(\u001b[0m\u001b[0mnode_def\u001b[0m\u001b[0;34m,\u001b[0m \u001b[0mop\u001b[0m\u001b[0;34m,\u001b[0m \u001b[0mmessage\u001b[0m\u001b[0;34m)\u001b[0m\u001b[0;34m\u001b[0m\u001b[0m\n\u001b[0m\u001b[1;32m   1375\u001b[0m \u001b[0;34m\u001b[0m\u001b[0m\n\u001b[1;32m   1376\u001b[0m   \u001b[0;32mdef\u001b[0m \u001b[0m_extend_graph\u001b[0m\u001b[0;34m(\u001b[0m\u001b[0mself\u001b[0m\u001b[0;34m)\u001b[0m\u001b[0;34m:\u001b[0m\u001b[0;34m\u001b[0m\u001b[0m\n",
      "\u001b[0;31mInvalidArgumentError\u001b[0m: TensorArray dtype is double but Op is trying to write dtype float.\n\t [[Node: map/while/TensorArrayWrite/TensorArrayWriteV3 = TensorArrayWriteV3[T=DT_FLOAT, _class=[\"loc:@map/while/truediv\"], _device=\"/job:localhost/replica:0/task:0/device:GPU:0\"](map/while/TensorArrayWrite/TensorArrayWriteV3/Enter, map/while/Identity, map/while/truediv, map/while/Switch_1:1)]]\n\t [[Node: OptimizeLoss/gradients/map/while/Rotation_5/stack_1_grad/tuple/group_deps/_3046 = _Recv[client_terminated=false, recv_device=\"/job:localhost/replica:0/task:0/device:CPU:0\", send_device=\"/job:localhost/replica:0/task:0/device:GPU:0\", send_device_incarnation=1, tensor_name=\"edge_21411...group_deps\", tensor_type=DT_FLOAT, _device=\"/job:localhost/replica:0/task:0/device:CPU:0\"](^_cloopOptimizeLoss/gradients/map/while/Rotation/MatrixSetDiag_grad/zeros/_289)]]\n\nCaused by op 'map/while/TensorArrayWrite/TensorArrayWriteV3', defined at:\n  File \"/usr/lib/python3.5/runpy.py\", line 184, in _run_module_as_main\n    \"__main__\", mod_spec)\n  File \"/usr/lib/python3.5/runpy.py\", line 85, in _run_code\n    exec(code, run_globals)\n  File \"/usr/local/lib/python3.5/dist-packages/ipykernel_launcher.py\", line 16, in <module>\n    app.launch_new_instance()\n  File \"/usr/local/lib/python3.5/dist-packages/traitlets/config/application.py\", line 664, in launch_instance\n    app.start()\n  File \"/usr/local/lib/python3.5/dist-packages/ipykernel/kernelapp.py\", line 619, in start\n    self.io_loop.start()\n  File \"/usr/local/lib/python3.5/dist-packages/tornado/platform/asyncio.py\", line 199, in start\n    self.asyncio_loop.run_forever()\n  File \"/usr/lib/python3.5/asyncio/base_events.py\", line 345, in run_forever\n    self._run_once()\n  File \"/usr/lib/python3.5/asyncio/base_events.py\", line 1312, in _run_once\n    handle._run()\n  File \"/usr/lib/python3.5/asyncio/events.py\", line 125, in _run\n    self._callback(*self._args)\n  File \"/usr/local/lib/python3.5/dist-packages/tornado/ioloop.py\", line 688, in <lambda>\n    lambda f: self._run_callback(functools.partial(callback, future))\n  File \"/usr/local/lib/python3.5/dist-packages/tornado/ioloop.py\", line 741, in _run_callback\n    ret = callback()\n  File \"/usr/local/lib/python3.5/dist-packages/tornado/gen.py\", line 814, in inner\n    self.ctx_run(self.run)\n  File \"/usr/local/lib/python3.5/dist-packages/tornado/gen.py\", line 162, in _fake_ctx_run\n    return f(*args, **kw)\n  File \"/usr/local/lib/python3.5/dist-packages/tornado/gen.py\", line 775, in run\n    yielded = self.gen.send(value)\n  File \"/usr/local/lib/python3.5/dist-packages/ipykernel/kernelbase.py\", line 361, in process_one\n    yield gen.maybe_future(dispatch(*args))\n  File \"/usr/local/lib/python3.5/dist-packages/tornado/gen.py\", line 234, in wrapper\n    yielded = ctx_run(next, result)\n  File \"/usr/local/lib/python3.5/dist-packages/tornado/gen.py\", line 162, in _fake_ctx_run\n    return f(*args, **kw)\n  File \"/usr/local/lib/python3.5/dist-packages/ipykernel/kernelbase.py\", line 261, in dispatch_shell\n    yield gen.maybe_future(handler(stream, idents, msg))\n  File \"/usr/local/lib/python3.5/dist-packages/tornado/gen.py\", line 234, in wrapper\n    yielded = ctx_run(next, result)\n  File \"/usr/local/lib/python3.5/dist-packages/tornado/gen.py\", line 162, in _fake_ctx_run\n    return f(*args, **kw)\n  File \"/usr/local/lib/python3.5/dist-packages/ipykernel/kernelbase.py\", line 541, in execute_request\n    user_expressions, allow_stdin,\n  File \"/usr/local/lib/python3.5/dist-packages/tornado/gen.py\", line 234, in wrapper\n    yielded = ctx_run(next, result)\n  File \"/usr/local/lib/python3.5/dist-packages/tornado/gen.py\", line 162, in _fake_ctx_run\n    return f(*args, **kw)\n  File \"/usr/local/lib/python3.5/dist-packages/ipykernel/ipkernel.py\", line 302, in do_execute\n    res = shell.run_cell(code, store_history=store_history, silent=silent)\n  File \"/usr/local/lib/python3.5/dist-packages/ipykernel/zmqshell.py\", line 539, in run_cell\n    return super(ZMQInteractiveShell, self).run_cell(*args, **kwargs)\n  File \"/usr/local/lib/python3.5/dist-packages/IPython/core/interactiveshell.py\", line 2855, in run_cell\n    raw_cell, store_history, silent, shell_futures)\n  File \"/usr/local/lib/python3.5/dist-packages/IPython/core/interactiveshell.py\", line 2881, in _run_cell\n    return runner(coro)\n  File \"/usr/local/lib/python3.5/dist-packages/IPython/core/async_helpers.py\", line 68, in _pseudo_sync_runner\n    coro.send(None)\n  File \"/usr/local/lib/python3.5/dist-packages/IPython/core/interactiveshell.py\", line 3058, in run_cell_async\n    interactivity=interactivity, compiler=compiler, result=result)\n  File \"/usr/local/lib/python3.5/dist-packages/IPython/core/interactiveshell.py\", line 3249, in run_ast_nodes\n    if (await self.run_code(code, result,  async_=asy)):\n  File \"/usr/local/lib/python3.5/dist-packages/IPython/core/interactiveshell.py\", line 3326, in run_code\n    exec(code_obj, self.user_global_ns, self.user_ns)\n  File \"<ipython-input-150-5ef9cf65a141>\", line 17, in <module>\n    learner.train_circuit(X=train_x, Y=train_y, steps=steps, batch_size=batch_size)\n  File \"/usr/local/lib/python3.5/dist-packages/qmlt/tf/learner.py\", line 561, in train_circuit\n    self.train(input_fn=input_fn, hooks=myhooks, steps=steps)\n  File \"/usr/local/lib/python3.5/dist-packages/tensorflow/python/estimator/estimator.py\", line 352, in train\n    loss = self._train_model(input_fn, hooks, saving_listeners)\n  File \"/usr/local/lib/python3.5/dist-packages/tensorflow/python/estimator/estimator.py\", line 812, in _train_model\n    features, labels, model_fn_lib.ModeKeys.TRAIN, self.config)\n  File \"/usr/local/lib/python3.5/dist-packages/tensorflow/python/estimator/estimator.py\", line 793, in _call_model_fn\n    model_fn_results = self._model_fn(features=features, **kwargs)\n  File \"/usr/local/lib/python3.5/dist-packages/qmlt/tf/learner.py\", line 504, in _model_fn\n    mode=mode)\n  File \"/usr/local/lib/python3.5/dist-packages/qmlt/tf/learner.py\", line 345, in _qcv_model_fn\n    outps = circuit(X=X)\n  File \"<ipython-input-146-8fdb2e7faab8>\", line 155, in circuit\n    return single_circuit(X)\n  File \"<ipython-input-146-8fdb2e7faab8>\", line 151, in single_circuit\n    _x = tf.map_fn(lambda x: conv_4x4_layer(x, params), input_x)\n  File \"/usr/local/lib/python3.5/dist-packages/tensorflow/python/ops/functional_ops.py\", line 413, in map_fn\n    swap_memory=swap_memory)\n  File \"/usr/local/lib/python3.5/dist-packages/tensorflow/python/ops/control_flow_ops.py\", line 3096, in while_loop\n    result = loop_context.BuildLoop(cond, body, loop_vars, shape_invariants)\n  File \"/usr/local/lib/python3.5/dist-packages/tensorflow/python/ops/control_flow_ops.py\", line 2874, in BuildLoop\n    pred, body, original_loop_vars, loop_vars, shape_invariants)\n  File \"/usr/local/lib/python3.5/dist-packages/tensorflow/python/ops/control_flow_ops.py\", line 2814, in _BuildLoop\n    body_result = body(*packed_vars_for_body)\n  File \"/usr/local/lib/python3.5/dist-packages/tensorflow/python/ops/functional_ops.py\", line 406, in compute\n    tas = [ta.write(i, value) for (ta, value) in zip(tas, flat_fn_values)]\n  File \"/usr/local/lib/python3.5/dist-packages/tensorflow/python/ops/functional_ops.py\", line 406, in <listcomp>\n    tas = [ta.write(i, value) for (ta, value) in zip(tas, flat_fn_values)]\n  File \"/usr/local/lib/python3.5/dist-packages/tensorflow/python/util/tf_should_use.py\", line 118, in wrapped\n    return _add_should_use_warning(fn(*args, **kwargs))\n  File \"/usr/local/lib/python3.5/dist-packages/tensorflow/python/ops/tensor_array_ops.py\", line 879, in write\n    return self._implementation.write(index, value, name=name)\n  File \"/usr/local/lib/python3.5/dist-packages/tensorflow/python/util/tf_should_use.py\", line 118, in wrapped\n    return _add_should_use_warning(fn(*args, **kwargs))\n  File \"/usr/local/lib/python3.5/dist-packages/tensorflow/python/ops/tensor_array_ops.py\", line 278, in write\n    name=name)\n  File \"/usr/local/lib/python3.5/dist-packages/tensorflow/python/ops/gen_data_flow_ops.py\", line 5071, in _tensor_array_write_v3\n    flow_in=flow_in, name=name)\n  File \"/usr/local/lib/python3.5/dist-packages/tensorflow/python/framework/op_def_library.py\", line 787, in _apply_op_helper\n    op_def=op_def)\n  File \"/usr/local/lib/python3.5/dist-packages/tensorflow/python/framework/ops.py\", line 3271, in create_op\n    op_def=op_def)\n  File \"/usr/local/lib/python3.5/dist-packages/tensorflow/python/framework/ops.py\", line 1650, in __init__\n    self._traceback = self._graph._extract_stack()  # pylint: disable=protected-access\n\nInvalidArgumentError (see above for traceback): TensorArray dtype is double but Op is trying to write dtype float.\n\t [[Node: map/while/TensorArrayWrite/TensorArrayWriteV3 = TensorArrayWriteV3[T=DT_FLOAT, _class=[\"loc:@map/while/truediv\"], _device=\"/job:localhost/replica:0/task:0/device:GPU:0\"](map/while/TensorArrayWrite/TensorArrayWriteV3/Enter, map/while/Identity, map/while/truediv, map/while/Switch_1:1)]]\n\t [[Node: OptimizeLoss/gradients/map/while/Rotation_5/stack_1_grad/tuple/group_deps/_3046 = _Recv[client_terminated=false, recv_device=\"/job:localhost/replica:0/task:0/device:CPU:0\", send_device=\"/job:localhost/replica:0/task:0/device:GPU:0\", send_device_incarnation=1, tensor_name=\"edge_21411...group_deps\", tensor_type=DT_FLOAT, _device=\"/job:localhost/replica:0/task:0/device:CPU:0\"](^_cloopOptimizeLoss/gradients/map/while/Rotation/MatrixSetDiag_grad/zeros/_289)]]\n"
     ]
    }
   ],
   "source": [
    "lr = 0.035\n",
    "steps = 100\n",
    "batch_size = 2\n",
    "\n",
    "hyperparams = {'circuit': circuit,\n",
    "               'task': 'supervised',\n",
    "               'loss': myloss,\n",
    "               'optimizer': 'SGD',\n",
    "               'init_learning_rate': lr,\n",
    "               'log_every': 1,\n",
    "               'warm_start': False}\n",
    "\n",
    "print('trainX = {}'.format(train_x.shape))\n",
    "\n",
    "learner = CircuitLearner(hyperparams=hyperparams)\n",
    "\n",
    "learner.train_circuit(X=train_x, Y=train_y, steps=steps, batch_size=batch_size)\n",
    "\n",
    "test_score = learner.score_circuit(X=test_x, Y=test_y,\n",
    "                                   outputs_to_predictions=outputs_to_predictions)\n",
    "\n",
    "test_acc.append(test_score['accuracy'])\n",
    "test_loss.append(test_score['loss'])"
   ]
  },
  {
   "cell_type": "code",
   "execution_count": null,
   "id": "9779aa25",
   "metadata": {},
   "outputs": [],
   "source": [
    "tensors = tf.constant(train_x)"
   ]
  },
  {
   "cell_type": "code",
   "execution_count": null,
   "id": "412984f5",
   "metadata": {},
   "outputs": [],
   "source": [
    "tensors.shape[0]."
   ]
  },
  {
   "cell_type": "code",
   "execution_count": null,
   "id": "a5f1a698",
   "metadata": {},
   "outputs": [],
   "source": []
  },
  {
   "cell_type": "code",
   "execution_count": null,
   "id": "c4bbc8ad",
   "metadata": {},
   "outputs": [],
   "source": []
  }
 ],
 "metadata": {
  "kernelspec": {
   "display_name": "Python 3",
   "language": "python",
   "name": "python3"
  },
  "language_info": {
   "codemirror_mode": {
    "name": "ipython",
    "version": 3
   },
   "file_extension": ".py",
   "mimetype": "text/x-python",
   "name": "python",
   "nbconvert_exporter": "python",
   "pygments_lexer": "ipython3",
   "version": "3.5.2"
  }
 },
 "nbformat": 4,
 "nbformat_minor": 5
}
